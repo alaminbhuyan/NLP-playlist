{
 "cells": [
  {
   "cell_type": "code",
   "execution_count": 1,
   "id": "547e4073-5fb0-4adf-b6ec-846285f7b9f4",
   "metadata": {},
   "outputs": [],
   "source": [
    "import numpy as np\n",
    "import pandas as pd\n",
    "import matplotlib.pyplot as plt\n",
    "import seaborn as sns\n",
    "\n",
    "import re\n",
    "import string\n",
    "import contractions\n",
    "\n",
    "import nltk\n",
    "from nltk.corpus import stopwords\n",
    "from nltk.tokenize import word_tokenize\n",
    "from nltk.stem import PorterStemmer\n",
    "\n",
    "from sklearn.pipeline import Pipeline\n",
    "from sklearn.preprocessing import LabelEncoder\n",
    "from sklearn.model_selection import train_test_split\n",
    "from sklearn.feature_extraction.text import TfidfVectorizer\n",
    "from sklearn.metrics import confusion_matrix, accuracy_score\n",
    "\n",
    "from sklearn.linear_model import LogisticRegression\n",
    "from sklearn.naive_bayes import MultinomialNB\n",
    "from sklearn.ensemble import RandomForestClassifier"
   ]
  },
  {
   "cell_type": "markdown",
   "id": "c2b4e699-5176-4b87-b128-c76a942f3f90",
   "metadata": {},
   "source": [
    "#### Dataset Link: https://www.kaggle.com/datasets/anu0012/hotel-review?select=train.csv"
   ]
  },
  {
   "cell_type": "code",
   "execution_count": 2,
   "id": "f6b83747-bf30-42e9-942d-0c943c53d68a",
   "metadata": {},
   "outputs": [
    {
     "data": {
      "text/html": [
       "<div>\n",
       "<style scoped>\n",
       "    .dataframe tbody tr th:only-of-type {\n",
       "        vertical-align: middle;\n",
       "    }\n",
       "\n",
       "    .dataframe tbody tr th {\n",
       "        vertical-align: top;\n",
       "    }\n",
       "\n",
       "    .dataframe thead th {\n",
       "        text-align: right;\n",
       "    }\n",
       "</style>\n",
       "<table border=\"1\" class=\"dataframe\">\n",
       "  <thead>\n",
       "    <tr style=\"text-align: right;\">\n",
       "      <th></th>\n",
       "      <th>User_ID</th>\n",
       "      <th>Description</th>\n",
       "      <th>Browser_Used</th>\n",
       "      <th>Device_Used</th>\n",
       "      <th>Is_Response</th>\n",
       "    </tr>\n",
       "  </thead>\n",
       "  <tbody>\n",
       "    <tr>\n",
       "      <th>0</th>\n",
       "      <td>id10326</td>\n",
       "      <td>The room was kind of clean but had a VERY stro...</td>\n",
       "      <td>Edge</td>\n",
       "      <td>Mobile</td>\n",
       "      <td>not happy</td>\n",
       "    </tr>\n",
       "    <tr>\n",
       "      <th>1</th>\n",
       "      <td>id10327</td>\n",
       "      <td>I stayed at the Crown Plaza April -- - April -...</td>\n",
       "      <td>Internet Explorer</td>\n",
       "      <td>Mobile</td>\n",
       "      <td>not happy</td>\n",
       "    </tr>\n",
       "    <tr>\n",
       "      <th>2</th>\n",
       "      <td>id10328</td>\n",
       "      <td>I booked this hotel through Hotwire at the low...</td>\n",
       "      <td>Mozilla</td>\n",
       "      <td>Tablet</td>\n",
       "      <td>not happy</td>\n",
       "    </tr>\n",
       "    <tr>\n",
       "      <th>3</th>\n",
       "      <td>id10329</td>\n",
       "      <td>Stayed here with husband and sons on the way t...</td>\n",
       "      <td>InternetExplorer</td>\n",
       "      <td>Desktop</td>\n",
       "      <td>happy</td>\n",
       "    </tr>\n",
       "    <tr>\n",
       "      <th>4</th>\n",
       "      <td>id10330</td>\n",
       "      <td>My girlfriends and I stayed here to celebrate ...</td>\n",
       "      <td>Edge</td>\n",
       "      <td>Tablet</td>\n",
       "      <td>not happy</td>\n",
       "    </tr>\n",
       "  </tbody>\n",
       "</table>\n",
       "</div>"
      ],
      "text/plain": [
       "   User_ID                                        Description  \\\n",
       "0  id10326  The room was kind of clean but had a VERY stro...   \n",
       "1  id10327  I stayed at the Crown Plaza April -- - April -...   \n",
       "2  id10328  I booked this hotel through Hotwire at the low...   \n",
       "3  id10329  Stayed here with husband and sons on the way t...   \n",
       "4  id10330  My girlfriends and I stayed here to celebrate ...   \n",
       "\n",
       "        Browser_Used Device_Used Is_Response  \n",
       "0               Edge      Mobile   not happy  \n",
       "1  Internet Explorer      Mobile   not happy  \n",
       "2            Mozilla      Tablet   not happy  \n",
       "3   InternetExplorer     Desktop       happy  \n",
       "4               Edge      Tablet   not happy  "
      ]
     },
     "execution_count": 2,
     "metadata": {},
     "output_type": "execute_result"
    }
   ],
   "source": [
    "df = pd.read_csv(\"datasets/train.csv\")\n",
    "\n",
    "df.head()"
   ]
  },
  {
   "cell_type": "code",
   "execution_count": 3,
   "id": "b8dea2ac-e15c-4adf-8fd0-db9f8d100a35",
   "metadata": {},
   "outputs": [
    {
     "name": "stdout",
     "output_type": "stream",
     "text": [
      "<class 'pandas.core.frame.DataFrame'>\n",
      "RangeIndex: 38932 entries, 0 to 38931\n",
      "Data columns (total 5 columns):\n",
      " #   Column        Non-Null Count  Dtype \n",
      "---  ------        --------------  ----- \n",
      " 0   User_ID       38932 non-null  object\n",
      " 1   Description   38932 non-null  object\n",
      " 2   Browser_Used  38932 non-null  object\n",
      " 3   Device_Used   38932 non-null  object\n",
      " 4   Is_Response   38932 non-null  object\n",
      "dtypes: object(5)\n",
      "memory usage: 1.5+ MB\n"
     ]
    }
   ],
   "source": [
    "# Check the info\n",
    "\n",
    "df.info()"
   ]
  },
  {
   "cell_type": "code",
   "execution_count": 4,
   "id": "a3a46e2c-189c-4b0a-aa9d-a581884c9f42",
   "metadata": {},
   "outputs": [
    {
     "data": {
      "text/plain": [
       "(38932, 5)"
      ]
     },
     "execution_count": 4,
     "metadata": {},
     "output_type": "execute_result"
    }
   ],
   "source": [
    "# Check the shape\n",
    "\n",
    "df.shape"
   ]
  },
  {
   "cell_type": "code",
   "execution_count": 5,
   "id": "235dc069-4249-4659-a2e1-4d2c37a4303b",
   "metadata": {},
   "outputs": [
    {
     "data": {
      "text/plain": [
       "User_ID         0\n",
       "Description     0\n",
       "Browser_Used    0\n",
       "Device_Used     0\n",
       "Is_Response     0\n",
       "dtype: int64"
      ]
     },
     "execution_count": 5,
     "metadata": {},
     "output_type": "execute_result"
    }
   ],
   "source": [
    "# Check the null value\n",
    "\n",
    "df.isnull().sum()"
   ]
  },
  {
   "cell_type": "code",
   "execution_count": 6,
   "id": "ac3d7045-0355-4f17-acda-a2b3cc5bb256",
   "metadata": {},
   "outputs": [
    {
     "data": {
      "text/plain": [
       "0"
      ]
     },
     "execution_count": 6,
     "metadata": {},
     "output_type": "execute_result"
    }
   ],
   "source": [
    "# Check the duplicated values\n",
    "\n",
    "df.duplicated().sum()"
   ]
  },
  {
   "cell_type": "code",
   "execution_count": 7,
   "id": "a1c0d777-fb57-4422-8259-ddb37af34964",
   "metadata": {},
   "outputs": [
    {
     "data": {
      "text/html": [
       "<div>\n",
       "<style scoped>\n",
       "    .dataframe tbody tr th:only-of-type {\n",
       "        vertical-align: middle;\n",
       "    }\n",
       "\n",
       "    .dataframe tbody tr th {\n",
       "        vertical-align: top;\n",
       "    }\n",
       "\n",
       "    .dataframe thead th {\n",
       "        text-align: right;\n",
       "    }\n",
       "</style>\n",
       "<table border=\"1\" class=\"dataframe\">\n",
       "  <thead>\n",
       "    <tr style=\"text-align: right;\">\n",
       "      <th></th>\n",
       "      <th>User_ID</th>\n",
       "      <th>Description</th>\n",
       "      <th>Browser_Used</th>\n",
       "      <th>Device_Used</th>\n",
       "      <th>Is_Response</th>\n",
       "    </tr>\n",
       "  </thead>\n",
       "  <tbody>\n",
       "    <tr>\n",
       "      <th>count</th>\n",
       "      <td>38932</td>\n",
       "      <td>38932</td>\n",
       "      <td>38932</td>\n",
       "      <td>38932</td>\n",
       "      <td>38932</td>\n",
       "    </tr>\n",
       "    <tr>\n",
       "      <th>unique</th>\n",
       "      <td>38932</td>\n",
       "      <td>38932</td>\n",
       "      <td>11</td>\n",
       "      <td>3</td>\n",
       "      <td>2</td>\n",
       "    </tr>\n",
       "    <tr>\n",
       "      <th>top</th>\n",
       "      <td>id10326</td>\n",
       "      <td>The room was kind of clean but had a VERY stro...</td>\n",
       "      <td>Firefox</td>\n",
       "      <td>Desktop</td>\n",
       "      <td>happy</td>\n",
       "    </tr>\n",
       "    <tr>\n",
       "      <th>freq</th>\n",
       "      <td>1</td>\n",
       "      <td>1</td>\n",
       "      <td>7367</td>\n",
       "      <td>15026</td>\n",
       "      <td>26521</td>\n",
       "    </tr>\n",
       "  </tbody>\n",
       "</table>\n",
       "</div>"
      ],
      "text/plain": [
       "        User_ID                                        Description  \\\n",
       "count     38932                                              38932   \n",
       "unique    38932                                              38932   \n",
       "top     id10326  The room was kind of clean but had a VERY stro...   \n",
       "freq          1                                                  1   \n",
       "\n",
       "       Browser_Used Device_Used Is_Response  \n",
       "count         38932       38932       38932  \n",
       "unique           11           3           2  \n",
       "top         Firefox     Desktop       happy  \n",
       "freq           7367       15026       26521  "
      ]
     },
     "execution_count": 7,
     "metadata": {},
     "output_type": "execute_result"
    }
   ],
   "source": [
    "df.describe()"
   ]
  },
  {
   "cell_type": "code",
   "execution_count": 8,
   "id": "7dde4294-f632-4b0a-90fa-2e5a21d0af8d",
   "metadata": {},
   "outputs": [
    {
     "data": {
      "text/html": [
       "<div>\n",
       "<style scoped>\n",
       "    .dataframe tbody tr th:only-of-type {\n",
       "        vertical-align: middle;\n",
       "    }\n",
       "\n",
       "    .dataframe tbody tr th {\n",
       "        vertical-align: top;\n",
       "    }\n",
       "\n",
       "    .dataframe thead th {\n",
       "        text-align: right;\n",
       "    }\n",
       "</style>\n",
       "<table border=\"1\" class=\"dataframe\">\n",
       "  <thead>\n",
       "    <tr style=\"text-align: right;\">\n",
       "      <th></th>\n",
       "      <th>count</th>\n",
       "      <th>unique</th>\n",
       "      <th>top</th>\n",
       "      <th>freq</th>\n",
       "    </tr>\n",
       "  </thead>\n",
       "  <tbody>\n",
       "    <tr>\n",
       "      <th>User_ID</th>\n",
       "      <td>38932</td>\n",
       "      <td>38932</td>\n",
       "      <td>id10326</td>\n",
       "      <td>1</td>\n",
       "    </tr>\n",
       "    <tr>\n",
       "      <th>Description</th>\n",
       "      <td>38932</td>\n",
       "      <td>38932</td>\n",
       "      <td>The room was kind of clean but had a VERY stro...</td>\n",
       "      <td>1</td>\n",
       "    </tr>\n",
       "    <tr>\n",
       "      <th>Browser_Used</th>\n",
       "      <td>38932</td>\n",
       "      <td>11</td>\n",
       "      <td>Firefox</td>\n",
       "      <td>7367</td>\n",
       "    </tr>\n",
       "    <tr>\n",
       "      <th>Device_Used</th>\n",
       "      <td>38932</td>\n",
       "      <td>3</td>\n",
       "      <td>Desktop</td>\n",
       "      <td>15026</td>\n",
       "    </tr>\n",
       "    <tr>\n",
       "      <th>Is_Response</th>\n",
       "      <td>38932</td>\n",
       "      <td>2</td>\n",
       "      <td>happy</td>\n",
       "      <td>26521</td>\n",
       "    </tr>\n",
       "  </tbody>\n",
       "</table>\n",
       "</div>"
      ],
      "text/plain": [
       "              count unique                                                top  \\\n",
       "User_ID       38932  38932                                            id10326   \n",
       "Description   38932  38932  The room was kind of clean but had a VERY stro...   \n",
       "Browser_Used  38932     11                                            Firefox   \n",
       "Device_Used   38932      3                                            Desktop   \n",
       "Is_Response   38932      2                                              happy   \n",
       "\n",
       "               freq  \n",
       "User_ID           1  \n",
       "Description       1  \n",
       "Browser_Used   7367  \n",
       "Device_Used   15026  \n",
       "Is_Response   26521  "
      ]
     },
     "execution_count": 8,
     "metadata": {},
     "output_type": "execute_result"
    }
   ],
   "source": [
    "df.describe().transpose()"
   ]
  },
  {
   "cell_type": "markdown",
   "id": "849abd75-a675-4089-ae27-b05ebb43921a",
   "metadata": {},
   "source": [
    "## Data Cleaning and EDA"
   ]
  },
  {
   "cell_type": "code",
   "execution_count": 9,
   "id": "76337de5-3222-4836-a87c-378f33a97893",
   "metadata": {},
   "outputs": [
    {
     "data": {
      "text/html": [
       "<div>\n",
       "<style scoped>\n",
       "    .dataframe tbody tr th:only-of-type {\n",
       "        vertical-align: middle;\n",
       "    }\n",
       "\n",
       "    .dataframe tbody tr th {\n",
       "        vertical-align: top;\n",
       "    }\n",
       "\n",
       "    .dataframe thead th {\n",
       "        text-align: right;\n",
       "    }\n",
       "</style>\n",
       "<table border=\"1\" class=\"dataframe\">\n",
       "  <thead>\n",
       "    <tr style=\"text-align: right;\">\n",
       "      <th></th>\n",
       "      <th>Total Null count</th>\n",
       "      <th>Percentage</th>\n",
       "    </tr>\n",
       "  </thead>\n",
       "  <tbody>\n",
       "    <tr>\n",
       "      <th>User_ID</th>\n",
       "      <td>0</td>\n",
       "      <td>0.0</td>\n",
       "    </tr>\n",
       "    <tr>\n",
       "      <th>Description</th>\n",
       "      <td>0</td>\n",
       "      <td>0.0</td>\n",
       "    </tr>\n",
       "    <tr>\n",
       "      <th>Browser_Used</th>\n",
       "      <td>0</td>\n",
       "      <td>0.0</td>\n",
       "    </tr>\n",
       "    <tr>\n",
       "      <th>Device_Used</th>\n",
       "      <td>0</td>\n",
       "      <td>0.0</td>\n",
       "    </tr>\n",
       "    <tr>\n",
       "      <th>Is_Response</th>\n",
       "      <td>0</td>\n",
       "      <td>0.0</td>\n",
       "    </tr>\n",
       "  </tbody>\n",
       "</table>\n",
       "</div>"
      ],
      "text/plain": [
       "              Total Null count  Percentage\n",
       "User_ID                      0         0.0\n",
       "Description                  0         0.0\n",
       "Browser_Used                 0         0.0\n",
       "Device_Used                  0         0.0\n",
       "Is_Response                  0         0.0"
      ]
     },
     "execution_count": 9,
     "metadata": {},
     "output_type": "execute_result"
    }
   ],
   "source": [
    "### Checking Missing values in the Data Set and printing the Percentage for Missing Values for Each Columns ###\n",
    "\n",
    "total_null_count = df.isnull().sum().sort_values(ascending=False)\n",
    "\n",
    "percentage = ((df.isnull().sum() / len(df) * 100 )).sort_values(ascending=False)\n",
    "\n",
    "missing_data = pd.concat(objs=[total_null_count, percentage], axis=1, keys=['Total Null count', 'Percentage'])\n",
    "\n",
    "missing_data"
   ]
  },
  {
   "cell_type": "code",
   "execution_count": 10,
   "id": "7254ec24-e1eb-4627-b559-e73e1b92b5b2",
   "metadata": {},
   "outputs": [
    {
     "data": {
      "text/plain": [
       "happy        26521\n",
       "not happy    12411\n",
       "Name: Is_Response, dtype: int64"
      ]
     },
     "execution_count": 10,
     "metadata": {},
     "output_type": "execute_result"
    }
   ],
   "source": [
    "# Check the dataset is balence or not\n",
    "\n",
    "df['Is_Response'].value_counts()"
   ]
  },
  {
   "cell_type": "code",
   "execution_count": 11,
   "id": "69b76f13-c28e-4c9e-bb14-25653fcd5e44",
   "metadata": {},
   "outputs": [
    {
     "data": {
      "image/png": "[encoded data removed]",
      "text/plain": [
       "<Figure size 504x576 with 1 Axes>"
      ]
     },
     "metadata": {
      "needs_background": "light"
     },
     "output_type": "display_data"
    }
   ],
   "source": [
    "### Checking for the Distribution of Is_response column ###\n",
    "\n",
    "plt.figure(figsize=(7,8))\n",
    "sns.countplot(x='Is_Response', data=df)\n",
    "plt.title('Percentage Distributions by review type')\n",
    "plt.show()"
   ]
  },
  {
   "cell_type": "code",
   "execution_count": 12,
   "id": "6c66b859-10ca-4b67-a4b2-2351658643e5",
   "metadata": {},
   "outputs": [
    {
     "name": "stdout",
     "output_type": "stream",
     "text": [
      "Percentage for default\n",
      "\n",
      "happy        68.12\n",
      "not happy    31.88\n",
      "Name: Is_Response, dtype: float64\n"
     ]
    },
    {
     "data": {
      "image/png": "[encoded data removed]",
      "text/plain": [
       "<Figure size 432x288 with 1 Axes>"
      ]
     },
     "metadata": {
      "needs_background": "light"
     },
     "output_type": "display_data"
    }
   ],
   "source": [
    "print('Percentage for default\\n')\n",
    "\n",
    "print(round(df.Is_Response.value_counts(normalize=True)*100, 2))\n",
    "\n",
    "round(df.Is_Response.value_counts(normalize=True)*100, 2).plot(kind='bar')\n",
    "\n",
    "plt.title('Percentage Distributions by review type')\n",
    "\n",
    "plt.show()"
   ]
  },
  {
   "cell_type": "code",
   "execution_count": 13,
   "id": "6afad65e-0710-4644-98cf-d66c7e268ece",
   "metadata": {},
   "outputs": [],
   "source": [
    "# Remove unnecessary columns\n",
    "\n",
    "df.drop(columns=['User_ID', 'Browser_Used', 'Device_Used'], inplace=True)"
   ]
  },
  {
   "cell_type": "code",
   "execution_count": 14,
   "id": "59e83e43-30ad-4ad5-9ff9-f7959c7ea1d8",
   "metadata": {},
   "outputs": [
    {
     "data": {
      "text/html": [
       "<div>\n",
       "<style scoped>\n",
       "    .dataframe tbody tr th:only-of-type {\n",
       "        vertical-align: middle;\n",
       "    }\n",
       "\n",
       "    .dataframe tbody tr th {\n",
       "        vertical-align: top;\n",
       "    }\n",
       "\n",
       "    .dataframe thead th {\n",
       "        text-align: right;\n",
       "    }\n",
       "</style>\n",
       "<table border=\"1\" class=\"dataframe\">\n",
       "  <thead>\n",
       "    <tr style=\"text-align: right;\">\n",
       "      <th></th>\n",
       "      <th>Description</th>\n",
       "      <th>Is_Response</th>\n",
       "    </tr>\n",
       "  </thead>\n",
       "  <tbody>\n",
       "    <tr>\n",
       "      <th>0</th>\n",
       "      <td>The room was kind of clean but had a VERY stro...</td>\n",
       "      <td>not happy</td>\n",
       "    </tr>\n",
       "    <tr>\n",
       "      <th>1</th>\n",
       "      <td>I stayed at the Crown Plaza April -- - April -...</td>\n",
       "      <td>not happy</td>\n",
       "    </tr>\n",
       "    <tr>\n",
       "      <th>2</th>\n",
       "      <td>I booked this hotel through Hotwire at the low...</td>\n",
       "      <td>not happy</td>\n",
       "    </tr>\n",
       "    <tr>\n",
       "      <th>3</th>\n",
       "      <td>Stayed here with husband and sons on the way t...</td>\n",
       "      <td>happy</td>\n",
       "    </tr>\n",
       "    <tr>\n",
       "      <th>4</th>\n",
       "      <td>My girlfriends and I stayed here to celebrate ...</td>\n",
       "      <td>not happy</td>\n",
       "    </tr>\n",
       "  </tbody>\n",
       "</table>\n",
       "</div>"
      ],
      "text/plain": [
       "                                         Description Is_Response\n",
       "0  The room was kind of clean but had a VERY stro...   not happy\n",
       "1  I stayed at the Crown Plaza April -- - April -...   not happy\n",
       "2  I booked this hotel through Hotwire at the low...   not happy\n",
       "3  Stayed here with husband and sons on the way t...       happy\n",
       "4  My girlfriends and I stayed here to celebrate ...   not happy"
      ]
     },
     "execution_count": 14,
     "metadata": {},
     "output_type": "execute_result"
    }
   ],
   "source": [
    "df.head()"
   ]
  },
  {
   "cell_type": "code",
   "execution_count": 15,
   "id": "013d46ef-d885-497f-a185-cf9cc8a6f699",
   "metadata": {},
   "outputs": [
    {
     "data": {
      "text/plain": [
       "\"The room was kind of clean but had a VERY strong smell of dogs. Generally below average but ok for a overnight stay if you're not too fussy. Would consider staying again if the price was right. Breakfast was free and just about better than nothing.\""
      ]
     },
     "execution_count": 15,
     "metadata": {},
     "output_type": "execute_result"
    }
   ],
   "source": [
    "df.loc[0, 'Description']"
   ]
  },
  {
   "cell_type": "code",
   "execution_count": 16,
   "id": "b97d134e-364f-4dbe-9fab-514cf4e5387a",
   "metadata": {},
   "outputs": [
    {
     "data": {
      "text/plain": [
       "\"I stayed at the Crown Plaza April -- - April --, ----. The staff was friendly and attentive. The elevators are tiny (about -' by -'). The food in the restaurant was delicious but priced a little on the high side. Of course this is Washington DC. There is no pool and little for children to do. My room on the fifth floor had two comfortable beds and plenty of space for one person. The TV is a little small by todays standards with a limited number of channels. There was a small bit of mold in the bathtub area that could have been removed with a little bleach. It appeared the carpets were not vacummed every day. I reported a light bulb was burned out. It was never replaced. Ice machines are on the odd numbered floors, but the one on my floor did not work. I encountered some staff in the elevator one evening and I mentioned the ice machine to them. Severel hours later a maid appeared at my door with ice and two mints. I'm not sure how they knew what room I was in. That was a little unnerving! I would stay here again for business, but would not come here on vacation.\""
      ]
     },
     "execution_count": 16,
     "metadata": {},
     "output_type": "execute_result"
    }
   ],
   "source": [
    "df.iloc[1, 0]"
   ]
  },
  {
   "cell_type": "code",
   "execution_count": 17,
   "id": "a491427b-e936-4087-8ef6-a516922dd571",
   "metadata": {},
   "outputs": [],
   "source": [
    "# Handeling contractions words\n",
    "\n",
    "def expand_contractions_words(text):\n",
    "    text = contractions.fix(s=text)\n",
    "    return text"
   ]
  },
  {
   "cell_type": "code",
   "execution_count": 18,
   "id": "47d829ef-eb27-463b-a68a-ae4bb2e867ae",
   "metadata": {},
   "outputs": [],
   "source": [
    "df['Description'] = df['Description'].apply(func=expand_contractions_words)"
   ]
  },
  {
   "cell_type": "code",
   "execution_count": 19,
   "id": "12feabe0-ed3f-4f0e-bdc6-af4d12c420d9",
   "metadata": {},
   "outputs": [
    {
     "data": {
      "text/plain": [
       "\"I stayed at the Crown Plaza April -- - April --, ----. The staff was friendly and attentive. The elevators are tiny (about -' by -'). The food in the restaurant was delicious but priced a little on the high side. Of course this is Washington DC. There is no pool and little for children to do. My room on the fifth floor had two comfortable beds and plenty of space for one person. The TV is a little small by todays standards with a limited number of channels. There was a small bit of mold in the bathtub area that could have been removed with a little bleach. It appeared the carpets were not vacummed every day. I reported a light bulb was burned out. It was never replaced. Ice machines are on the odd numbered floors, but the one on my floor did not work. I encountered some staff in the elevator one evening and I mentioned the ice machine to them. Severel hours later a maid appeared at my door with ice and two mints. I am not sure how they knew what room I was in. That was a little unnerving! I would stay here again for business, but would not come here on vacation.\""
      ]
     },
     "execution_count": 19,
     "metadata": {},
     "output_type": "execute_result"
    }
   ],
   "source": [
    "df.iloc[1, 0]"
   ]
  },
  {
   "cell_type": "code",
   "execution_count": 20,
   "id": "4a9c4061-ed95-469f-b971-b902aa61fdb7",
   "metadata": {},
   "outputs": [],
   "source": [
    "# This functoin will remove all the punctuation, white-space, digits\n",
    "\n",
    "def text_clean_part1(text):\n",
    "    text = text.lower()\n",
    "    text = re.sub(pattern=r\"[^a-zA-Z]\", repl=' ', string=text)\n",
    "    text = \" \".join(text.split())\n",
    "    \n",
    "    return text"
   ]
  },
  {
   "cell_type": "code",
   "execution_count": 21,
   "id": "fdbcad9a-7334-480a-893e-0b141b00ff75",
   "metadata": {},
   "outputs": [
    {
     "data": {
      "text/plain": [
       "'i stayed at the crown plaza april april the staff was friendly and attentive the elevators are tiny about by the food in the restaurant was delicious but priced a little on the high side of course this is washington dc there is no pool and little for children to do my room on the fifth floor had two comfortable beds and plenty of space for one person the tv is a little small by todays standards with a limited number of channels there was a small bit of mold in the bathtub area that could have been removed with a little bleach it appeared the carpets were not vacummed every day i reported a light bulb was burned out it was never replaced ice machines are on the odd numbered floors but the one on my floor did not work i encountered some staff in the elevator one evening and i mentioned the ice machine to them severel hours later a maid appeared at my door with ice and two mints i am not sure how they knew what room i was in that was a little unnerving i would stay here again for business but would not come here on vacation'"
      ]
     },
     "execution_count": 21,
     "metadata": {},
     "output_type": "execute_result"
    }
   ],
   "source": [
    "# Demo test\n",
    "\n",
    "text_clean_part1(text=df.iloc[1, 0])\n",
    "\n",
    "# Demo test end"
   ]
  },
  {
   "cell_type": "code",
   "execution_count": 22,
   "id": "ee7b5be4-dd20-43d9-a306-d664e060b9c5",
   "metadata": {},
   "outputs": [],
   "source": [
    "# Now apply to the entire dataset\n",
    "\n",
    "df['cleanDescription'] = df['Description'].apply(func=text_clean_part1)"
   ]
  },
  {
   "cell_type": "code",
   "execution_count": 23,
   "id": "771c238f-00c3-4bab-a712-1abb10826be5",
   "metadata": {},
   "outputs": [
    {
     "data": {
      "text/html": [
       "<div>\n",
       "<style scoped>\n",
       "    .dataframe tbody tr th:only-of-type {\n",
       "        vertical-align: middle;\n",
       "    }\n",
       "\n",
       "    .dataframe tbody tr th {\n",
       "        vertical-align: top;\n",
       "    }\n",
       "\n",
       "    .dataframe thead th {\n",
       "        text-align: right;\n",
       "    }\n",
       "</style>\n",
       "<table border=\"1\" class=\"dataframe\">\n",
       "  <thead>\n",
       "    <tr style=\"text-align: right;\">\n",
       "      <th></th>\n",
       "      <th>Description</th>\n",
       "      <th>Is_Response</th>\n",
       "      <th>cleanDescription</th>\n",
       "    </tr>\n",
       "  </thead>\n",
       "  <tbody>\n",
       "    <tr>\n",
       "      <th>0</th>\n",
       "      <td>The room was kind of clean but had a VERY stro...</td>\n",
       "      <td>not happy</td>\n",
       "      <td>the room was kind of clean but had a very stro...</td>\n",
       "    </tr>\n",
       "    <tr>\n",
       "      <th>1</th>\n",
       "      <td>I stayed at the Crown Plaza April -- - April -...</td>\n",
       "      <td>not happy</td>\n",
       "      <td>i stayed at the crown plaza april april the st...</td>\n",
       "    </tr>\n",
       "    <tr>\n",
       "      <th>2</th>\n",
       "      <td>I booked this hotel through Hotwire at the low...</td>\n",
       "      <td>not happy</td>\n",
       "      <td>i booked this hotel through hotwire at the low...</td>\n",
       "    </tr>\n",
       "    <tr>\n",
       "      <th>3</th>\n",
       "      <td>Stayed here with husband and sons on the way t...</td>\n",
       "      <td>happy</td>\n",
       "      <td>stayed here with husband and sons on the way t...</td>\n",
       "    </tr>\n",
       "    <tr>\n",
       "      <th>4</th>\n",
       "      <td>My girlfriends and I stayed here to celebrate ...</td>\n",
       "      <td>not happy</td>\n",
       "      <td>my girlfriends and i stayed here to celebrate ...</td>\n",
       "    </tr>\n",
       "    <tr>\n",
       "      <th>5</th>\n",
       "      <td>We had - rooms. One was very nice and clearly ...</td>\n",
       "      <td>happy</td>\n",
       "      <td>we had rooms one was very nice and clearly had...</td>\n",
       "    </tr>\n",
       "    <tr>\n",
       "      <th>6</th>\n",
       "      <td>My husband and I have stayed in this hotel a f...</td>\n",
       "      <td>not happy</td>\n",
       "      <td>my husband and i have stayed in this hotel a f...</td>\n",
       "    </tr>\n",
       "    <tr>\n",
       "      <th>7</th>\n",
       "      <td>My wife &amp; I stayed in this glorious city a whi...</td>\n",
       "      <td>happy</td>\n",
       "      <td>my wife i stayed in this glorious city a while...</td>\n",
       "    </tr>\n",
       "    <tr>\n",
       "      <th>8</th>\n",
       "      <td>My boyfriend and I stayed at the Fairmont on a...</td>\n",
       "      <td>happy</td>\n",
       "      <td>my boyfriend and i stayed at the fairmont on a...</td>\n",
       "    </tr>\n",
       "    <tr>\n",
       "      <th>9</th>\n",
       "      <td>Wonderful staff, great location, but it was de...</td>\n",
       "      <td>not happy</td>\n",
       "      <td>wonderful staff great location but it was defi...</td>\n",
       "    </tr>\n",
       "    <tr>\n",
       "      <th>10</th>\n",
       "      <td>Steps off Times Square, nice rooms, stayed - n...</td>\n",
       "      <td>happy</td>\n",
       "      <td>steps off times square nice rooms stayed night...</td>\n",
       "    </tr>\n",
       "    <tr>\n",
       "      <th>11</th>\n",
       "      <td>Me, the Wife and - kids stayed here on Valenti...</td>\n",
       "      <td>happy</td>\n",
       "      <td>me the wife and kids stayed here on valentine ...</td>\n",
       "    </tr>\n",
       "    <tr>\n",
       "      <th>12</th>\n",
       "      <td>We stay at the Jolly Madison over the Xmas per...</td>\n",
       "      <td>not happy</td>\n",
       "      <td>we stay at the jolly madison over the xmas per...</td>\n",
       "    </tr>\n",
       "    <tr>\n",
       "      <th>13</th>\n",
       "      <td>I highly recommend the Hawthorne Terrace as an...</td>\n",
       "      <td>happy</td>\n",
       "      <td>i highly recommend the hawthorne terrace as an...</td>\n",
       "    </tr>\n",
       "    <tr>\n",
       "      <th>14</th>\n",
       "      <td>I found the hotel clean and nicely located. Go...</td>\n",
       "      <td>happy</td>\n",
       "      <td>i found the hotel clean and nicely located goo...</td>\n",
       "    </tr>\n",
       "    <tr>\n",
       "      <th>15</th>\n",
       "      <td>Stayed at the Elan from --th to --th October a...</td>\n",
       "      <td>happy</td>\n",
       "      <td>stayed at the elan from th to th october and a...</td>\n",
       "    </tr>\n",
       "    <tr>\n",
       "      <th>16</th>\n",
       "      <td>Priceline sent us to this hotel after acceptin...</td>\n",
       "      <td>not happy</td>\n",
       "      <td>priceline sent us to this hotel after acceptin...</td>\n",
       "    </tr>\n",
       "    <tr>\n",
       "      <th>17</th>\n",
       "      <td>Old and cheap furnitures,our chair was simply ...</td>\n",
       "      <td>not happy</td>\n",
       "      <td>old and cheap furnitures our chair was simply ...</td>\n",
       "    </tr>\n",
       "    <tr>\n",
       "      <th>18</th>\n",
       "      <td>We stayed here for - nights and were really ha...</td>\n",
       "      <td>happy</td>\n",
       "      <td>we stayed here for nights and were really happ...</td>\n",
       "    </tr>\n",
       "    <tr>\n",
       "      <th>19</th>\n",
       "      <td>The service was fine, but the hotel itself fel...</td>\n",
       "      <td>not happy</td>\n",
       "      <td>the service was fine but the hotel itself fell...</td>\n",
       "    </tr>\n",
       "  </tbody>\n",
       "</table>\n",
       "</div>"
      ],
      "text/plain": [
       "                                          Description Is_Response  \\\n",
       "0   The room was kind of clean but had a VERY stro...   not happy   \n",
       "1   I stayed at the Crown Plaza April -- - April -...   not happy   \n",
       "2   I booked this hotel through Hotwire at the low...   not happy   \n",
       "3   Stayed here with husband and sons on the way t...       happy   \n",
       "4   My girlfriends and I stayed here to celebrate ...   not happy   \n",
       "5   We had - rooms. One was very nice and clearly ...       happy   \n",
       "6   My husband and I have stayed in this hotel a f...   not happy   \n",
       "7   My wife & I stayed in this glorious city a whi...       happy   \n",
       "8   My boyfriend and I stayed at the Fairmont on a...       happy   \n",
       "9   Wonderful staff, great location, but it was de...   not happy   \n",
       "10  Steps off Times Square, nice rooms, stayed - n...       happy   \n",
       "11  Me, the Wife and - kids stayed here on Valenti...       happy   \n",
       "12  We stay at the Jolly Madison over the Xmas per...   not happy   \n",
       "13  I highly recommend the Hawthorne Terrace as an...       happy   \n",
       "14  I found the hotel clean and nicely located. Go...       happy   \n",
       "15  Stayed at the Elan from --th to --th October a...       happy   \n",
       "16  Priceline sent us to this hotel after acceptin...   not happy   \n",
       "17  Old and cheap furnitures,our chair was simply ...   not happy   \n",
       "18  We stayed here for - nights and were really ha...       happy   \n",
       "19  The service was fine, but the hotel itself fel...   not happy   \n",
       "\n",
       "                                     cleanDescription  \n",
       "0   the room was kind of clean but had a very stro...  \n",
       "1   i stayed at the crown plaza april april the st...  \n",
       "2   i booked this hotel through hotwire at the low...  \n",
       "3   stayed here with husband and sons on the way t...  \n",
       "4   my girlfriends and i stayed here to celebrate ...  \n",
       "5   we had rooms one was very nice and clearly had...  \n",
       "6   my husband and i have stayed in this hotel a f...  \n",
       "7   my wife i stayed in this glorious city a while...  \n",
       "8   my boyfriend and i stayed at the fairmont on a...  \n",
       "9   wonderful staff great location but it was defi...  \n",
       "10  steps off times square nice rooms stayed night...  \n",
       "11  me the wife and kids stayed here on valentine ...  \n",
       "12  we stay at the jolly madison over the xmas per...  \n",
       "13  i highly recommend the hawthorne terrace as an...  \n",
       "14  i found the hotel clean and nicely located goo...  \n",
       "15  stayed at the elan from th to th october and a...  \n",
       "16  priceline sent us to this hotel after acceptin...  \n",
       "17  old and cheap furnitures our chair was simply ...  \n",
       "18  we stayed here for nights and were really happ...  \n",
       "19  the service was fine but the hotel itself fell...  "
      ]
     },
     "execution_count": 23,
     "metadata": {},
     "output_type": "execute_result"
    }
   ],
   "source": [
    "df.head(20)"
   ]
  },
  {
   "cell_type": "markdown",
   "id": "d475b105-31d6-4c9f-a8ab-011aa7816bf3",
   "metadata": {},
   "source": [
    "#### I am not apply PorterStemmer and remove stopwords. It will take much more time."
   ]
  },
  {
   "cell_type": "code",
   "execution_count": 24,
   "id": "07fbbb21-f0a6-430b-bc90-9ea5f4115632",
   "metadata": {},
   "outputs": [],
   "source": [
    "# Remove stopwords and apply stemming\n",
    "\n",
    "# ps = PorterStemmer()\n",
    "\n",
    "# def text_clean_part2(text):\n",
    "#     words = word_tokenize(text=text)\n",
    "#     words = [ps.stem(word=word) for word in words if word not in stopwords.words(\"english\")]\n",
    "#     text = \" \".join(words)\n",
    "\n",
    "#     return text"
   ]
  },
  {
   "cell_type": "code",
   "execution_count": 25,
   "id": "9e5bfe43-a28e-49f2-b336-96a8e98b1418",
   "metadata": {},
   "outputs": [],
   "source": [
    "# df['cleanDescription'] = df['cleanDescription'].apply(func=text_clean_part2)"
   ]
  },
  {
   "cell_type": "code",
   "execution_count": 26,
   "id": "d9499eff-4187-4da3-ada2-6e0dfc4e711a",
   "metadata": {},
   "outputs": [],
   "source": [
    "# Drop the old Description column\n",
    "\n",
    "df.drop(labels=['Description'], axis=1, inplace=True)"
   ]
  },
  {
   "cell_type": "code",
   "execution_count": 27,
   "id": "bd76cd23-f70b-44fc-9008-b497a3cf6a3a",
   "metadata": {},
   "outputs": [
    {
     "data": {
      "text/html": [
       "<div>\n",
       "<style scoped>\n",
       "    .dataframe tbody tr th:only-of-type {\n",
       "        vertical-align: middle;\n",
       "    }\n",
       "\n",
       "    .dataframe tbody tr th {\n",
       "        vertical-align: top;\n",
       "    }\n",
       "\n",
       "    .dataframe thead th {\n",
       "        text-align: right;\n",
       "    }\n",
       "</style>\n",
       "<table border=\"1\" class=\"dataframe\">\n",
       "  <thead>\n",
       "    <tr style=\"text-align: right;\">\n",
       "      <th></th>\n",
       "      <th>Is_Response</th>\n",
       "      <th>cleanDescription</th>\n",
       "    </tr>\n",
       "  </thead>\n",
       "  <tbody>\n",
       "    <tr>\n",
       "      <th>0</th>\n",
       "      <td>not happy</td>\n",
       "      <td>the room was kind of clean but had a very stro...</td>\n",
       "    </tr>\n",
       "    <tr>\n",
       "      <th>1</th>\n",
       "      <td>not happy</td>\n",
       "      <td>i stayed at the crown plaza april april the st...</td>\n",
       "    </tr>\n",
       "    <tr>\n",
       "      <th>2</th>\n",
       "      <td>not happy</td>\n",
       "      <td>i booked this hotel through hotwire at the low...</td>\n",
       "    </tr>\n",
       "    <tr>\n",
       "      <th>3</th>\n",
       "      <td>happy</td>\n",
       "      <td>stayed here with husband and sons on the way t...</td>\n",
       "    </tr>\n",
       "    <tr>\n",
       "      <th>4</th>\n",
       "      <td>not happy</td>\n",
       "      <td>my girlfriends and i stayed here to celebrate ...</td>\n",
       "    </tr>\n",
       "  </tbody>\n",
       "</table>\n",
       "</div>"
      ],
      "text/plain": [
       "  Is_Response                                   cleanDescription\n",
       "0   not happy  the room was kind of clean but had a very stro...\n",
       "1   not happy  i stayed at the crown plaza april april the st...\n",
       "2   not happy  i booked this hotel through hotwire at the low...\n",
       "3       happy  stayed here with husband and sons on the way t...\n",
       "4   not happy  my girlfriends and i stayed here to celebrate ..."
      ]
     },
     "execution_count": 27,
     "metadata": {},
     "output_type": "execute_result"
    }
   ],
   "source": [
    "df.head()"
   ]
  },
  {
   "cell_type": "markdown",
   "id": "64da68ed-7b13-47af-831f-ff5dd7ff4512",
   "metadata": {},
   "source": [
    "## Model training"
   ]
  },
  {
   "cell_type": "code",
   "execution_count": 28,
   "id": "b326a758-8779-4620-a07e-c3a245921614",
   "metadata": {},
   "outputs": [],
   "source": [
    "# Split the dataset into dependent and independent variable\n",
    "\n",
    "independent_variable = df['cleanDescription']\n",
    "\n",
    "dependent_variable = df['Is_Response']"
   ]
  },
  {
   "cell_type": "code",
   "execution_count": 29,
   "id": "708bef79-d008-4834-ab71-b0885df3a500",
   "metadata": {},
   "outputs": [],
   "source": [
    "encoder = LabelEncoder()"
   ]
  },
  {
   "cell_type": "code",
   "execution_count": 30,
   "id": "90f00bf3-4357-40a1-a7af-f6d0295a845f",
   "metadata": {},
   "outputs": [
    {
     "data": {
      "text/plain": [
       "array([1, 1, 1, ..., 1, 1, 0])"
      ]
     },
     "execution_count": 30,
     "metadata": {},
     "output_type": "execute_result"
    }
   ],
   "source": [
    "dependent_variable = encoder.fit_transform(y=dependent_variable)\n",
    "dependent_variable"
   ]
  },
  {
   "cell_type": "code",
   "execution_count": 31,
   "id": "2b0857e6-86bd-445f-abb7-ce3de7656afb",
   "metadata": {},
   "outputs": [
    {
     "data": {
      "text/plain": [
       "array(['happy', 'not happy'], dtype=object)"
      ]
     },
     "execution_count": 31,
     "metadata": {},
     "output_type": "execute_result"
    }
   ],
   "source": [
    "encoder.classes_"
   ]
  },
  {
   "cell_type": "code",
   "execution_count": 32,
   "id": "c059a112-184c-4786-be1e-783d7414c9a9",
   "metadata": {},
   "outputs": [],
   "source": [
    "xtrain, xtest, ytrain, ytest = train_test_split(independent_variable, dependent_variable, test_size=0.25, random_state=2)"
   ]
  },
  {
   "cell_type": "code",
   "execution_count": 33,
   "id": "1b2b55fb-54c1-4898-971c-613909baae99",
   "metadata": {},
   "outputs": [
    {
     "name": "stdout",
     "output_type": "stream",
     "text": [
      "Xtrain : 29199\n",
      "Xtest  : 9733\n",
      "Ytrain : 29199\n",
      "Ytest  : 9733\n"
     ]
    }
   ],
   "source": [
    "print('Xtrain :', len(xtrain))\n",
    "print('Xtest  :', len(xtest))\n",
    "print('Ytrain :', len(ytrain))\n",
    "print('Ytest  :', len(ytest))"
   ]
  },
  {
   "cell_type": "code",
   "execution_count": 34,
   "id": "593aea43-9d40-44c0-8cd5-e14bf0204b05",
   "metadata": {},
   "outputs": [
    {
     "data": {
      "text/plain": [
       "pandas.core.series.Series"
      ]
     },
     "execution_count": 34,
     "metadata": {},
     "output_type": "execute_result"
    }
   ],
   "source": [
    "type(xtrain)"
   ]
  },
  {
   "cell_type": "code",
   "execution_count": 35,
   "id": "fd5c8fcc-437e-40d8-b9b3-6507f9587f04",
   "metadata": {},
   "outputs": [],
   "source": [
    "tf_idf = TfidfVectorizer()"
   ]
  },
  {
   "cell_type": "code",
   "execution_count": 36,
   "id": "89cf4a26-1806-4b23-87f3-46c439c76b7a",
   "metadata": {},
   "outputs": [],
   "source": [
    "mnnb = MultinomialNB()"
   ]
  },
  {
   "cell_type": "markdown",
   "id": "2ff98567-4df0-4513-b6ed-d35ae0ca9258",
   "metadata": {},
   "source": [
    "## Using Pipeline way"
   ]
  },
  {
   "cell_type": "code",
   "execution_count": 37,
   "id": "b0d92149-31eb-4134-a5b8-ab9f1f2264c6",
   "metadata": {
    "tags": []
   },
   "outputs": [],
   "source": [
    "pipeline_model = Pipeline(steps=[\n",
    "    ('if_idf', tf_idf),\n",
    "    ('mnnb', mnnb)\n",
    "])"
   ]
  },
  {
   "cell_type": "code",
   "execution_count": 38,
   "id": "ed5beb65-b5e0-4232-852e-7f534f62b924",
   "metadata": {},
   "outputs": [
    {
     "data": {
      "text/html": [
       "<style>#sk-container-id-1 {color: black;background-color: white;}#sk-container-id-1 pre{padding: 0;}#sk-container-id-1 div.sk-toggleable {background-color: white;}#sk-container-id-1 label.sk-toggleable__label {cursor: pointer;display: block;width: 100%;margin-bottom: 0;padding: 0.3em;box-sizing: border-box;text-align: center;}#sk-container-id-1 label.sk-toggleable__label-arrow:before {content: \"▸\";float: left;margin-right: 0.25em;color: #696969;}#sk-container-id-1 label.sk-toggleable__label-arrow:hover:before {color: black;}#sk-container-id-1 div.sk-estimator:hover label.sk-toggleable__label-arrow:before {color: black;}#sk-container-id-1 div.sk-toggleable__content {max-height: 0;max-width: 0;overflow: hidden;text-align: left;background-color: #f0f8ff;}#sk-container-id-1 div.sk-toggleable__content pre {margin: 0.2em;color: black;border-radius: 0.25em;background-color: #f0f8ff;}#sk-container-id-1 input.sk-toggleable__control:checked~div.sk-toggleable__content {max-height: 200px;max-width: 100%;overflow: auto;}#sk-container-id-1 input.sk-toggleable__control:checked~label.sk-toggleable__label-arrow:before {content: \"▾\";}#sk-container-id-1 div.sk-estimator input.sk-toggleable__control:checked~label.sk-toggleable__label {background-color: #d4ebff;}#sk-container-id-1 div.sk-label input.sk-toggleable__control:checked~label.sk-toggleable__label {background-color: #d4ebff;}#sk-container-id-1 input.sk-hidden--visually {border: 0;clip: rect(1px 1px 1px 1px);clip: rect(1px, 1px, 1px, 1px);height: 1px;margin: -1px;overflow: hidden;padding: 0;position: absolute;width: 1px;}#sk-container-id-1 div.sk-estimator {font-family: monospace;background-color: #f0f8ff;border: 1px dotted black;border-radius: 0.25em;box-sizing: border-box;margin-bottom: 0.5em;}#sk-container-id-1 div.sk-estimator:hover {background-color: #d4ebff;}#sk-container-id-1 div.sk-parallel-item::after {content: \"\";width: 100%;border-bottom: 1px solid gray;flex-grow: 1;}#sk-container-id-1 div.sk-label:hover label.sk-toggleable__label {background-color: #d4ebff;}#sk-container-id-1 div.sk-serial::before {content: \"\";position: absolute;border-left: 1px solid gray;box-sizing: border-box;top: 0;bottom: 0;left: 50%;z-index: 0;}#sk-container-id-1 div.sk-serial {display: flex;flex-direction: column;align-items: center;background-color: white;padding-right: 0.2em;padding-left: 0.2em;position: relative;}#sk-container-id-1 div.sk-item {position: relative;z-index: 1;}#sk-container-id-1 div.sk-parallel {display: flex;align-items: stretch;justify-content: center;background-color: white;position: relative;}#sk-container-id-1 div.sk-item::before, #sk-container-id-1 div.sk-parallel-item::before {content: \"\";position: absolute;border-left: 1px solid gray;box-sizing: border-box;top: 0;bottom: 0;left: 50%;z-index: -1;}#sk-container-id-1 div.sk-parallel-item {display: flex;flex-direction: column;z-index: 1;position: relative;background-color: white;}#sk-container-id-1 div.sk-parallel-item:first-child::after {align-self: flex-end;width: 50%;}#sk-container-id-1 div.sk-parallel-item:last-child::after {align-self: flex-start;width: 50%;}#sk-container-id-1 div.sk-parallel-item:only-child::after {width: 0;}#sk-container-id-1 div.sk-dashed-wrapped {border: 1px dashed gray;margin: 0 0.4em 0.5em 0.4em;box-sizing: border-box;padding-bottom: 0.4em;background-color: white;}#sk-container-id-1 div.sk-label label {font-family: monospace;font-weight: bold;display: inline-block;line-height: 1.2em;}#sk-container-id-1 div.sk-label-container {text-align: center;}#sk-container-id-1 div.sk-container {/* jupyter's `normalize.less` sets `[hidden] { display: none; }` but bootstrap.min.css set `[hidden] { display: none !important; }` so we also need the `!important` here to be able to override the default hidden behavior on the sphinx rendered scikit-learn.org. See: https://github.com/scikit-learn/scikit-learn/issues/21755 */display: inline-block !important;position: relative;}#sk-container-id-1 div.sk-text-repr-fallback {display: none;}</style><div id=\"sk-container-id-1\" class=\"sk-top-container\"><div class=\"sk-text-repr-fallback\"><pre>Pipeline(steps=[(&#x27;if_idf&#x27;, TfidfVectorizer()), (&#x27;mnnb&#x27;, MultinomialNB())])</pre><b>In a Jupyter environment, please rerun this cell to show the HTML representation or trust the notebook. <br />On GitHub, the HTML representation is unable to render, please try loading this page with nbviewer.org.</b></div><div class=\"sk-container\" hidden><div class=\"sk-item sk-dashed-wrapped\"><div class=\"sk-label-container\"><div class=\"sk-label sk-toggleable\"><input class=\"sk-toggleable__control sk-hidden--visually\" id=\"sk-estimator-id-1\" type=\"checkbox\" ><label for=\"sk-estimator-id-1\" class=\"sk-toggleable__label sk-toggleable__label-arrow\">Pipeline</label><div class=\"sk-toggleable__content\"><pre>Pipeline(steps=[(&#x27;if_idf&#x27;, TfidfVectorizer()), (&#x27;mnnb&#x27;, MultinomialNB())])</pre></div></div></div><div class=\"sk-serial\"><div class=\"sk-item\"><div class=\"sk-estimator sk-toggleable\"><input class=\"sk-toggleable__control sk-hidden--visually\" id=\"sk-estimator-id-2\" type=\"checkbox\" ><label for=\"sk-estimator-id-2\" class=\"sk-toggleable__label sk-toggleable__label-arrow\">TfidfVectorizer</label><div class=\"sk-toggleable__content\"><pre>TfidfVectorizer()</pre></div></div></div><div class=\"sk-item\"><div class=\"sk-estimator sk-toggleable\"><input class=\"sk-toggleable__control sk-hidden--visually\" id=\"sk-estimator-id-3\" type=\"checkbox\" ><label for=\"sk-estimator-id-3\" class=\"sk-toggleable__label sk-toggleable__label-arrow\">MultinomialNB</label><div class=\"sk-toggleable__content\"><pre>MultinomialNB()</pre></div></div></div></div></div></div></div>"
      ],
      "text/plain": [
       "Pipeline(steps=[('if_idf', TfidfVectorizer()), ('mnnb', MultinomialNB())])"
      ]
     },
     "execution_count": 38,
     "metadata": {},
     "output_type": "execute_result"
    }
   ],
   "source": [
    "pipeline_model.fit(X=xtrain, y=ytrain)"
   ]
  },
  {
   "cell_type": "code",
   "execution_count": 39,
   "id": "ec0bb225-eba3-4168-b451-e23f9d4d8a53",
   "metadata": {},
   "outputs": [
    {
     "data": {
      "text/plain": [
       "array([0, 0, 0, ..., 0, 0, 0])"
      ]
     },
     "execution_count": 39,
     "metadata": {},
     "output_type": "execute_result"
    }
   ],
   "source": [
    "pipeline_predict = pipeline_model.predict(X=xtest)\n",
    "pipeline_predict"
   ]
  },
  {
   "cell_type": "code",
   "execution_count": 40,
   "id": "00aeb59f-e2a9-46a4-98d9-38d0ae3f6f6c",
   "metadata": {},
   "outputs": [
    {
     "data": {
      "text/plain": [
       "array([[6628,   53],\n",
       "       [1936, 1116]], dtype=int64)"
      ]
     },
     "execution_count": 40,
     "metadata": {},
     "output_type": "execute_result"
    }
   ],
   "source": [
    "confusion_matrix(y_true=ytest, y_pred=pipeline_predict)"
   ]
  },
  {
   "cell_type": "code",
   "execution_count": 41,
   "id": "30c163da-d564-48c7-ac07-bd6dbaf8a47b",
   "metadata": {},
   "outputs": [
    {
     "data": {
      "text/plain": [
       "0.7956436864276174"
      ]
     },
     "execution_count": 41,
     "metadata": {},
     "output_type": "execute_result"
    }
   ],
   "source": [
    "pipeline_model.score(X=xtest, y=ytest)"
   ]
  },
  {
   "cell_type": "markdown",
   "id": "fa8530f9-a423-4ba5-9529-ca295c044d6c",
   "metadata": {},
   "source": [
    "## Without Pipeline used"
   ]
  },
  {
   "cell_type": "code",
   "execution_count": 42,
   "id": "9ded2b47-c87a-47a6-97f7-61e54259a05c",
   "metadata": {},
   "outputs": [],
   "source": [
    "# Split the dataset into dependent and independent variable\n",
    "\n",
    "X = df['cleanDescription']\n",
    "\n",
    "y = df['Is_Response']"
   ]
  },
  {
   "cell_type": "code",
   "execution_count": 43,
   "id": "08337b03-67d1-48b0-ae0a-364fedd37b9c",
   "metadata": {},
   "outputs": [
    {
     "data": {
      "text/plain": [
       "array([1, 1, 1, ..., 1, 1, 0])"
      ]
     },
     "execution_count": 43,
     "metadata": {},
     "output_type": "execute_result"
    }
   ],
   "source": [
    "y = encoder.fit_transform(y=y)\n",
    "y"
   ]
  },
  {
   "cell_type": "code",
   "execution_count": 44,
   "id": "8c24d5fc-18fa-4f2b-864e-b965bebb913d",
   "metadata": {},
   "outputs": [
    {
     "data": {
      "text/plain": [
       "array(['happy', 'not happy'], dtype=object)"
      ]
     },
     "execution_count": 44,
     "metadata": {},
     "output_type": "execute_result"
    }
   ],
   "source": [
    "encoder.classes_"
   ]
  },
  {
   "cell_type": "code",
   "execution_count": 45,
   "id": "56cc385b-b89e-4f40-b4fb-d25c3e9ea53e",
   "metadata": {},
   "outputs": [],
   "source": [
    "x_train, x_test, y_train, y_test = train_test_split(X, y, test_size=0.25, random_state=1)"
   ]
  },
  {
   "cell_type": "code",
   "execution_count": 46,
   "id": "b9940d29-0360-4ecf-aa4b-210e23945c3d",
   "metadata": {},
   "outputs": [
    {
     "name": "stdout",
     "output_type": "stream",
     "text": [
      "Xtrain : 29199\n",
      "Xtest  : 9733\n",
      "Ytrain : 29199\n",
      "Ytest  : 9733\n"
     ]
    }
   ],
   "source": [
    "print('Xtrain :', len(x_train))\n",
    "print('Xtest  :', len(x_test))\n",
    "print('Ytrain :', len(y_train))\n",
    "print('Ytest  :', len(y_test))"
   ]
  },
  {
   "cell_type": "code",
   "execution_count": 47,
   "id": "e8f5d30d-bac3-4e84-b639-752ae25b5748",
   "metadata": {},
   "outputs": [],
   "source": [
    "without_pipeline_tf_idf = TfidfVectorizer(max_features=5000)"
   ]
  },
  {
   "cell_type": "code",
   "execution_count": 48,
   "id": "417540e5-2c0c-4374-b453-462100790454",
   "metadata": {},
   "outputs": [],
   "source": [
    "x_train_tfidf = without_pipeline_tf_idf.fit_transform(raw_documents=x_train).toarray()\n",
    "\n",
    "x_test_tfidf = without_pipeline_tf_idf.transform(raw_documents=x_test).toarray()"
   ]
  },
  {
   "cell_type": "code",
   "execution_count": 49,
   "id": "0b15bb7f-08c2-4649-9b87-c9d69d247af5",
   "metadata": {},
   "outputs": [
    {
     "data": {
      "text/plain": [
       "array([[0., 0., 0., ..., 0., 0., 0.],\n",
       "       [0., 0., 0., ..., 0., 0., 0.],\n",
       "       [0., 0., 0., ..., 0., 0., 0.],\n",
       "       ...,\n",
       "       [0., 0., 0., ..., 0., 0., 0.],\n",
       "       [0., 0., 0., ..., 0., 0., 0.],\n",
       "       [0., 0., 0., ..., 0., 0., 0.]])"
      ]
     },
     "execution_count": 49,
     "metadata": {},
     "output_type": "execute_result"
    }
   ],
   "source": [
    "x_train_tfidf"
   ]
  },
  {
   "cell_type": "code",
   "execution_count": 50,
   "id": "9ee13120-a37d-405f-b95e-cde67f4811ca",
   "metadata": {},
   "outputs": [
    {
     "data": {
      "text/plain": [
       "(29199, 5000)"
      ]
     },
     "execution_count": 50,
     "metadata": {},
     "output_type": "execute_result"
    }
   ],
   "source": [
    "x_train_tfidf.shape"
   ]
  },
  {
   "cell_type": "code",
   "execution_count": 51,
   "id": "4f7999b3-064a-4a86-b292-ccf93b15f693",
   "metadata": {},
   "outputs": [
    {
     "data": {
      "text/plain": [
       "array(['aaa', 'abandoned', 'ability', ..., 'zero', 'zone', 'zoo'],\n",
       "      dtype=object)"
      ]
     },
     "execution_count": 51,
     "metadata": {},
     "output_type": "execute_result"
    }
   ],
   "source": [
    "without_pipeline_tf_idf.get_feature_names_out()"
   ]
  },
  {
   "cell_type": "code",
   "execution_count": 52,
   "id": "a4f1ed6d-3f84-4579-92c9-641e2e389ab2",
   "metadata": {
    "scrolled": true,
    "tags": []
   },
   "outputs": [
    {
     "data": {
      "text/plain": [
       "{'we': 4837,\n",
       " 'booked': 518,\n",
       " 'night': 2912,\n",
       " 'here': 2071,\n",
       " 'last': 2442,\n",
       " 'minute': 2776,\n",
       " 'as': 258,\n",
       " 'the': 4419,\n",
       " 'hotel': 2157,\n",
       " 'were': 4865,\n",
       " 'staying': 4194,\n",
       " 'in': 2229,\n",
       " 'austin': 307,\n",
       " 'was': 4816,\n",
       " 'and': 163,\n",
       " 'thought': 4449,\n",
       " 'san': 3772,\n",
       " 'antonio': 182,\n",
       " 'might': 2753,\n",
       " 'be': 398,\n",
       " 'more': 2814,\n",
       " 'tourist': 4519,\n",
       " 'friendly': 1805,\n",
       " 'not': 2943,\n",
       " 'disappointed': 1277,\n",
       " 'this': 4444,\n",
       " 'place': 3240,\n",
       " 'is': 2315,\n",
       " 'rooms': 3725,\n",
       " 'are': 233,\n",
       " 'lovely': 2590,\n",
       " 'big': 464,\n",
       " 'clean': 823,\n",
       " 'beds': 420,\n",
       " 'bathroom': 390,\n",
       " 'large': 2437,\n",
       " 'with': 4922,\n",
       " 'everything': 1527,\n",
       " 'you': 4985,\n",
       " 'need': 2874,\n",
       " 'despite': 1232,\n",
       " 'being': 435,\n",
       " 'near': 2866,\n",
       " 'road': 3705,\n",
       " 'it': 2321,\n",
       " 'quiet': 3450,\n",
       " 'at': 284,\n",
       " 'breakfast': 556,\n",
       " 'room': 3724,\n",
       " 'immaculate': 2209,\n",
       " 'food': 1747,\n",
       " 'fresh': 1792,\n",
       " 'kept': 2373,\n",
       " 'topped': 4507,\n",
       " 'up': 4678,\n",
       " 'great': 1937,\n",
       " 'location': 2551,\n",
       " 'free': 1782,\n",
       " 'parking': 3131,\n",
       " 'min': 2763,\n",
       " 'walk': 4789,\n",
       " 'to': 4485,\n",
       " 'shopping': 3927,\n",
       " 'centre': 721,\n",
       " 'few': 1668,\n",
       " 'minutes': 2777,\n",
       " 'further': 1833,\n",
       " 'alamo': 107,\n",
       " 'riverwalk': 3702,\n",
       " 'such': 4272,\n",
       " 'nice': 2906,\n",
       " 'change': 739,\n",
       " 'from': 1810,\n",
       " 'dallas': 1128,\n",
       " 'where': 4881,\n",
       " 'had': 1976,\n",
       " 'drive': 1361,\n",
       " 'everywhere': 1529,\n",
       " 'stayed': 4193,\n",
       " 'for': 1753,\n",
       " 'nights': 2917,\n",
       " 'while': 4885,\n",
       " 'attending': 296,\n",
       " 'convention': 1007,\n",
       " 'moscone': 2819,\n",
       " 'center': 717,\n",
       " 'small': 4019,\n",
       " 'boutique': 542,\n",
       " 'style': 4265,\n",
       " 'located': 2550,\n",
       " 'about': 4,\n",
       " 'away': 327,\n",
       " 'me': 2696,\n",
       " 'macy': 2611,\n",
       " 'bloomingdales': 502,\n",
       " 'nordstrom': 2936,\n",
       " 'disney': 1292,\n",
       " 'store': 4227,\n",
       " 'took': 4504,\n",
       " 'get': 1874,\n",
       " 'lunch': 2603,\n",
       " 'spots': 4139,\n",
       " 'couple': 1050,\n",
       " 'of': 2985,\n",
       " 'but': 614,\n",
       " 'some': 4070,\n",
       " 'bit': 477,\n",
       " 'pricey': 3365,\n",
       " 'tours': 4523,\n",
       " 'will': 4901,\n",
       " 'pick': 3214,\n",
       " 'which': 4884,\n",
       " 'much': 2838,\n",
       " 'appreciated': 221,\n",
       " 'although': 138,\n",
       " 'bay': 396,\n",
       " 'during': 1388,\n",
       " 'my': 2852,\n",
       " 'stay': 4191,\n",
       " 'received': 3514,\n",
       " 'sleep': 4001,\n",
       " 'each': 1394,\n",
       " 'king': 2391,\n",
       " 'overlooked': 3080,\n",
       " 'courtyard': 1060,\n",
       " 'has': 2018,\n",
       " 'really': 3503,\n",
       " 'comfortable': 892,\n",
       " 'bed': 415,\n",
       " 'good': 1907,\n",
       " 'size': 3987,\n",
       " 'office': 2992,\n",
       " 'area': 234,\n",
       " 'supply': 4307,\n",
       " 'toiletries': 4492,\n",
       " 'products': 3389,\n",
       " 'provided': 3410,\n",
       " 'through': 4457,\n",
       " 'out': 3061,\n",
       " 'there': 4430,\n",
       " 'coffee': 869,\n",
       " 'maker': 2634,\n",
       " 'supplied': 4305,\n",
       " 'especially': 1504,\n",
       " 'service': 3878,\n",
       " 'throughout': 4458,\n",
       " 'thank': 4413,\n",
       " 'your': 4988,\n",
       " 'helpfulness': 2065,\n",
       " 'every': 1523,\n",
       " 'day': 1146,\n",
       " 'via': 4746,\n",
       " 'booking': 519,\n",
       " 'com': 884,\n",
       " 'paid': 3103,\n",
       " 'less': 2488,\n",
       " 'than': 4412,\n",
       " 'including': 2239,\n",
       " 'taxes': 4369,\n",
       " 'internet': 2298,\n",
       " 'included': 2237,\n",
       " 'complimentary': 937,\n",
       " 'tea': 4372,\n",
       " 'morning': 2817,\n",
       " 'lobby': 2544,\n",
       " 'also': 135,\n",
       " 'computers': 940,\n",
       " 'case': 689,\n",
       " 'have': 2025,\n",
       " 'brought': 577,\n",
       " 'yours': 4989,\n",
       " 'along': 131,\n",
       " 'francisco': 1778,\n",
       " 'extremely': 1591,\n",
       " 'busy': 613,\n",
       " 'bustling': 612,\n",
       " 'found': 1770,\n",
       " 'peaceful': 3171,\n",
       " 'oasis': 2965,\n",
       " 'return': 3674,\n",
       " 'all': 119,\n",
       " 'been': 425,\n",
       " 'said': 3761,\n",
       " 'one': 3014,\n",
       " 'way': 4835,\n",
       " 'or': 3038,\n",
       " 'another': 175,\n",
       " 'previous': 3359,\n",
       " 'reviews': 3682,\n",
       " 'take': 4348,\n",
       " 'broadway': 572,\n",
       " 'times': 4476,\n",
       " 'rockefeller': 3710,\n",
       " 'plaza': 3266,\n",
       " 'no': 2922,\n",
       " 'better': 456,\n",
       " 'going': 1901,\n",
       " 'late': 2444,\n",
       " 'show': 3934,\n",
       " 'wanted': 4802,\n",
       " 'check': 765,\n",
       " 'today': 4488,\n",
       " 'so': 4046,\n",
       " 'perfect': 3183,\n",
       " 'itself': 2328,\n",
       " 'smaller': 4020,\n",
       " 'allows': 127,\n",
       " 'intimate': 2300,\n",
       " 'feel': 1655,\n",
       " 'that': 4418,\n",
       " 'appreciate': 220,\n",
       " 'nyc': 2963,\n",
       " 'on': 3012,\n",
       " 'larger': 2439,\n",
       " 'side': 3948,\n",
       " 'iron': 2312,\n",
       " 'odd': 2982,\n",
       " 'staff': 4153,\n",
       " 'delivered': 1198,\n",
       " 'quickly': 3449,\n",
       " 'after': 82,\n",
       " 'they': 4434,\n",
       " 'finally': 1686,\n",
       " 'picked': 3215,\n",
       " 'phone': 3207,\n",
       " 'nothing': 2948,\n",
       " 'spectacular': 4120,\n",
       " 'hotels': 2158,\n",
       " 'considered': 981,\n",
       " 'same': 3770,\n",
       " 'star': 4171,\n",
       " 'level': 2493,\n",
       " 'nicer': 2908,\n",
       " 'luxurious': 2605,\n",
       " 'like': 2508,\n",
       " 'mentioned': 2723,\n",
       " 'other': 3054,\n",
       " 'too': 4503,\n",
       " 'dark': 1139,\n",
       " 'fine': 1690,\n",
       " 'high': 2082,\n",
       " 'floor': 1725,\n",
       " 'elevator': 1438,\n",
       " 'requested': 3626,\n",
       " 'hey': 2076,\n",
       " 'am': 141,\n",
       " 'complain': 925,\n",
       " 'checkout': 769,\n",
       " 'checked': 766,\n",
       " 'over': 3073,\n",
       " 'an': 161,\n",
       " 'hour': 2160,\n",
       " 'early': 1398,\n",
       " 'without': 4924,\n",
       " 'any': 185,\n",
       " 'hassle': 2020,\n",
       " 'whatsoever': 4876,\n",
       " 'just': 2366,\n",
       " 'okay': 3001,\n",
       " 'write': 4961,\n",
       " 'home': 2117,\n",
       " 'would': 4956,\n",
       " 'expect': 1559,\n",
       " 'higher': 2083,\n",
       " 'what': 4874,\n",
       " 'appears': 210,\n",
       " 'slightly': 4011,\n",
       " 'sophisticated': 4086,\n",
       " 'establishment': 1508,\n",
       " 'again': 85,\n",
       " 'compared': 914,\n",
       " 'let': 2490,\n",
       " 'us': 4697,\n",
       " 'say': 3794,\n",
       " 'ny': 2962,\n",
       " 'palace': 3110,\n",
       " 'apples': 214,\n",
       " 'above': 5,\n",
       " 'average': 320,\n",
       " 'fair': 1609,\n",
       " 'price': 3361,\n",
       " 'sweet': 4330,\n",
       " 'spot': 4136,\n",
       " 'recommended': 3528,\n",
       " 'four': 1772,\n",
       " 'days': 1148,\n",
       " 'month': 2808,\n",
       " 'maybe': 2690,\n",
       " 'five': 1709,\n",
       " 'off': 2986,\n",
       " 'hotwire': 2159,\n",
       " 'still': 4214,\n",
       " 'decent': 1162,\n",
       " 'their': 4424,\n",
       " 'site': 3979,\n",
       " 'directly': 1270,\n",
       " 'do': 1305,\n",
       " 'know': 2404,\n",
       " 'bad': 340,\n",
       " 'owned': 3090,\n",
       " 'by': 624,\n",
       " 'someone': 4073,\n",
       " 'else': 1443,\n",
       " 'when': 4879,\n",
       " 'renovated': 3598,\n",
       " 'never': 2894,\n",
       " 'september': 3869,\n",
       " 'non': 2929,\n",
       " 'smoking': 4039,\n",
       " 'super': 4300,\n",
       " 'plenty': 3275,\n",
       " 'tv': 4613,\n",
       " 'channels': 744,\n",
       " 'right': 3693,\n",
       " 'freeway': 1784,\n",
       " 'close': 844,\n",
       " 'restaurants': 3660,\n",
       " 'stores': 4229,\n",
       " 'person': 3190,\n",
       " 'desk': 1229,\n",
       " 'she': 3909,\n",
       " 'borrow': 527,\n",
       " 'cord': 1025,\n",
       " 'sign': 3954,\n",
       " 'assume': 279,\n",
       " 'them': 4425,\n",
       " 'little': 2534,\n",
       " 'fridge': 1798,\n",
       " 'microwave': 2746,\n",
       " 'table': 4343,\n",
       " 'liked': 2509,\n",
       " 'though': 4448,\n",
       " 'did': 1244,\n",
       " 'use': 4701,\n",
       " 'exercise': 1551,\n",
       " 'surprised': 4319,\n",
       " 'see': 3841,\n",
       " 'closely': 846,\n",
       " 'guessing': 1969,\n",
       " 'owner': 3091,\n",
       " 'who': 4889,\n",
       " 'well': 4862,\n",
       " 'stocked': 4216,\n",
       " 'yes': 4978,\n",
       " 'those': 4447,\n",
       " 'texas': 4409,\n",
       " 'shaped': 3904,\n",
       " 'waffles': 4775,\n",
       " 'only': 3018,\n",
       " 'thing': 4438,\n",
       " 'hot': 2156,\n",
       " 'tub': 4601,\n",
       " 'warm': 4807,\n",
       " 'work': 4939,\n",
       " 'seems': 3849,\n",
       " 'once': 3013,\n",
       " 'workers': 4942,\n",
       " 'upstairs': 4693,\n",
       " 'doing': 1313,\n",
       " 'stuff': 4259,\n",
       " 'suspect': 4327,\n",
       " 'think': 4440,\n",
       " 'twice': 4616,\n",
       " 'sized': 3988,\n",
       " 'people': 3181,\n",
       " 'enjoy': 1475,\n",
       " 'trip': 4583,\n",
       " 'wife': 4898,\n",
       " 'junior': 2365,\n",
       " 'suite': 4288,\n",
       " 'arrived': 253,\n",
       " 'upgraded': 4684,\n",
       " 'full': 1820,\n",
       " 'very': 4745,\n",
       " 'if': 2201,\n",
       " 'sixth': 3986,\n",
       " 'minor': 2772,\n",
       " 'problems': 3385,\n",
       " 'printers': 3374,\n",
       " 'working': 4943,\n",
       " 'reception': 3518,\n",
       " 'resulted': 3669,\n",
       " 'having': 2027,\n",
       " 'written': 4963,\n",
       " 'bill': 469,\n",
       " 'receipt': 3512,\n",
       " 'promise': 3395,\n",
       " 'email': 1447,\n",
       " 'copy': 1023,\n",
       " 'date': 1140,\n",
       " 'ate': 285,\n",
       " 'special': 4115,\n",
       " 'choices': 799,\n",
       " 'around': 244,\n",
       " 'pm': 3283,\n",
       " 'convenient': 1005,\n",
       " 'mixed': 2789,\n",
       " 'mainly': 2626,\n",
       " 'experience': 1567,\n",
       " 'into': 2301,\n",
       " 'fab': 1594,\n",
       " 'quite': 3457,\n",
       " 'matched': 2683,\n",
       " 'welcome': 4859,\n",
       " 'backed': 336,\n",
       " 'information': 2263,\n",
       " 'negative': 2880,\n",
       " 'first': 1699,\n",
       " 'issues': 2320,\n",
       " 'extra': 1587,\n",
       " 'pillows': 3231,\n",
       " 'arrive': 252,\n",
       " 'asked': 263,\n",
       " 'recommendations': 3527,\n",
       " 'son': 4080,\n",
       " 'celebrating': 713,\n",
       " 'his': 2102,\n",
       " 'th': 4410,\n",
       " 'birthday': 474,\n",
       " 'getting': 1877,\n",
       " 'blood': 501,\n",
       " 'stone': 4218,\n",
       " 'got': 1913,\n",
       " 'help': 2061,\n",
       " 'huge': 2177,\n",
       " 'confusion': 967,\n",
       " 'soup': 4098,\n",
       " 'ordered': 3043,\n",
       " 'daughter': 1143,\n",
       " 'chase': 759,\n",
       " 'order': 3042,\n",
       " 'then': 4429,\n",
       " 'wrong': 4964,\n",
       " 'came': 644,\n",
       " 'charged': 750,\n",
       " 'restaurant': 3659,\n",
       " 'delight': 1193,\n",
       " 'beer': 426,\n",
       " 'english': 1474,\n",
       " 'soda': 4055,\n",
       " 'water': 4829,\n",
       " 'instead': 2283,\n",
       " 'look': 2568,\n",
       " 'bar': 365,\n",
       " 'lady': 2421,\n",
       " 'gave': 1856,\n",
       " 'turned': 4609,\n",
       " 'anyone': 189,\n",
       " 'idea': 2196,\n",
       " 'tip': 4478,\n",
       " 'lots': 2580,\n",
       " 'things': 4439,\n",
       " 'mostly': 2821,\n",
       " 'particularly': 3139,\n",
       " 'gentleman': 1867,\n",
       " 'served': 3874,\n",
       " 'modern': 2794,\n",
       " 'should': 3932,\n",
       " 'additional': 49,\n",
       " 'family': 1621,\n",
       " 'entirely': 1489,\n",
       " 'own': 3089,\n",
       " 'fault': 1639,\n",
       " 'snacks': 4043,\n",
       " 'drinks': 1359,\n",
       " 'read': 3493,\n",
       " 'how': 2168,\n",
       " 'he': 2032,\n",
       " 'enjoyed': 1477,\n",
       " 'travel': 4552,\n",
       " 'agent': 90,\n",
       " 'group': 1957,\n",
       " 'cruise': 1100,\n",
       " 'seattle': 3831,\n",
       " 'best': 454,\n",
       " 'western': 4867,\n",
       " 'favorite': 1641,\n",
       " 'chain': 728,\n",
       " 'chose': 802,\n",
       " 'airport': 103,\n",
       " 'before': 428,\n",
       " 'our': 3058,\n",
       " 'flight': 1721,\n",
       " 'until': 4674,\n",
       " 'next': 2905,\n",
       " 'however': 2170,\n",
       " 'hours': 2161,\n",
       " 'called': 639,\n",
       " 'spoke': 4133,\n",
       " 'told': 4494,\n",
       " 'her': 2069,\n",
       " 'situation': 3984,\n",
       " 'manager': 2647,\n",
       " 'could': 1045,\n",
       " 'back': 335,\n",
       " 'later': 2445,\n",
       " 'cancel': 652,\n",
       " 'charge': 749,\n",
       " 'happy': 2010,\n",
       " 'cannot': 658,\n",
       " 'anything': 190,\n",
       " 'can': 649,\n",
       " 'easy': 1408,\n",
       " 'wait': 4776,\n",
       " 'go': 1898,\n",
       " 'traveling': 4556,\n",
       " 'business': 608,\n",
       " 'time': 4474,\n",
       " 'now': 2955,\n",
       " 'diego': 1247,\n",
       " 'impression': 2222,\n",
       " 'upon': 4687,\n",
       " 'entering': 1484,\n",
       " 'elegant': 1436,\n",
       " 'old': 3002,\n",
       " 'world': 4946,\n",
       " 'charm': 757,\n",
       " 'accommodating': 18,\n",
       " 'gracious': 1922,\n",
       " 'immediately': 2212,\n",
       " 'even': 1515,\n",
       " 'asking': 264,\n",
       " 'most': 2820,\n",
       " 'cleanest': 827,\n",
       " 'beyond': 462,\n",
       " 'expectations': 1561,\n",
       " 'made': 2614,\n",
       " 'seem': 3846,\n",
       " 'vacation': 4711,\n",
       " 'continue': 995,\n",
       " 'recommend': 3525,\n",
       " 'grant': 1930,\n",
       " 'whenever': 4880,\n",
       " 'starwood': 4181,\n",
       " 'luxury': 2606,\n",
       " 'properties': 3403,\n",
       " 'city': 814,\n",
       " 'proud': 3406,\n",
       " 'kudos': 2413,\n",
       " 'three': 4454,\n",
       " 'long': 2566,\n",
       " 'radisson': 3464,\n",
       " 'baltimore': 357,\n",
       " 'badly': 341,\n",
       " 'needs': 2879,\n",
       " 'serious': 3871,\n",
       " 'makeover': 2633,\n",
       " 'front': 1811,\n",
       " 'staffs': 4155,\n",
       " 'absolutely': 7,\n",
       " 'clueless': 860,\n",
       " 'comes': 890,\n",
       " 'surrounding': 4324,\n",
       " 'property': 3404,\n",
       " 'hint': 2098,\n",
       " 'truly': 4595,\n",
       " 'amazing': 143,\n",
       " 'second': 3833,\n",
       " 'instance': 2280,\n",
       " 'watching': 4828,\n",
       " 'young': 4986,\n",
       " 'try': 4599,\n",
       " 'explain': 1571,\n",
       " 'elevators': 1439,\n",
       " 'inquired': 2273,\n",
       " 'using': 4707,\n",
       " 'stairs': 4161,\n",
       " 'doors': 1323,\n",
       " 'supposedly': 4311,\n",
       " 'locked': 2554,\n",
       " 'ones': 3015,\n",
       " 'allow': 124,\n",
       " 'move': 2831,\n",
       " 'mind': 2764,\n",
       " 'walking': 4792,\n",
       " 'many': 2654,\n",
       " 'overly': 3083,\n",
       " 'safe': 3756,\n",
       " 'presence': 3347,\n",
       " 'police': 3290,\n",
       " 'two': 4618,\n",
       " 'blocks': 500,\n",
       " 'give': 1885,\n",
       " 'faces': 1600,\n",
       " 'inner': 2270,\n",
       " 'harbor': 2011,\n",
       " 'probably': 3383,\n",
       " 'want': 4801,\n",
       " 'solo': 4066,\n",
       " 'places': 3242,\n",
       " 'meal': 2697,\n",
       " 'black': 483,\n",
       " 'tape': 4357,\n",
       " 'walked': 4791,\n",
       " 'ended': 1465,\n",
       " 'pot': 3321,\n",
       " 'waitress': 4781,\n",
       " 'hostess': 2154,\n",
       " 'forced': 1755,\n",
       " 'select': 3851,\n",
       " 'part': 3134,\n",
       " 'meeting': 2709,\n",
       " 'approximately': 228,\n",
       " 'guy': 1973,\n",
       " 'whose': 4893,\n",
       " 'ants': 183,\n",
       " 'far': 1627,\n",
       " 'maid': 2621,\n",
       " 'come': 888,\n",
       " 'bother': 532,\n",
       " 'giving': 1888,\n",
       " 'new': 2896,\n",
       " 'towels': 4528,\n",
       " 'making': 2638,\n",
       " 'sink': 3973,\n",
       " 'vanity': 4724,\n",
       " 'cleaned': 824,\n",
       " 'request': 3625,\n",
       " 'agency': 89,\n",
       " 'red': 3531,\n",
       " 'roof': 3722,\n",
       " 'inn': 2269,\n",
       " 'phoenix': 3206,\n",
       " 'march': 2660,\n",
       " 'moving': 2835,\n",
       " 'baseball': 377,\n",
       " 'spring': 4145,\n",
       " 'training': 4542,\n",
       " 'break': 555,\n",
       " 'ammenities': 153,\n",
       " 'lot': 2578,\n",
       " 'air': 96,\n",
       " 'conditioning': 956,\n",
       " 'make': 2632,\n",
       " 'uncomfortable': 4638,\n",
       " 'sports': 4135,\n",
       " 'type': 4619,\n",
       " 'within': 4923,\n",
       " 'distance': 1295,\n",
       " 'basically': 381,\n",
       " 'strip': 4246,\n",
       " 'mall': 2640,\n",
       " 'looking': 2570,\n",
       " 'bargain': 370,\n",
       " 'sleeping': 4004,\n",
       " 'actually': 43,\n",
       " 'between': 457,\n",
       " 'activities': 40,\n",
       " 'suggest': 4279,\n",
       " 'upgrade': 4683,\n",
       " 'leave': 2472,\n",
       " 'car': 666,\n",
       " 'rest': 3656,\n",
       " 'expensive': 1566,\n",
       " 'because': 411,\n",
       " 'tidy': 4467,\n",
       " 'extensive': 1584,\n",
       " 'done': 1318,\n",
       " 'campus': 648,\n",
       " 'decided': 1165,\n",
       " 'closest': 849,\n",
       " 'allowed': 125,\n",
       " 'polite': 3294,\n",
       " 'knock': 2401,\n",
       " 'ask': 262,\n",
       " 'needed': 2875,\n",
       " 'touch': 4512,\n",
       " 'heart': 2044,\n",
       " 'downtown': 1336,\n",
       " 'noise': 2925,\n",
       " 'important': 2217,\n",
       " 'reason': 3505,\n",
       " 'why': 4894,\n",
       " 'excellent': 1537,\n",
       " 'local': 2546,\n",
       " 'floors': 1726,\n",
       " 'vending': 4733,\n",
       " 'ice': 2193,\n",
       " 'machines': 2610,\n",
       " 'driven': 1362,\n",
       " 'known': 2409,\n",
       " 'lack': 2416,\n",
       " 'chains': 729,\n",
       " 'surprising': 4321,\n",
       " 'find': 1688,\n",
       " 'subway': 4269,\n",
       " 'block': 498,\n",
       " 'child': 784,\n",
       " 'picky': 3219,\n",
       " 'info': 2261,\n",
       " 'hello': 2060,\n",
       " 'husband': 2187,\n",
       " 'sister': 3977,\n",
       " 'returned': 3675,\n",
       " 'hilton': 2094,\n",
       " 'harbour': 2012,\n",
       " 'island': 2317,\n",
       " 'loved': 2589,\n",
       " 'centrally': 720,\n",
       " 'destinations': 1235,\n",
       " 'various': 4727,\n",
       " 'settled': 3886,\n",
       " 'balconies': 351,\n",
       " 'balcony': 352,\n",
       " 'offers': 2991,\n",
       " 'gorgeous': 1912,\n",
       " 'view': 4752,\n",
       " 'except': 1538,\n",
       " 'moved': 2832,\n",
       " 'pull': 3419,\n",
       " 'couch': 1043,\n",
       " 'adults': 65,\n",
       " 'double': 1326,\n",
       " 'complaints': 929,\n",
       " 'queen': 3439,\n",
       " 'accommodate': 16,\n",
       " 'fast': 1634,\n",
       " 'manner': 2652,\n",
       " 'daily': 1127,\n",
       " 'include': 2236,\n",
       " 'rate': 3481,\n",
       " 'planned': 3248,\n",
       " 'meals': 2698,\n",
       " 'fabulous': 1596,\n",
       " 'buffet': 586,\n",
       " 'quality': 3436,\n",
       " 'notes': 2947,\n",
       " 'oriented': 3050,\n",
       " 'visit': 4761,\n",
       " 'zoo': 4999,\n",
       " 'highly': 2088,\n",
       " 'animal': 168,\n",
       " 'park': 3128,\n",
       " 'heat': 2046,\n",
       " 'both': 531,\n",
       " 'sea': 3816,\n",
       " 'chance': 736,\n",
       " 'different': 1250,\n",
       " 'trolley': 4587,\n",
       " 'tour': 4516,\n",
       " 'destination': 1234,\n",
       " 'thoroughly': 4446,\n",
       " 'ship': 3919,\n",
       " 'museums': 2848,\n",
       " 'almost': 128,\n",
       " 'interesting': 2295,\n",
       " 'kids': 2382,\n",
       " 'went': 4864,\n",
       " 'malls': 2641,\n",
       " 'town': 4531,\n",
       " 'stop': 4221,\n",
       " 'la': 2414,\n",
       " 'jolla': 2353,\n",
       " 'wow': 4958,\n",
       " 'wish': 4919,\n",
       " 'spend': 4123,\n",
       " 'coronado': 1029,\n",
       " 'note': 2945,\n",
       " 'beach': 399,\n",
       " 'chairs': 731,\n",
       " 'rent': 3602,\n",
       " 'nor': 2935,\n",
       " 'stands': 4169,\n",
       " 'least': 2470,\n",
       " 'pacific': 3094,\n",
       " 'coast': 862,\n",
       " 'highway': 2089,\n",
       " 'awesome': 328,\n",
       " 'canada': 650,\n",
       " 'august': 306,\n",
       " 'weekend': 4852,\n",
       " 'chicago': 782,\n",
       " 'meet': 2708,\n",
       " 'concerned': 945,\n",
       " 'security': 3840,\n",
       " 'safety': 3760,\n",
       " 'answers': 179,\n",
       " 'mail': 2623,\n",
       " 'given': 1886,\n",
       " 'guest': 1970,\n",
       " 'incident': 2233,\n",
       " 'treat': 4569,\n",
       " 'members': 2714,\n",
       " 'upscale': 4690,\n",
       " 'space': 4106,\n",
       " 'set': 3882,\n",
       " 'computer': 939,\n",
       " 'devices': 1240,\n",
       " 'arriving': 254,\n",
       " 'door': 1320,\n",
       " 'opened': 3022,\n",
       " 'cheerful': 771,\n",
       " 'greeted': 1946,\n",
       " 'sent': 3864,\n",
       " 'fruit': 1814,\n",
       " 'cheese': 774,\n",
       " 'tray': 4565,\n",
       " 'snack': 4042,\n",
       " 'guests': 1971,\n",
       " 'bottle': 536,\n",
       " 'wine': 4909,\n",
       " 'explained': 1572,\n",
       " 'leaving': 2474,\n",
       " 'hand': 1990,\n",
       " 'card': 667,\n",
       " 'welcoming': 4861,\n",
       " 'concierge': 949,\n",
       " 'services': 3880,\n",
       " 'whatever': 4875,\n",
       " 'available': 315,\n",
       " 'pleasantly': 3268,\n",
       " 'thankful': 4414,\n",
       " 'smoothly': 4041,\n",
       " 'added': 46,\n",
       " 'atmosphere': 286,\n",
       " 'pleasure': 3273,\n",
       " 'conference': 959,\n",
       " 'fisherman': 1702,\n",
       " 'wharf': 4873,\n",
       " 'chinatown': 790,\n",
       " 'quick': 3447,\n",
       " 'cab': 626,\n",
       " 'ride': 3688,\n",
       " 'professional': 3390,\n",
       " 'everyone': 1526,\n",
       " 'courteous': 1057,\n",
       " 'arrival': 251,\n",
       " 'rudely': 3741,\n",
       " 'bags': 346,\n",
       " 'seemed': 3847,\n",
       " 'problem': 3384,\n",
       " 'worse': 4951,\n",
       " 'hair': 1978,\n",
       " 'sooo': 4083,\n",
       " 'gross': 1954,\n",
       " 'job': 2344,\n",
       " 'reminded': 3588,\n",
       " 'hostel': 2153,\n",
       " 'europe': 1512,\n",
       " 'worth': 4953,\n",
       " 'week': 4849,\n",
       " 'superb': 4301,\n",
       " 'michael': 2742,\n",
       " 'steakhouse': 4197,\n",
       " 'fantastic': 1626,\n",
       " 'clients': 837,\n",
       " 'dinner': 1262,\n",
       " 'impressed': 2221,\n",
       " 'valet': 4716,\n",
       " 'helpful': 2063,\n",
       " 'gym': 1975,\n",
       " 'pool': 3296,\n",
       " 'definitely': 1182,\n",
       " 'century': 723,\n",
       " 'los': 2574,\n",
       " 'angeles': 165,\n",
       " 'central': 719,\n",
       " 'beverly': 460,\n",
       " 'hills': 2093,\n",
       " 'santa': 3778,\n",
       " 'monica': 2806,\n",
       " 'main': 2625,\n",
       " 'feels': 1658,\n",
       " 'isolated': 2318,\n",
       " 'surrounded': 4323,\n",
       " 'buildings': 593,\n",
       " 'apartments': 197,\n",
       " 'looks': 2571,\n",
       " 'eastern': 1407,\n",
       " 'built': 594,\n",
       " 'outside': 3070,\n",
       " 'spacious': 4108,\n",
       " 'color': 880,\n",
       " 'beautiful': 407,\n",
       " 'flowers': 1730,\n",
       " 'overall': 3074,\n",
       " 'public': 3417,\n",
       " 'areas': 235,\n",
       " 'cold': 873,\n",
       " 'efficient': 1422,\n",
       " 'means': 2701,\n",
       " 'rude': 3740,\n",
       " 'anyway': 192,\n",
       " 'fee': 1653,\n",
       " 'per': 3182,\n",
       " 'outrageous': 3067,\n",
       " 'cost': 1036,\n",
       " 'kind': 2387,\n",
       " 'pay': 3164,\n",
       " 'halls': 1983,\n",
       " 'maze': 2692,\n",
       " 'turns': 4611,\n",
       " 'lost': 2577,\n",
       " 'inside': 2276,\n",
       " 'dated': 1141,\n",
       " 'brown': 578,\n",
       " 'westwood': 4871,\n",
       " 'eat': 1409,\n",
       " 'menu': 2725,\n",
       " 'limited': 2514,\n",
       " 'selection': 3853,\n",
       " 'items': 2326,\n",
       " 'choice': 798,\n",
       " 'lacked': 2417,\n",
       " 'personality': 3193,\n",
       " 'chancellor': 737,\n",
       " 'april': 229,\n",
       " 'its': 2327,\n",
       " 'character': 747,\n",
       " 'transportation': 4550,\n",
       " 'fancy': 1624,\n",
       " 'functional': 1824,\n",
       " 'single': 3972,\n",
       " 'concerns': 946,\n",
       " 'homeless': 2118,\n",
       " 'trouble': 4591,\n",
       " 'occasional': 2973,\n",
       " 'sirens': 3976,\n",
       " 'heard': 2042,\n",
       " 'open': 3021,\n",
       " 'window': 4906,\n",
       " 'upper': 4688,\n",
       " 'reccomend': 3510,\n",
       " 'start': 4177,\n",
       " 'friends': 1806,\n",
       " 'flew': 1720,\n",
       " 'love': 2588,\n",
       " 'vicinity': 4749,\n",
       " 'crack': 1069,\n",
       " 'house': 2162,\n",
       " 'seen': 3850,\n",
       " 'fit': 1704,\n",
       " 'smelled': 4025,\n",
       " 'strong': 4248,\n",
       " 'sheets': 3912,\n",
       " 'marked': 2663,\n",
       " 'heater': 2048,\n",
       " 'painted': 3107,\n",
       " 'ugly': 4623,\n",
       " 'pink': 3233,\n",
       " 'crappy': 1075,\n",
       " 'bldg': 492,\n",
       " 'shut': 3944,\n",
       " 'down': 1330,\n",
       " 'horrible': 2143,\n",
       " 'complained': 926,\n",
       " 'these': 4433,\n",
       " 'living': 2539,\n",
       " 'conditions': 957,\n",
       " 'healthy': 2040,\n",
       " 'cancellation': 654,\n",
       " 'west': 4866,\n",
       " 'hampton': 1988,\n",
       " 'avenue': 318,\n",
       " 'advise': 73,\n",
       " 'bag': 342,\n",
       " 'positives': 3313,\n",
       " 'purple': 3426,\n",
       " 'orange': 3039,\n",
       " 'lines': 2521,\n",
       " 'quincy': 3453,\n",
       " 'decently': 1163,\n",
       " 'appointed': 217,\n",
       " 'soap': 4050,\n",
       " 'negatives': 2881,\n",
       " 'smallest': 4021,\n",
       " 'ever': 1522,\n",
       " 'class': 819,\n",
       " 'treatment': 4571,\n",
       " 'tax': 4368,\n",
       " 'options': 3037,\n",
       " 'form': 1761,\n",
       " 'function': 1823,\n",
       " 'approach': 223,\n",
       " 'promised': 3396,\n",
       " 'yet': 4979,\n",
       " 'wound': 4957,\n",
       " 'squeezed': 4150,\n",
       " 'since': 3969,\n",
       " 'used': 4702,\n",
       " 'mirror': 2779,\n",
       " 'pushed': 3431,\n",
       " 'frame': 1775,\n",
       " 'looked': 2569,\n",
       " 'plan': 3244,\n",
       " 'lowest': 2594,\n",
       " 'meaning': 2700,\n",
       " 'hip': 2099,\n",
       " 'obviously': 2971,\n",
       " 'expecting': 1563,\n",
       " 'street': 4239,\n",
       " 'wonder': 4930,\n",
       " 'short': 3929,\n",
       " 'foam': 1737,\n",
       " 'flip': 1723,\n",
       " 'sold': 4064,\n",
       " 'cookie': 1016,\n",
       " 'cutter': 1123,\n",
       " 'urban': 4695,\n",
       " 'hyatt': 2191,\n",
       " ...}"
      ]
     },
     "execution_count": 52,
     "metadata": {},
     "output_type": "execute_result"
    }
   ],
   "source": [
    "without_pipeline_tf_idf.vocabulary_"
   ]
  },
  {
   "cell_type": "code",
   "execution_count": 53,
   "id": "f094cedd-9a18-454b-b147-bef5bb6ccf43",
   "metadata": {},
   "outputs": [
    {
     "data": {
      "text/plain": [
       "5000"
      ]
     },
     "execution_count": 53,
     "metadata": {},
     "output_type": "execute_result"
    }
   ],
   "source": [
    "len(without_pipeline_tf_idf.vocabulary_)"
   ]
  },
  {
   "cell_type": "code",
   "execution_count": 54,
   "id": "2ac412df-78e0-45da-8b6a-45be41c2a64b",
   "metadata": {},
   "outputs": [
    {
     "data": {
      "text/html": [
       "<style>#sk-container-id-2 {color: black;background-color: white;}#sk-container-id-2 pre{padding: 0;}#sk-container-id-2 div.sk-toggleable {background-color: white;}#sk-container-id-2 label.sk-toggleable__label {cursor: pointer;display: block;width: 100%;margin-bottom: 0;padding: 0.3em;box-sizing: border-box;text-align: center;}#sk-container-id-2 label.sk-toggleable__label-arrow:before {content: \"▸\";float: left;margin-right: 0.25em;color: #696969;}#sk-container-id-2 label.sk-toggleable__label-arrow:hover:before {color: black;}#sk-container-id-2 div.sk-estimator:hover label.sk-toggleable__label-arrow:before {color: black;}#sk-container-id-2 div.sk-toggleable__content {max-height: 0;max-width: 0;overflow: hidden;text-align: left;background-color: #f0f8ff;}#sk-container-id-2 div.sk-toggleable__content pre {margin: 0.2em;color: black;border-radius: 0.25em;background-color: #f0f8ff;}#sk-container-id-2 input.sk-toggleable__control:checked~div.sk-toggleable__content {max-height: 200px;max-width: 100%;overflow: auto;}#sk-container-id-2 input.sk-toggleable__control:checked~label.sk-toggleable__label-arrow:before {content: \"▾\";}#sk-container-id-2 div.sk-estimator input.sk-toggleable__control:checked~label.sk-toggleable__label {background-color: #d4ebff;}#sk-container-id-2 div.sk-label input.sk-toggleable__control:checked~label.sk-toggleable__label {background-color: #d4ebff;}#sk-container-id-2 input.sk-hidden--visually {border: 0;clip: rect(1px 1px 1px 1px);clip: rect(1px, 1px, 1px, 1px);height: 1px;margin: -1px;overflow: hidden;padding: 0;position: absolute;width: 1px;}#sk-container-id-2 div.sk-estimator {font-family: monospace;background-color: #f0f8ff;border: 1px dotted black;border-radius: 0.25em;box-sizing: border-box;margin-bottom: 0.5em;}#sk-container-id-2 div.sk-estimator:hover {background-color: #d4ebff;}#sk-container-id-2 div.sk-parallel-item::after {content: \"\";width: 100%;border-bottom: 1px solid gray;flex-grow: 1;}#sk-container-id-2 div.sk-label:hover label.sk-toggleable__label {background-color: #d4ebff;}#sk-container-id-2 div.sk-serial::before {content: \"\";position: absolute;border-left: 1px solid gray;box-sizing: border-box;top: 0;bottom: 0;left: 50%;z-index: 0;}#sk-container-id-2 div.sk-serial {display: flex;flex-direction: column;align-items: center;background-color: white;padding-right: 0.2em;padding-left: 0.2em;position: relative;}#sk-container-id-2 div.sk-item {position: relative;z-index: 1;}#sk-container-id-2 div.sk-parallel {display: flex;align-items: stretch;justify-content: center;background-color: white;position: relative;}#sk-container-id-2 div.sk-item::before, #sk-container-id-2 div.sk-parallel-item::before {content: \"\";position: absolute;border-left: 1px solid gray;box-sizing: border-box;top: 0;bottom: 0;left: 50%;z-index: -1;}#sk-container-id-2 div.sk-parallel-item {display: flex;flex-direction: column;z-index: 1;position: relative;background-color: white;}#sk-container-id-2 div.sk-parallel-item:first-child::after {align-self: flex-end;width: 50%;}#sk-container-id-2 div.sk-parallel-item:last-child::after {align-self: flex-start;width: 50%;}#sk-container-id-2 div.sk-parallel-item:only-child::after {width: 0;}#sk-container-id-2 div.sk-dashed-wrapped {border: 1px dashed gray;margin: 0 0.4em 0.5em 0.4em;box-sizing: border-box;padding-bottom: 0.4em;background-color: white;}#sk-container-id-2 div.sk-label label {font-family: monospace;font-weight: bold;display: inline-block;line-height: 1.2em;}#sk-container-id-2 div.sk-label-container {text-align: center;}#sk-container-id-2 div.sk-container {/* jupyter's `normalize.less` sets `[hidden] { display: none; }` but bootstrap.min.css set `[hidden] { display: none !important; }` so we also need the `!important` here to be able to override the default hidden behavior on the sphinx rendered scikit-learn.org. See: https://github.com/scikit-learn/scikit-learn/issues/21755 */display: inline-block !important;position: relative;}#sk-container-id-2 div.sk-text-repr-fallback {display: none;}</style><div id=\"sk-container-id-2\" class=\"sk-top-container\"><div class=\"sk-text-repr-fallback\"><pre>MultinomialNB()</pre><b>In a Jupyter environment, please rerun this cell to show the HTML representation or trust the notebook. <br />On GitHub, the HTML representation is unable to render, please try loading this page with nbviewer.org.</b></div><div class=\"sk-container\" hidden><div class=\"sk-item\"><div class=\"sk-estimator sk-toggleable\"><input class=\"sk-toggleable__control sk-hidden--visually\" id=\"sk-estimator-id-4\" type=\"checkbox\" checked><label for=\"sk-estimator-id-4\" class=\"sk-toggleable__label sk-toggleable__label-arrow\">MultinomialNB</label><div class=\"sk-toggleable__content\"><pre>MultinomialNB()</pre></div></div></div></div></div>"
      ],
      "text/plain": [
       "MultinomialNB()"
      ]
     },
     "execution_count": 54,
     "metadata": {},
     "output_type": "execute_result"
    }
   ],
   "source": [
    "mnnb.fit(X=x_train_tfidf, y=y_train)"
   ]
  },
  {
   "cell_type": "code",
   "execution_count": 55,
   "id": "514de4db-35b1-487a-ba0c-b7cbb83047c5",
   "metadata": {},
   "outputs": [
    {
     "data": {
      "text/plain": [
       "array([0, 0, 1, ..., 1, 0, 1])"
      ]
     },
     "execution_count": 55,
     "metadata": {},
     "output_type": "execute_result"
    }
   ],
   "source": [
    "y_predict = mnnb.predict(X=x_test_tfidf)\n",
    "y_predict"
   ]
  },
  {
   "cell_type": "code",
   "execution_count": 56,
   "id": "ed0a9b0c-088f-48fc-8159-e82bc1ab918e",
   "metadata": {},
   "outputs": [
    {
     "data": {
      "text/plain": [
       "array([0, 0, 1, ..., 1, 1, 1])"
      ]
     },
     "execution_count": 56,
     "metadata": {},
     "output_type": "execute_result"
    }
   ],
   "source": [
    "y_test"
   ]
  },
  {
   "cell_type": "code",
   "execution_count": 57,
   "id": "eb6e7dcd-4df7-457e-b926-d21826405f11",
   "metadata": {},
   "outputs": [
    {
     "data": {
      "text/plain": [
       "array([[6304,  281],\n",
       "       [1143, 2005]], dtype=int64)"
      ]
     },
     "execution_count": 57,
     "metadata": {},
     "output_type": "execute_result"
    }
   ],
   "source": [
    "confusion_matrix(y_true=y_test, y_pred=y_predict)"
   ]
  },
  {
   "cell_type": "code",
   "execution_count": 58,
   "id": "65ba92d9-8d88-452c-951a-84e0286d9c5c",
   "metadata": {},
   "outputs": [
    {
     "data": {
      "text/plain": [
       "0.8536936196445084"
      ]
     },
     "execution_count": 58,
     "metadata": {},
     "output_type": "execute_result"
    }
   ],
   "source": [
    "accuracy_score(y_true=y_test, y_pred=y_predict)"
   ]
  }
 ],
 "metadata": {
  "kernelspec": {
   "display_name": "Python 3 (ipykernel)",
   "language": "python",
   "name": "python3"
  },
  "language_info": {
   "codemirror_mode": {
    "name": "ipython",
    "version": 3
   },
   "file_extension": ".py",
   "mimetype": "text/x-python",
   "name": "python",
   "nbconvert_exporter": "python",
   "pygments_lexer": "ipython3",
   "version": "3.10.5"
  }
 },
 "nbformat": 4,
 "nbformat_minor": 5
}

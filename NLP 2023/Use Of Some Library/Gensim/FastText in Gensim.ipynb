{
 "cells": [
  {
   "cell_type": "code",
   "execution_count": 1,
   "id": "d04122f7",
   "metadata": {},
   "outputs": [],
   "source": [
    "import gensim\n",
    "from gensim.models import FastText"
   ]
  },
  {
   "cell_type": "code",
   "execution_count": 2,
   "id": "3de26955",
   "metadata": {},
   "outputs": [],
   "source": [
    "sentences = [['I', 'love', 'nlp'],\n",
    "            ['I', 'will', 'learn', 'nlp', 'in', '2','months'],\n",
    "            ['nlp', 'is', 'future'],\n",
    "            [ 'nlp', 'saves', 'time', 'and', 'solves',\n",
    "            'lot', 'of', 'industry', 'problems'],\n",
    "            ['nlp', 'uses', 'machine', 'learning']]"
   ]
  },
  {
   "cell_type": "raw",
   "id": "31a23c18",
   "metadata": {},
   "source": [
    "All parameters:\n",
    "\n",
    "FastText(\n",
    "    sentences=None,\n",
    "    corpus_file=None,\n",
    "    sg=0,\n",
    "    hs=0,\n",
    "    vector_size=100,\n",
    "    alpha=0.025,\n",
    "    window=5,\n",
    "    min_count=5,\n",
    "    max_vocab_size=None,\n",
    "    word_ngrams=1,\n",
    "    sample=0.001,\n",
    "    seed=1,\n",
    "    workers=3,\n",
    "    min_alpha=0.0001,\n",
    "    negative=5,\n",
    "    ns_exponent=0.75,\n",
    "    cbow_mean=1,\n",
    "    hashfxn=<built-in function hash>,\n",
    "    epochs=5,\n",
    "    null_word=0,\n",
    "    min_n=3,\n",
    "    max_n=6,\n",
    "    sorted_vocab=1,\n",
    "    bucket=2000000,\n",
    "    trim_rule=None,\n",
    "    batch_words=10000,\n",
    "    callbacks=(),\n",
    "    max_final_vocab=None,\n",
    "    shrink_windows=True,\n",
    ")"
   ]
  },
  {
   "cell_type": "code",
   "execution_count": 3,
   "id": "07ae484f",
   "metadata": {},
   "outputs": [],
   "source": [
    "# Create an object\n",
    "\n",
    "fast = FastText(sentences=sentences, vector_size=20, window=1, min_count=1, workers=2, min_n=1, max_n=2)"
   ]
  },
  {
   "cell_type": "code",
   "execution_count": 4,
   "id": "b8dc1f44",
   "metadata": {},
   "outputs": [
    {
     "data": {
      "text/plain": [
       "gensim.models.fasttext.FastText"
      ]
     },
     "execution_count": 4,
     "metadata": {},
     "output_type": "execute_result"
    }
   ],
   "source": [
    "type(fast)"
   ]
  },
  {
   "cell_type": "code",
   "execution_count": 5,
   "id": "40585f73",
   "metadata": {},
   "outputs": [
    {
     "data": {
      "text/plain": [
       "array([-0.01044169, -0.00166992,  0.00851491, -0.00545158, -0.01564237,\n",
       "        0.01678065,  0.00298395,  0.00162992, -0.01518791,  0.00655623,\n",
       "        0.01039656, -0.00142836, -0.01665709,  0.00949577,  0.00262534,\n",
       "       -0.00541661,  0.0063507 , -0.00105192, -0.02014117,  0.00102295],\n",
       "      dtype=float32)"
      ]
     },
     "execution_count": 5,
     "metadata": {},
     "output_type": "execute_result"
    }
   ],
   "source": [
    "fast.wv.get_vector(word='nlp')"
   ]
  },
  {
   "cell_type": "markdown",
   "id": "7a4ce705",
   "metadata": {},
   "source": [
    "This is the advantage of using fastText. The “deep” was not present in\n",
    "training of word2vec and we did not get a vector for that word. But since\n",
    "fastText is building on character level, even for the word that was not\n",
    "there in training, it will provide results. You can see the vector for the word\n",
    "“deep,” but it's not present in the input data."
   ]
  },
  {
   "cell_type": "code",
   "execution_count": 6,
   "id": "69231aa6",
   "metadata": {},
   "outputs": [
    {
     "data": {
      "text/plain": [
       "array([-0.00718654, -0.00310375, -0.00214245, -0.00143114, -0.00600196,\n",
       "        0.00922425,  0.01241926, -0.00713524, -0.00693269, -0.00987075,\n",
       "        0.01335533, -0.00810269,  0.01761531, -0.00716007, -0.00427308,\n",
       "        0.00729467,  0.01494505, -0.01626069,  0.01229173,  0.01455308],\n",
       "      dtype=float32)"
      ]
     },
     "execution_count": 6,
     "metadata": {},
     "output_type": "execute_result"
    }
   ],
   "source": [
    "fast.wv.get_vector(word='deep')"
   ]
  },
  {
   "cell_type": "code",
   "execution_count": 7,
   "id": "022906ff",
   "metadata": {},
   "outputs": [
    {
     "data": {
      "text/plain": [
       "5"
      ]
     },
     "execution_count": 7,
     "metadata": {},
     "output_type": "execute_result"
    }
   ],
   "source": [
    "fast.corpus_count"
   ]
  },
  {
   "cell_type": "code",
   "execution_count": 8,
   "id": "ca91a71e",
   "metadata": {},
   "outputs": [
    {
     "data": {
      "text/plain": [
       "26"
      ]
     },
     "execution_count": 8,
     "metadata": {},
     "output_type": "execute_result"
    }
   ],
   "source": [
    "fast.corpus_total_words"
   ]
  },
  {
   "cell_type": "code",
   "execution_count": 9,
   "id": "b2e0fef5",
   "metadata": {},
   "outputs": [
    {
     "data": {
      "text/plain": [
       "['nlp',\n",
       " 'I',\n",
       " 'future',\n",
       " 'love',\n",
       " 'will',\n",
       " 'learn',\n",
       " 'in',\n",
       " '2',\n",
       " 'months',\n",
       " 'is',\n",
       " 'learning',\n",
       " 'machine',\n",
       " 'time',\n",
       " 'and',\n",
       " 'solves',\n",
       " 'lot',\n",
       " 'of',\n",
       " 'industry',\n",
       " 'problems',\n",
       " 'uses',\n",
       " 'saves']"
      ]
     },
     "execution_count": 9,
     "metadata": {},
     "output_type": "execute_result"
    }
   ],
   "source": [
    "fast.wv.index_to_key"
   ]
  },
  {
   "cell_type": "code",
   "execution_count": 10,
   "id": "1c63501b",
   "metadata": {},
   "outputs": [
    {
     "data": {
      "text/plain": [
       "{'nlp': 0,\n",
       " 'I': 1,\n",
       " 'future': 2,\n",
       " 'love': 3,\n",
       " 'will': 4,\n",
       " 'learn': 5,\n",
       " 'in': 6,\n",
       " '2': 7,\n",
       " 'months': 8,\n",
       " 'is': 9,\n",
       " 'learning': 10,\n",
       " 'machine': 11,\n",
       " 'time': 12,\n",
       " 'and': 13,\n",
       " 'solves': 14,\n",
       " 'lot': 15,\n",
       " 'of': 16,\n",
       " 'industry': 17,\n",
       " 'problems': 18,\n",
       " 'uses': 19,\n",
       " 'saves': 20}"
      ]
     },
     "execution_count": 10,
     "metadata": {},
     "output_type": "execute_result"
    }
   ],
   "source": [
    "fast.wv.key_to_index"
   ]
  },
  {
   "cell_type": "code",
   "execution_count": null,
   "id": "819b17df",
   "metadata": {},
   "outputs": [],
   "source": []
  }
 ],
 "metadata": {
  "kernelspec": {
   "display_name": "Python 3 (ipykernel)",
   "language": "python",
   "name": "python3"
  },
  "language_info": {
   "codemirror_mode": {
    "name": "ipython",
    "version": 3
   },
   "file_extension": ".py",
   "mimetype": "text/x-python",
   "name": "python",
   "nbconvert_exporter": "python",
   "pygments_lexer": "ipython3",
   "version": "3.11.2"
  }
 },
 "nbformat": 4,
 "nbformat_minor": 5
}

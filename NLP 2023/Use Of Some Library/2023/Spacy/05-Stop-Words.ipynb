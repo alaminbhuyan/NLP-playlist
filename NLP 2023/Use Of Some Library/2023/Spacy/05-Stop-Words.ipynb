{
 "cells": [
  {
   "cell_type": "markdown",
   "metadata": {},
   "source": [
    "# Stop Words\n",
    "Words like \"a\" and \"the\" appear so frequently that they don't require tagging as thoroughly as nouns, verbs and modifiers. We call these *stop words*, and they can be filtered from the text to be processed. spaCy holds a built-in list of some 305 English stop words."
   ]
  },
  {
   "cell_type": "code",
   "execution_count": 1,
   "metadata": {
    "tags": []
   },
   "outputs": [],
   "source": [
    "# Perform standard imports:\n",
    "import spacy"
   ]
  },
  {
   "cell_type": "code",
   "execution_count": 2,
   "metadata": {
    "tags": []
   },
   "outputs": [
    {
     "name": "stdout",
     "output_type": "stream",
     "text": [
      "spacy:  3.5.0\n"
     ]
    }
   ],
   "source": [
    "print(\"spacy: \", spacy.__version__)"
   ]
  },
  {
   "cell_type": "code",
   "execution_count": 3,
   "metadata": {
    "tags": []
   },
   "outputs": [],
   "source": [
    "nlp = spacy.load(name='en_core_web_sm')"
   ]
  },
  {
   "cell_type": "markdown",
   "metadata": {},
   "source": [
    "#### we can also handle stopwords using <b>NLTK</b> library"
   ]
  },
  {
   "cell_type": "code",
   "execution_count": 4,
   "metadata": {
    "tags": []
   },
   "outputs": [
    {
     "name": "stdout",
     "output_type": "stream",
     "text": [
      "{'four', 'thus', 'was', 'bottom', 'whereas', 'unless', 'up', 'will', 'name', 'until', 'you', 'toward', 'further', 'say', 'everyone', 'done', 'ca', 'been', \"'d\", \"n't\", 'twenty', 'his', 'anywhere', 'where', 'them', 'or', 'every', 'enough', 'such', 'within', 'i', 'and', 'next', 'what', 'becomes', 'go', 'themselves', 'is', '’ve', '’re', 'see', 'five', 'around', 'seems', 'put', 'yours', 'her', 'otherwise', '’d', 'own', 'those', 'the', 'thereafter', 'this', 'did', 'except', 'sixty', 'about', 'eleven', 'below', 'down', 'as', 'might', 'under', 'but', 'n‘t', 'already', 'he', 'whole', \"'ve\", 'somehow', 'during', 'became', 'two', 'back', 'just', 'only', 're', 'seemed', 'more', 'since', 'in', 'call', 'ourselves', 'wherein', 'off', 'somewhere', 'fifteen', 'often', 'whereupon', 'may', 'hundred', 'everything', 'beyond', 'these', 'nevertheless', 'on', 'become', 'everywhere', 'anyone', 'our', 'three', 'which', 'against', 'becoming', 'could', 'while', 'that', \"'ll\", 'has', 'behind', 'former', 'either', 'me', 'even', 'towards', '‘d', 'always', 'throughout', 'had', 'because', 'if', 'make', 'hereafter', 'were', 'yet', 'there', 'due', 'himself', 'amount', 'an', 'they', 'does', 'nothing', 'any', 'seeming', 'very', 'used', 'ours', 'your', 'therein', 'most', 'amongst', 'elsewhere', 'third', 'else', 'a', 'now', 'than', 'few', 'first', 'at', 'she', 'never', '’ll', 'am', 'ever', 'less', 'front', 'along', 'thereby', 'herself', 'hers', 'have', 'us', 'also', 'thru', 'across', 'afterwards', 'per', 'sometimes', 'hereby', 'another', 'though', 'who', 'however', 'seem', '‘s', 'my', 'how', 'twelve', 'still', 'whatever', 'perhaps', 'be', 'sometime', 'whose', 'yourself', 'no', 'serious', 'well', 'alone', '’m', 'together', 'whence', 'whenever', 'six', 'through', '‘re', 'after', 'full', 'same', 'by', 'we', 'move', 'nor', 'mostly', 'last', 'anyhow', 'their', 'thence', 'quite', 'namely', 'itself', 'when', 'indeed', 'many', \"'s\", 'each', \"'re\", 'yourselves', 'ten', 'again', 'of', 'nowhere', 'are', 'hereupon', 'latterly', 'beforehand', 'take', 'here', 'upon', 'above', 'made', 'once', '‘ll', 'neither', 'onto', 'over', 'please', 'too', 'fifty', 'can', 'meanwhile', 'anyway', 'with', 'whoever', 'eight', 'empty', 'part', 'before', 'whereby', 'wherever', 'him', 'others', 'formerly', 'between', 'then', 'for', 'should', 'beside', 'doing', 'to', 'several', 'some', 'whether', 'therefore', 'keep', 'from', 'give', 'regarding', 'into', 'nine', 'n’t', 'much', 'side', 'forty', 'nobody', 'would', 'show', 'least', 'so', 'using', 'something', 'whither', 'via', \"'m\", 'both', '‘m', 'whom', 'top', 'without', 'do', 'one', 'thereupon', 'why', 'among', 'none', '’s', 'noone', 'it', 'whereafter', 'myself', 'rather', '‘ve', 'out', 'being', 'all', 'must', 'moreover', 'cannot', 'various', 'not', 'its', 'really', 'herein', 'other', 'mine', 'besides', 'get', 'someone', 'although', 'hence', 'anything', 'latter', 'almost'}\n"
     ]
    }
   ],
   "source": [
    "# Print the set of spaCy's default stop words (remember that sets are unordered):\n",
    "\n",
    "print(nlp.Defaults.stop_words)"
   ]
  },
  {
   "cell_type": "code",
   "execution_count": 5,
   "metadata": {
    "tags": []
   },
   "outputs": [
    {
     "data": {
      "text/plain": [
       "326"
      ]
     },
     "execution_count": 5,
     "metadata": {},
     "output_type": "execute_result"
    }
   ],
   "source": [
    "len(nlp.Defaults.stop_words)"
   ]
  },
  {
   "cell_type": "code",
   "execution_count": 6,
   "metadata": {
    "tags": []
   },
   "outputs": [
    {
     "data": {
      "text/plain": [
       "set"
      ]
     },
     "execution_count": 6,
     "metadata": {},
     "output_type": "execute_result"
    }
   ],
   "source": [
    "type(nlp.Defaults.stop_words)"
   ]
  },
  {
   "cell_type": "markdown",
   "metadata": {},
   "source": [
    "## To see if a word is a stop word"
   ]
  },
  {
   "cell_type": "code",
   "execution_count": 7,
   "metadata": {
    "tags": []
   },
   "outputs": [
    {
     "data": {
      "text/plain": [
       "True"
      ]
     },
     "execution_count": 7,
     "metadata": {},
     "output_type": "execute_result"
    }
   ],
   "source": [
    "nlp.vocab['myself'].is_stop"
   ]
  },
  {
   "cell_type": "code",
   "execution_count": 8,
   "metadata": {
    "tags": []
   },
   "outputs": [
    {
     "data": {
      "text/plain": [
       "False"
      ]
     },
     "execution_count": 8,
     "metadata": {},
     "output_type": "execute_result"
    }
   ],
   "source": [
    "nlp.vocab['mystery'].is_stop"
   ]
  },
  {
   "cell_type": "code",
   "execution_count": 9,
   "metadata": {
    "tags": []
   },
   "outputs": [
    {
     "data": {
      "text/plain": [
       "True"
      ]
     },
     "execution_count": 9,
     "metadata": {},
     "output_type": "execute_result"
    }
   ],
   "source": [
    "'is' in nlp.Defaults.stop_words"
   ]
  },
  {
   "cell_type": "markdown",
   "metadata": {},
   "source": [
    "## To add a stop word\n",
    "There may be times when you wish to add a stop word to the default set. Perhaps you decide that `'btw'` (common shorthand for \"by the way\") should be considered a stop word."
   ]
  },
  {
   "cell_type": "code",
   "execution_count": 10,
   "metadata": {
    "tags": []
   },
   "outputs": [],
   "source": [
    "# Add the word to the set of stop words. Use lowercase!\n",
    "\n",
    "nlp.Defaults.stop_words.add('btw')\n",
    "\n",
    "# Set the stop_word tag on the lexeme\n",
    "\n",
    "nlp.vocab['btw'].is_stop = True"
   ]
  },
  {
   "cell_type": "code",
   "execution_count": 11,
   "metadata": {
    "tags": []
   },
   "outputs": [
    {
     "data": {
      "text/plain": [
       "327"
      ]
     },
     "execution_count": 11,
     "metadata": {},
     "output_type": "execute_result"
    }
   ],
   "source": [
    "len(nlp.Defaults.stop_words)"
   ]
  },
  {
   "cell_type": "code",
   "execution_count": 12,
   "metadata": {
    "tags": []
   },
   "outputs": [
    {
     "data": {
      "text/plain": [
       "True"
      ]
     },
     "execution_count": 12,
     "metadata": {},
     "output_type": "execute_result"
    }
   ],
   "source": [
    "nlp.vocab['btw'].is_stop"
   ]
  },
  {
   "cell_type": "markdown",
   "metadata": {},
   "source": [
    "<font color=green>When adding stop words, always use lowercase. Lexemes are converted to lowercase before being added to **vocab**.</font>"
   ]
  },
  {
   "cell_type": "markdown",
   "metadata": {},
   "source": [
    "## To remove a stop word\n",
    "Alternatively, you may decide that `'beyond'` should not be considered a stop word."
   ]
  },
  {
   "cell_type": "code",
   "execution_count": 13,
   "metadata": {
    "tags": []
   },
   "outputs": [],
   "source": [
    "# Remove the word from the set of stop words\n",
    "nlp.Defaults.stop_words.remove('beyond')\n",
    "\n",
    "# Remove the stop_word tag from the lexeme\n",
    "nlp.vocab['beyond'].is_stop = False"
   ]
  },
  {
   "cell_type": "code",
   "execution_count": 14,
   "metadata": {
    "tags": []
   },
   "outputs": [
    {
     "data": {
      "text/plain": [
       "326"
      ]
     },
     "execution_count": 14,
     "metadata": {},
     "output_type": "execute_result"
    }
   ],
   "source": [
    "len(nlp.Defaults.stop_words)"
   ]
  },
  {
   "cell_type": "code",
   "execution_count": 15,
   "metadata": {
    "tags": []
   },
   "outputs": [
    {
     "data": {
      "text/plain": [
       "False"
      ]
     },
     "execution_count": 15,
     "metadata": {},
     "output_type": "execute_result"
    }
   ],
   "source": [
    "nlp.vocab['beyond'].is_stop"
   ]
  },
  {
   "cell_type": "markdown",
   "metadata": {},
   "source": [
    "Great! Now you should be able to access spaCy's default set of stop words, and add or remove stop words as needed.\n",
    "## Next up: Vocabulary and Matching"
   ]
  }
 ],
 "metadata": {
  "kernelspec": {
   "display_name": "Python 3 (ipykernel)",
   "language": "python",
   "name": "python3"
  },
  "language_info": {
   "codemirror_mode": {
    "name": "ipython",
    "version": 3
   },
   "file_extension": ".py",
   "mimetype": "text/x-python",
   "name": "python",
   "nbconvert_exporter": "python",
   "pygments_lexer": "ipython3",
   "version": "3.11.0"
  }
 },
 "nbformat": 4,
 "nbformat_minor": 4
}

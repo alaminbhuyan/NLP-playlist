{
 "cells": [
  {
   "cell_type": "code",
   "execution_count": 1,
   "id": "1900f47e",
   "metadata": {},
   "outputs": [],
   "source": [
    "import textblob\n",
    "from textblob import TextBlob\n",
    "from textblob.classifiers import NaiveBayesClassifier"
   ]
  },
  {
   "cell_type": "code",
   "execution_count": 2,
   "id": "39ecf820",
   "metadata": {},
   "outputs": [
    {
     "name": "stdout",
     "output_type": "stream",
     "text": [
      "version of textblob:  0.17.1\n"
     ]
    }
   ],
   "source": [
    "print(\"version of textblob: \", textblob.__version__)"
   ]
  },
  {
   "cell_type": "code",
   "execution_count": 3,
   "id": "ed223fc1",
   "metadata": {},
   "outputs": [],
   "source": [
    "# The textblob.classifiers module makes it simple to create custom classifiers.\n",
    "\n",
    "# As an example, let’s create a custom sentiment analyzer.\n",
    "\n",
    "\n",
    "# Loading Data and Creating a Classifier\n",
    "\n",
    "train = [\n",
    "     ('I love this sandwich.', 'pos'),\n",
    "     ('this is an amazing place!', 'pos'),\n",
    "     ('I feel very good about these beers.', 'pos'),\n",
    "     ('this is my best work.', 'pos'),\n",
    "     (\"what an awesome view\", 'pos'),\n",
    "     ('I do not like this restaurant', 'neg'),\n",
    "     ('I am tired of this stuff.', 'neg'),\n",
    "     (\"I can't deal with this\", 'neg'),\n",
    "     ('he is my sworn enemy!', 'neg'),\n",
    "     ('my boss is horrible.', 'neg')\n",
    " ]\n",
    "\n",
    "test = [\n",
    "     ('the beer was good.', 'pos'),\n",
    "     ('I do not enjoy my job', 'neg'),\n",
    "     (\"I ain't feeling dandy today.\", 'neg'),\n",
    "     (\"I feel amazing!\", 'pos'),\n",
    "     ('Gary is a friend of mine.', 'pos'),\n",
    "     (\"I can't believe I'm doing this.\", 'neg')\n",
    " ]"
   ]
  },
  {
   "cell_type": "code",
   "execution_count": 4,
   "id": "02e864af",
   "metadata": {},
   "outputs": [],
   "source": [
    "model = NaiveBayesClassifier(train_set=train)"
   ]
  },
  {
   "cell_type": "code",
   "execution_count": 5,
   "id": "5c956e59",
   "metadata": {},
   "outputs": [
    {
     "data": {
      "text/plain": [
       "0.8333333333333334"
      ]
     },
     "execution_count": 5,
     "metadata": {},
     "output_type": "execute_result"
    }
   ],
   "source": [
    "# Evaluating Classifiers\n",
    "# To compute the accuracy on our test set, use the accuracy(test_data) method.\n",
    "\n",
    "model.accuracy(test_set=test)"
   ]
  },
  {
   "cell_type": "code",
   "execution_count": 6,
   "id": "ef32a2fc",
   "metadata": {},
   "outputs": [
    {
     "data": {
      "text/plain": [
       "'pos'"
      ]
     },
     "execution_count": 6,
     "metadata": {},
     "output_type": "execute_result"
    }
   ],
   "source": [
    "# classify new sentence sentiment\n",
    "\n",
    "model.classify(text=\"She is very good girl\")"
   ]
  },
  {
   "cell_type": "code",
   "execution_count": 7,
   "id": "9967fbc5",
   "metadata": {},
   "outputs": [
    {
     "data": {
      "text/plain": [
       "'neg'"
      ]
     },
     "execution_count": 7,
     "metadata": {},
     "output_type": "execute_result"
    }
   ],
   "source": [
    "model.classify(text=\"The book is good but I don't like it\")"
   ]
  },
  {
   "cell_type": "code",
   "execution_count": 8,
   "id": "0af8a5e7",
   "metadata": {},
   "outputs": [],
   "source": [
    "# You can get the label probability distribution with the prob_classify(text) method.\n",
    "\n",
    "prob_dist = model.prob_classify(\"This one's a doozy.\")"
   ]
  },
  {
   "cell_type": "code",
   "execution_count": 9,
   "id": "88842e3a",
   "metadata": {},
   "outputs": [
    {
     "data": {
      "text/plain": [
       "<ProbDist with 2 samples>"
      ]
     },
     "execution_count": 9,
     "metadata": {},
     "output_type": "execute_result"
    }
   ],
   "source": [
    "prob_dist"
   ]
  },
  {
   "cell_type": "code",
   "execution_count": 10,
   "id": "c445db1e",
   "metadata": {},
   "outputs": [
    {
     "data": {
      "text/plain": [
       "nltk.probability.DictionaryProbDist"
      ]
     },
     "execution_count": 10,
     "metadata": {},
     "output_type": "execute_result"
    }
   ],
   "source": [
    "type(prob_dist)"
   ]
  },
  {
   "cell_type": "code",
   "execution_count": 11,
   "id": "c08e8278",
   "metadata": {},
   "outputs": [
    {
     "data": {
      "text/plain": [
       "'pos'"
      ]
     },
     "execution_count": 11,
     "metadata": {},
     "output_type": "execute_result"
    }
   ],
   "source": [
    "prob_dist.max()"
   ]
  },
  {
   "cell_type": "code",
   "execution_count": 12,
   "id": "a53ff101",
   "metadata": {},
   "outputs": [
    {
     "data": {
      "text/plain": [
       "0.63"
      ]
     },
     "execution_count": 12,
     "metadata": {},
     "output_type": "execute_result"
    }
   ],
   "source": [
    "round(prob_dist.prob(sample='pos'), 2)"
   ]
  },
  {
   "cell_type": "code",
   "execution_count": 13,
   "id": "6ef4c039",
   "metadata": {},
   "outputs": [
    {
     "data": {
      "text/plain": [
       "0.37"
      ]
     },
     "execution_count": 13,
     "metadata": {},
     "output_type": "execute_result"
    }
   ],
   "source": [
    "round(prob_dist.prob(sample='neg'), 2)"
   ]
  },
  {
   "cell_type": "code",
   "execution_count": 14,
   "id": "ef6254a2",
   "metadata": {},
   "outputs": [],
   "source": [
    "# Classifying TextBlobs\n",
    "\n",
    "# Another way to classify text is to pass a classifier into the constructor of TextBlob and call its classify() method.\n",
    "\n",
    "\n",
    "blob = TextBlob(text=\"The beer is good. But the hangover is horrible.\", classifier=model)"
   ]
  },
  {
   "cell_type": "code",
   "execution_count": 15,
   "id": "e7ea70e4",
   "metadata": {},
   "outputs": [
    {
     "data": {
      "text/plain": [
       "'pos'"
      ]
     },
     "execution_count": 15,
     "metadata": {},
     "output_type": "execute_result"
    }
   ],
   "source": [
    "blob.classify()"
   ]
  },
  {
   "cell_type": "code",
   "execution_count": 16,
   "id": "70d3c69d",
   "metadata": {},
   "outputs": [
    {
     "name": "stdout",
     "output_type": "stream",
     "text": [
      "The beer is good. : pos\n",
      "But the hangover is horrible. : neg\n"
     ]
    }
   ],
   "source": [
    "for sent in blob.sentences:\n",
    "    print(f\"{sent} : {sent.classify()}\")"
   ]
  },
  {
   "cell_type": "code",
   "execution_count": 17,
   "id": "62796d3e",
   "metadata": {},
   "outputs": [
    {
     "name": "stdout",
     "output_type": "stream",
     "text": [
      "Most Informative Features\n",
      "            contains(my) = True              neg : pos    =      1.7 : 1.0\n",
      "            contains(an) = False             neg : pos    =      1.6 : 1.0\n",
      "             contains(I) = False             pos : neg    =      1.4 : 1.0\n",
      "             contains(I) = True              neg : pos    =      1.4 : 1.0\n",
      "            contains(my) = False             pos : neg    =      1.3 : 1.0\n"
     ]
    }
   ],
   "source": [
    "# Use the show_informative_features() method to display a listing of the most informative features.\n",
    "\n",
    "model.show_informative_features(5)"
   ]
  },
  {
   "cell_type": "code",
   "execution_count": 18,
   "id": "a1e699ff",
   "metadata": {},
   "outputs": [
    {
     "data": {
      "text/plain": [
       "True"
      ]
     },
     "execution_count": 18,
     "metadata": {},
     "output_type": "execute_result"
    }
   ],
   "source": [
    "# Updating Classifiers with New Data\n",
    "# Use the update(new_data) method to update a classifier with new training data.\n",
    "\n",
    "new_data = [('She is my best friend.', 'pos'),\n",
    "             (\"I'm happy to have a new friend.\", 'pos'),\n",
    "             (\"Stay thirsty, my friend.\", 'pos'),\n",
    "             (\"He ain't from around here.\", 'neg')]\n",
    "\n",
    "model.update(new_data=new_data)"
   ]
  },
  {
   "cell_type": "code",
   "execution_count": 19,
   "id": "a9a23a19",
   "metadata": {},
   "outputs": [
    {
     "data": {
      "text/plain": [
       "1.0"
      ]
     },
     "execution_count": 19,
     "metadata": {},
     "output_type": "execute_result"
    }
   ],
   "source": [
    "model.accuracy(test_set=test)"
   ]
  }
 ],
 "metadata": {
  "kernelspec": {
   "display_name": "Python 3 (ipykernel)",
   "language": "python",
   "name": "python3"
  },
  "language_info": {
   "codemirror_mode": {
    "name": "ipython",
    "version": 3
   },
   "file_extension": ".py",
   "mimetype": "text/x-python",
   "name": "python",
   "nbconvert_exporter": "python",
   "pygments_lexer": "ipython3",
   "version": "3.11.2"
  }
 },
 "nbformat": 4,
 "nbformat_minor": 5
}

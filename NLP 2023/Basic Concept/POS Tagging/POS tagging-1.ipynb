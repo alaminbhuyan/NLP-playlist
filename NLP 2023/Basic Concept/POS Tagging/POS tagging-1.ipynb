{
 "cells": [
  {
   "cell_type": "code",
   "execution_count": 1,
   "id": "017e1561-a8fe-48a8-9aab-f6294efb1180",
   "metadata": {},
   "outputs": [],
   "source": [
    "import spacy"
   ]
  },
  {
   "cell_type": "code",
   "execution_count": 2,
   "id": "b6b69ab6-ad51-40b6-a12e-7db5af3faead",
   "metadata": {},
   "outputs": [],
   "source": [
    "nlp = spacy.load(\"en_core_web_sm\") # load english language"
   ]
  },
  {
   "cell_type": "markdown",
   "id": "80e94d69-8b18-41df-b363-c16da393372e",
   "metadata": {},
   "source": [
    "##### The 'u' in front of the string values means the string is a Unicode string. Unicode is a way to represent more characters than normal ASCII can manage. The fact that you're seeing the u means you're on Python 2 - strings are Unicode by default on Python 3, but on Python 2, the u in front distinguishes Unicode strings."
   ]
  },
  {
   "cell_type": "code",
   "execution_count": 3,
   "id": "078271e0-17e4-45eb-a88a-cca341fe9a67",
   "metadata": {},
   "outputs": [],
   "source": [
    "doc = nlp(u\"I will google about facebook\")"
   ]
  },
  {
   "cell_type": "code",
   "execution_count": 4,
   "id": "a32594bd-3318-4b56-9314-c85c2eeb7555",
   "metadata": {},
   "outputs": [
    {
     "data": {
      "text/plain": [
       "'I will google about facebook'"
      ]
     },
     "execution_count": 4,
     "metadata": {},
     "output_type": "execute_result"
    }
   ],
   "source": [
    "doc.text"
   ]
  },
  {
   "cell_type": "code",
   "execution_count": 5,
   "id": "0d547912-534b-47be-928d-51cab6562d2e",
   "metadata": {},
   "outputs": [
    {
     "name": "stdout",
     "output_type": "stream",
     "text": [
      "I\n",
      "google\n",
      "facebook\n",
      "facebook\n",
      "will google about\n"
     ]
    }
   ],
   "source": [
    "# Now I can access the doc as a list\n",
    "\n",
    "print(doc[0])\n",
    "print(doc[2])\n",
    "print(doc[4])\n",
    "print(doc[-1])\n",
    "print(doc[1:4])"
   ]
  },
  {
   "cell_type": "code",
   "execution_count": 6,
   "id": "3c80ce59-e70b-4b50-8fb8-b12f4d935887",
   "metadata": {},
   "outputs": [
    {
     "data": {
      "text/plain": [
       "'VERB'"
      ]
     },
     "execution_count": 6,
     "metadata": {},
     "output_type": "execute_result"
    }
   ],
   "source": [
    "# See the part of speech\n",
    "\n",
    "doc[2].pos_"
   ]
  },
  {
   "cell_type": "code",
   "execution_count": 7,
   "id": "151b1cfb-22d1-4a2d-b229-46841c3f6fa3",
   "metadata": {},
   "outputs": [
    {
     "data": {
      "text/plain": [
       "'AUX'"
      ]
     },
     "execution_count": 7,
     "metadata": {},
     "output_type": "execute_result"
    }
   ],
   "source": [
    "doc[1].pos_"
   ]
  },
  {
   "cell_type": "code",
   "execution_count": 8,
   "id": "c3e9d6e4-ffa1-46f0-b552-00d0d0c2be93",
   "metadata": {},
   "outputs": [
    {
     "data": {
      "text/plain": [
       "'MD'"
      ]
     },
     "execution_count": 8,
     "metadata": {},
     "output_type": "execute_result"
    }
   ],
   "source": [
    "# More specifically \n",
    "\n",
    "doc[1].tag_"
   ]
  },
  {
   "cell_type": "code",
   "execution_count": 9,
   "id": "e7647377-16a6-4eff-af14-bcafb17a555c",
   "metadata": {},
   "outputs": [
    {
     "data": {
      "text/plain": [
       "'verb, modal auxiliary'"
      ]
     },
     "execution_count": 9,
     "metadata": {},
     "output_type": "execute_result"
    }
   ],
   "source": [
    "# See the explaination\n",
    "\n",
    "spacy.explain(term='MD')"
   ]
  },
  {
   "cell_type": "code",
   "execution_count": 10,
   "id": "c0245bc6-1313-4758-a4d2-3294f5645ddc",
   "metadata": {},
   "outputs": [
    {
     "name": "stdout",
     "output_type": "stream",
     "text": [
      "Text: I ---> POS: PRON ---> Tag: PRP ---> Explain: pronoun, personal\n",
      "Text: will ---> POS: AUX ---> Tag: MD ---> Explain: verb, modal auxiliary\n",
      "Text: google ---> POS: VERB ---> Tag: VB ---> Explain: verb, base form\n",
      "Text: about ---> POS: ADP ---> Tag: IN ---> Explain: conjunction, subordinating or preposition\n",
      "Text: facebook ---> POS: VERB ---> Tag: VB ---> Explain: verb, base form\n"
     ]
    }
   ],
   "source": [
    "for word in doc:\n",
    "    print(f\"Text: {word.text} ---> POS: {word.pos_} ---> Tag: {word.tag_} ---> Explain: {spacy.explain(term=word.tag_)}\")"
   ]
  },
  {
   "cell_type": "code",
   "execution_count": 11,
   "id": "3be4ece6-987e-469b-a4c0-93235f9f2d8c",
   "metadata": {},
   "outputs": [
    {
     "name": "stdout",
     "output_type": "stream",
     "text": [
      "Text: I ---> POS: PRON ---> Tag: PRP ---> Explain: pronoun, personal\n",
      "Text: left ---> POS: VERB ---> Tag: VBD ---> Explain: verb, past tense\n",
      "Text: the ---> POS: DET ---> Tag: DT ---> Explain: determiner\n",
      "Text: room ---> POS: NOUN ---> Tag: NN ---> Explain: noun, singular or mass\n"
     ]
    }
   ],
   "source": [
    "doc2 = nlp(u\"I left the room\")\n",
    "\n",
    "for word in doc2:\n",
    "    print(f\"Text: {word.text} ---> POS: {word.pos_} ---> Tag: {word.tag_} ---> Explain: {spacy.explain(term=word.tag_)}\")"
   ]
  },
  {
   "cell_type": "code",
   "execution_count": 12,
   "id": "9e7f722c-5cf8-4480-af51-e0f72afce690",
   "metadata": {},
   "outputs": [
    {
     "name": "stdout",
     "output_type": "stream",
     "text": [
      "Text: to ---> POS: ADP ---> Tag: IN ---> Explain: conjunction, subordinating or preposition\n",
      "Text: the ---> POS: DET ---> Tag: DT ---> Explain: determiner\n",
      "Text: left ---> POS: NOUN ---> Tag: NN ---> Explain: noun, singular or mass\n",
      "Text: of ---> POS: ADP ---> Tag: IN ---> Explain: conjunction, subordinating or preposition\n",
      "Text: the ---> POS: DET ---> Tag: DT ---> Explain: determiner\n",
      "Text: room ---> POS: NOUN ---> Tag: NN ---> Explain: noun, singular or mass\n"
     ]
    }
   ],
   "source": [
    "doc3 = nlp(u\"to the left of the room\")\n",
    "\n",
    "for word in doc3:\n",
    "    print(f\"Text: {word.text} ---> POS: {word.pos_} ---> Tag: {word.tag_} ---> Explain: {spacy.explain(term=word.tag_)}\")"
   ]
  },
  {
   "cell_type": "code",
   "execution_count": 13,
   "id": "77015da5-ab98-4781-b602-d49408dbf390",
   "metadata": {},
   "outputs": [
    {
     "name": "stdout",
     "output_type": "stream",
     "text": [
      "Text: I ---> POS: PRON ---> Tag: PRP ---> Explain: pronoun, personal\n",
      "Text: read ---> POS: VERB ---> Tag: VBP ---> Explain: verb, non-3rd person singular present\n",
      "Text: books ---> POS: NOUN ---> Tag: NNS ---> Explain: noun, plural\n",
      "Text: on ---> POS: ADP ---> Tag: IN ---> Explain: conjunction, subordinating or preposition\n",
      "Text: history ---> POS: NOUN ---> Tag: NN ---> Explain: noun, singular or mass\n"
     ]
    }
   ],
   "source": [
    "doc4 = nlp(u\"I read books on history\")\n",
    "\n",
    "for word in doc4:\n",
    "    print(f\"Text: {word.text} ---> POS: {word.pos_} ---> Tag: {word.tag_} ---> Explain: {spacy.explain(term=word.tag_)}\")"
   ]
  },
  {
   "cell_type": "code",
   "execution_count": 14,
   "id": "fbac9307-0d33-4bae-b594-bcb26de9ed81",
   "metadata": {},
   "outputs": [
    {
     "name": "stdout",
     "output_type": "stream",
     "text": [
      "Text: I ---> POS: PRON ---> Tag: PRP ---> Explain: pronoun, personal\n",
      "Text: read ---> POS: VERB ---> Tag: VBP ---> Explain: verb, non-3rd person singular present\n",
      "Text: books ---> POS: NOUN ---> Tag: NNS ---> Explain: noun, plural\n",
      "Text: on ---> POS: ADP ---> Tag: IN ---> Explain: conjunction, subordinating or preposition\n",
      "Text: history ---> POS: NOUN ---> Tag: NN ---> Explain: noun, singular or mass\n"
     ]
    }
   ],
   "source": [
    "doc5 = nlp(u\"I have read a books on history\")\n",
    "\n",
    "for word in doc4:\n",
    "    print(f\"Text: {word.text} ---> POS: {word.pos_} ---> Tag: {word.tag_} ---> Explain: {spacy.explain(term=word.tag_)}\")"
   ]
  },
  {
   "cell_type": "code",
   "execution_count": 15,
   "id": "edddadac-9ca0-4435-843b-d376bd21e962",
   "metadata": {},
   "outputs": [],
   "source": [
    "doc6 = nlp(u\"The quick brown fox jumped over the lazy dog\")"
   ]
  },
  {
   "cell_type": "code",
   "execution_count": 16,
   "id": "e157ac40-ecbb-4641-b3a0-e2c494d83339",
   "metadata": {},
   "outputs": [
    {
     "data": {
      "text/html": [
       "<span class=\"tex2jax_ignore\"><svg xmlns=\"http://www.w3.org/2000/svg\" xmlns:xlink=\"http://www.w3.org/1999/xlink\" xml:lang=\"en\" id=\"60ea6b93770740e18a7a1ec8bc64a971-0\" class=\"displacy\" width=\"1625\" height=\"399.5\" direction=\"ltr\" style=\"max-width: none; height: 399.5px; color: #000000; background: #ffffff; font-family: Arial; direction: ltr\">\n",
       "<text class=\"displacy-token\" fill=\"currentColor\" text-anchor=\"middle\" y=\"309.5\">\n",
       "    <tspan class=\"displacy-word\" fill=\"currentColor\" x=\"50\">The</tspan>\n",
       "    <tspan class=\"displacy-tag\" dy=\"2em\" fill=\"currentColor\" x=\"50\">DET</tspan>\n",
       "</text>\n",
       "\n",
       "<text class=\"displacy-token\" fill=\"currentColor\" text-anchor=\"middle\" y=\"309.5\">\n",
       "    <tspan class=\"displacy-word\" fill=\"currentColor\" x=\"225\">quick</tspan>\n",
       "    <tspan class=\"displacy-tag\" dy=\"2em\" fill=\"currentColor\" x=\"225\">ADJ</tspan>\n",
       "</text>\n",
       "\n",
       "<text class=\"displacy-token\" fill=\"currentColor\" text-anchor=\"middle\" y=\"309.5\">\n",
       "    <tspan class=\"displacy-word\" fill=\"currentColor\" x=\"400\">brown</tspan>\n",
       "    <tspan class=\"displacy-tag\" dy=\"2em\" fill=\"currentColor\" x=\"400\">ADJ</tspan>\n",
       "</text>\n",
       "\n",
       "<text class=\"displacy-token\" fill=\"currentColor\" text-anchor=\"middle\" y=\"309.5\">\n",
       "    <tspan class=\"displacy-word\" fill=\"currentColor\" x=\"575\">fox</tspan>\n",
       "    <tspan class=\"displacy-tag\" dy=\"2em\" fill=\"currentColor\" x=\"575\">NOUN</tspan>\n",
       "</text>\n",
       "\n",
       "<text class=\"displacy-token\" fill=\"currentColor\" text-anchor=\"middle\" y=\"309.5\">\n",
       "    <tspan class=\"displacy-word\" fill=\"currentColor\" x=\"750\">jumped</tspan>\n",
       "    <tspan class=\"displacy-tag\" dy=\"2em\" fill=\"currentColor\" x=\"750\">VERB</tspan>\n",
       "</text>\n",
       "\n",
       "<text class=\"displacy-token\" fill=\"currentColor\" text-anchor=\"middle\" y=\"309.5\">\n",
       "    <tspan class=\"displacy-word\" fill=\"currentColor\" x=\"925\">over</tspan>\n",
       "    <tspan class=\"displacy-tag\" dy=\"2em\" fill=\"currentColor\" x=\"925\">ADP</tspan>\n",
       "</text>\n",
       "\n",
       "<text class=\"displacy-token\" fill=\"currentColor\" text-anchor=\"middle\" y=\"309.5\">\n",
       "    <tspan class=\"displacy-word\" fill=\"currentColor\" x=\"1100\">the</tspan>\n",
       "    <tspan class=\"displacy-tag\" dy=\"2em\" fill=\"currentColor\" x=\"1100\">DET</tspan>\n",
       "</text>\n",
       "\n",
       "<text class=\"displacy-token\" fill=\"currentColor\" text-anchor=\"middle\" y=\"309.5\">\n",
       "    <tspan class=\"displacy-word\" fill=\"currentColor\" x=\"1275\">lazy</tspan>\n",
       "    <tspan class=\"displacy-tag\" dy=\"2em\" fill=\"currentColor\" x=\"1275\">ADJ</tspan>\n",
       "</text>\n",
       "\n",
       "<text class=\"displacy-token\" fill=\"currentColor\" text-anchor=\"middle\" y=\"309.5\">\n",
       "    <tspan class=\"displacy-word\" fill=\"currentColor\" x=\"1450\">dog</tspan>\n",
       "    <tspan class=\"displacy-tag\" dy=\"2em\" fill=\"currentColor\" x=\"1450\">NOUN</tspan>\n",
       "</text>\n",
       "\n",
       "<g class=\"displacy-arrow\">\n",
       "    <path class=\"displacy-arc\" id=\"arrow-60ea6b93770740e18a7a1ec8bc64a971-0-0\" stroke-width=\"2px\" d=\"M70,264.5 C70,2.0 575.0,2.0 575.0,264.5\" fill=\"none\" stroke=\"currentColor\"/>\n",
       "    <text dy=\"1.25em\" style=\"font-size: 0.8em; letter-spacing: 1px\">\n",
       "        <textPath xlink:href=\"#arrow-60ea6b93770740e18a7a1ec8bc64a971-0-0\" class=\"displacy-label\" startOffset=\"50%\" side=\"left\" fill=\"currentColor\" text-anchor=\"middle\">det</textPath>\n",
       "    </text>\n",
       "    <path class=\"displacy-arrowhead\" d=\"M70,266.5 L62,254.5 78,254.5\" fill=\"currentColor\"/>\n",
       "</g>\n",
       "\n",
       "<g class=\"displacy-arrow\">\n",
       "    <path class=\"displacy-arc\" id=\"arrow-60ea6b93770740e18a7a1ec8bc64a971-0-1\" stroke-width=\"2px\" d=\"M245,264.5 C245,89.5 570.0,89.5 570.0,264.5\" fill=\"none\" stroke=\"currentColor\"/>\n",
       "    <text dy=\"1.25em\" style=\"font-size: 0.8em; letter-spacing: 1px\">\n",
       "        <textPath xlink:href=\"#arrow-60ea6b93770740e18a7a1ec8bc64a971-0-1\" class=\"displacy-label\" startOffset=\"50%\" side=\"left\" fill=\"currentColor\" text-anchor=\"middle\">amod</textPath>\n",
       "    </text>\n",
       "    <path class=\"displacy-arrowhead\" d=\"M245,266.5 L237,254.5 253,254.5\" fill=\"currentColor\"/>\n",
       "</g>\n",
       "\n",
       "<g class=\"displacy-arrow\">\n",
       "    <path class=\"displacy-arc\" id=\"arrow-60ea6b93770740e18a7a1ec8bc64a971-0-2\" stroke-width=\"2px\" d=\"M420,264.5 C420,177.0 565.0,177.0 565.0,264.5\" fill=\"none\" stroke=\"currentColor\"/>\n",
       "    <text dy=\"1.25em\" style=\"font-size: 0.8em; letter-spacing: 1px\">\n",
       "        <textPath xlink:href=\"#arrow-60ea6b93770740e18a7a1ec8bc64a971-0-2\" class=\"displacy-label\" startOffset=\"50%\" side=\"left\" fill=\"currentColor\" text-anchor=\"middle\">amod</textPath>\n",
       "    </text>\n",
       "    <path class=\"displacy-arrowhead\" d=\"M420,266.5 L412,254.5 428,254.5\" fill=\"currentColor\"/>\n",
       "</g>\n",
       "\n",
       "<g class=\"displacy-arrow\">\n",
       "    <path class=\"displacy-arc\" id=\"arrow-60ea6b93770740e18a7a1ec8bc64a971-0-3\" stroke-width=\"2px\" d=\"M595,264.5 C595,177.0 740.0,177.0 740.0,264.5\" fill=\"none\" stroke=\"currentColor\"/>\n",
       "    <text dy=\"1.25em\" style=\"font-size: 0.8em; letter-spacing: 1px\">\n",
       "        <textPath xlink:href=\"#arrow-60ea6b93770740e18a7a1ec8bc64a971-0-3\" class=\"displacy-label\" startOffset=\"50%\" side=\"left\" fill=\"currentColor\" text-anchor=\"middle\">nsubj</textPath>\n",
       "    </text>\n",
       "    <path class=\"displacy-arrowhead\" d=\"M595,266.5 L587,254.5 603,254.5\" fill=\"currentColor\"/>\n",
       "</g>\n",
       "\n",
       "<g class=\"displacy-arrow\">\n",
       "    <path class=\"displacy-arc\" id=\"arrow-60ea6b93770740e18a7a1ec8bc64a971-0-4\" stroke-width=\"2px\" d=\"M770,264.5 C770,177.0 915.0,177.0 915.0,264.5\" fill=\"none\" stroke=\"currentColor\"/>\n",
       "    <text dy=\"1.25em\" style=\"font-size: 0.8em; letter-spacing: 1px\">\n",
       "        <textPath xlink:href=\"#arrow-60ea6b93770740e18a7a1ec8bc64a971-0-4\" class=\"displacy-label\" startOffset=\"50%\" side=\"left\" fill=\"currentColor\" text-anchor=\"middle\">prep</textPath>\n",
       "    </text>\n",
       "    <path class=\"displacy-arrowhead\" d=\"M915.0,266.5 L923.0,254.5 907.0,254.5\" fill=\"currentColor\"/>\n",
       "</g>\n",
       "\n",
       "<g class=\"displacy-arrow\">\n",
       "    <path class=\"displacy-arc\" id=\"arrow-60ea6b93770740e18a7a1ec8bc64a971-0-5\" stroke-width=\"2px\" d=\"M1120,264.5 C1120,89.5 1445.0,89.5 1445.0,264.5\" fill=\"none\" stroke=\"currentColor\"/>\n",
       "    <text dy=\"1.25em\" style=\"font-size: 0.8em; letter-spacing: 1px\">\n",
       "        <textPath xlink:href=\"#arrow-60ea6b93770740e18a7a1ec8bc64a971-0-5\" class=\"displacy-label\" startOffset=\"50%\" side=\"left\" fill=\"currentColor\" text-anchor=\"middle\">det</textPath>\n",
       "    </text>\n",
       "    <path class=\"displacy-arrowhead\" d=\"M1120,266.5 L1112,254.5 1128,254.5\" fill=\"currentColor\"/>\n",
       "</g>\n",
       "\n",
       "<g class=\"displacy-arrow\">\n",
       "    <path class=\"displacy-arc\" id=\"arrow-60ea6b93770740e18a7a1ec8bc64a971-0-6\" stroke-width=\"2px\" d=\"M1295,264.5 C1295,177.0 1440.0,177.0 1440.0,264.5\" fill=\"none\" stroke=\"currentColor\"/>\n",
       "    <text dy=\"1.25em\" style=\"font-size: 0.8em; letter-spacing: 1px\">\n",
       "        <textPath xlink:href=\"#arrow-60ea6b93770740e18a7a1ec8bc64a971-0-6\" class=\"displacy-label\" startOffset=\"50%\" side=\"left\" fill=\"currentColor\" text-anchor=\"middle\">amod</textPath>\n",
       "    </text>\n",
       "    <path class=\"displacy-arrowhead\" d=\"M1295,266.5 L1287,254.5 1303,254.5\" fill=\"currentColor\"/>\n",
       "</g>\n",
       "\n",
       "<g class=\"displacy-arrow\">\n",
       "    <path class=\"displacy-arc\" id=\"arrow-60ea6b93770740e18a7a1ec8bc64a971-0-7\" stroke-width=\"2px\" d=\"M945,264.5 C945,2.0 1450.0,2.0 1450.0,264.5\" fill=\"none\" stroke=\"currentColor\"/>\n",
       "    <text dy=\"1.25em\" style=\"font-size: 0.8em; letter-spacing: 1px\">\n",
       "        <textPath xlink:href=\"#arrow-60ea6b93770740e18a7a1ec8bc64a971-0-7\" class=\"displacy-label\" startOffset=\"50%\" side=\"left\" fill=\"currentColor\" text-anchor=\"middle\">pobj</textPath>\n",
       "    </text>\n",
       "    <path class=\"displacy-arrowhead\" d=\"M1450.0,266.5 L1458.0,254.5 1442.0,254.5\" fill=\"currentColor\"/>\n",
       "</g>\n",
       "</svg></span>"
      ],
      "text/plain": [
       "<IPython.core.display.HTML object>"
      ]
     },
     "metadata": {},
     "output_type": "display_data"
    }
   ],
   "source": [
    "spacy.displacy.render(docs=doc6, style='dep', jupyter=True)"
   ]
  },
  {
   "cell_type": "code",
   "execution_count": 17,
   "id": "ca2dfcef-6530-4b0a-a924-9088ad690705",
   "metadata": {},
   "outputs": [
    {
     "data": {
      "text/html": [
       "<span class=\"tex2jax_ignore\"><svg xmlns=\"http://www.w3.org/2000/svg\" xmlns:xlink=\"http://www.w3.org/1999/xlink\" xml:lang=\"en\" id=\"273653fcecf542edb46663c615fd9f82-0\" class=\"displacy\" width=\"770\" height=\"257.0\" direction=\"ltr\" style=\"max-width: none; height: 257.0px; color: #fff; background: green; font-family: Arial; direction: ltr\">\n",
       "<text class=\"displacy-token\" fill=\"currentColor\" text-anchor=\"middle\" y=\"167.0\">\n",
       "    <tspan class=\"displacy-word\" fill=\"currentColor\" x=\"50\">The</tspan>\n",
       "    <tspan class=\"displacy-tag\" dy=\"2em\" fill=\"currentColor\" x=\"50\">DET</tspan>\n",
       "</text>\n",
       "\n",
       "<text class=\"displacy-token\" fill=\"currentColor\" text-anchor=\"middle\" y=\"167.0\">\n",
       "    <tspan class=\"displacy-word\" fill=\"currentColor\" x=\"130\">quick</tspan>\n",
       "    <tspan class=\"displacy-tag\" dy=\"2em\" fill=\"currentColor\" x=\"130\">ADJ</tspan>\n",
       "</text>\n",
       "\n",
       "<text class=\"displacy-token\" fill=\"currentColor\" text-anchor=\"middle\" y=\"167.0\">\n",
       "    <tspan class=\"displacy-word\" fill=\"currentColor\" x=\"210\">brown</tspan>\n",
       "    <tspan class=\"displacy-tag\" dy=\"2em\" fill=\"currentColor\" x=\"210\">ADJ</tspan>\n",
       "</text>\n",
       "\n",
       "<text class=\"displacy-token\" fill=\"currentColor\" text-anchor=\"middle\" y=\"167.0\">\n",
       "    <tspan class=\"displacy-word\" fill=\"currentColor\" x=\"290\">fox</tspan>\n",
       "    <tspan class=\"displacy-tag\" dy=\"2em\" fill=\"currentColor\" x=\"290\">NOUN</tspan>\n",
       "</text>\n",
       "\n",
       "<text class=\"displacy-token\" fill=\"currentColor\" text-anchor=\"middle\" y=\"167.0\">\n",
       "    <tspan class=\"displacy-word\" fill=\"currentColor\" x=\"370\">jumped</tspan>\n",
       "    <tspan class=\"displacy-tag\" dy=\"2em\" fill=\"currentColor\" x=\"370\">VERB</tspan>\n",
       "</text>\n",
       "\n",
       "<text class=\"displacy-token\" fill=\"currentColor\" text-anchor=\"middle\" y=\"167.0\">\n",
       "    <tspan class=\"displacy-word\" fill=\"currentColor\" x=\"450\">over</tspan>\n",
       "    <tspan class=\"displacy-tag\" dy=\"2em\" fill=\"currentColor\" x=\"450\">ADP</tspan>\n",
       "</text>\n",
       "\n",
       "<text class=\"displacy-token\" fill=\"currentColor\" text-anchor=\"middle\" y=\"167.0\">\n",
       "    <tspan class=\"displacy-word\" fill=\"currentColor\" x=\"530\">the</tspan>\n",
       "    <tspan class=\"displacy-tag\" dy=\"2em\" fill=\"currentColor\" x=\"530\">DET</tspan>\n",
       "</text>\n",
       "\n",
       "<text class=\"displacy-token\" fill=\"currentColor\" text-anchor=\"middle\" y=\"167.0\">\n",
       "    <tspan class=\"displacy-word\" fill=\"currentColor\" x=\"610\">lazy</tspan>\n",
       "    <tspan class=\"displacy-tag\" dy=\"2em\" fill=\"currentColor\" x=\"610\">ADJ</tspan>\n",
       "</text>\n",
       "\n",
       "<text class=\"displacy-token\" fill=\"currentColor\" text-anchor=\"middle\" y=\"167.0\">\n",
       "    <tspan class=\"displacy-word\" fill=\"currentColor\" x=\"690\">dog</tspan>\n",
       "    <tspan class=\"displacy-tag\" dy=\"2em\" fill=\"currentColor\" x=\"690\">NOUN</tspan>\n",
       "</text>\n",
       "\n",
       "<g class=\"displacy-arrow\">\n",
       "    <path class=\"displacy-arc\" id=\"arrow-273653fcecf542edb46663c615fd9f82-0-0\" stroke-width=\"2px\" d=\"M62,122.0 62,82.0 290.0,82.0 290.0,122.0\" fill=\"none\" stroke=\"currentColor\"/>\n",
       "    <text dy=\"1.25em\" style=\"font-size: 0.8em; letter-spacing: 1px\">\n",
       "        <textPath xlink:href=\"#arrow-273653fcecf542edb46663c615fd9f82-0-0\" class=\"displacy-label\" startOffset=\"50%\" side=\"left\" fill=\"currentColor\" text-anchor=\"middle\">det</textPath>\n",
       "    </text>\n",
       "    <path class=\"displacy-arrowhead\" d=\"M62,124.0 L58,116.0 66,116.0\" fill=\"currentColor\"/>\n",
       "</g>\n",
       "\n",
       "<g class=\"displacy-arrow\">\n",
       "    <path class=\"displacy-arc\" id=\"arrow-273653fcecf542edb46663c615fd9f82-0-1\" stroke-width=\"2px\" d=\"M142,122.0 142,95.33333333333333 287.0,95.33333333333333 287.0,122.0\" fill=\"none\" stroke=\"currentColor\"/>\n",
       "    <text dy=\"1.25em\" style=\"font-size: 0.8em; letter-spacing: 1px\">\n",
       "        <textPath xlink:href=\"#arrow-273653fcecf542edb46663c615fd9f82-0-1\" class=\"displacy-label\" startOffset=\"50%\" side=\"left\" fill=\"currentColor\" text-anchor=\"middle\">amod</textPath>\n",
       "    </text>\n",
       "    <path class=\"displacy-arrowhead\" d=\"M142,124.0 L138,116.0 146,116.0\" fill=\"currentColor\"/>\n",
       "</g>\n",
       "\n",
       "<g class=\"displacy-arrow\">\n",
       "    <path class=\"displacy-arc\" id=\"arrow-273653fcecf542edb46663c615fd9f82-0-2\" stroke-width=\"2px\" d=\"M222,122.0 222,108.66666666666667 284.0,108.66666666666667 284.0,122.0\" fill=\"none\" stroke=\"currentColor\"/>\n",
       "    <text dy=\"1.25em\" style=\"font-size: 0.8em; letter-spacing: 1px\">\n",
       "        <textPath xlink:href=\"#arrow-273653fcecf542edb46663c615fd9f82-0-2\" class=\"displacy-label\" startOffset=\"50%\" side=\"left\" fill=\"currentColor\" text-anchor=\"middle\">amod</textPath>\n",
       "    </text>\n",
       "    <path class=\"displacy-arrowhead\" d=\"M222,124.0 L218,116.0 226,116.0\" fill=\"currentColor\"/>\n",
       "</g>\n",
       "\n",
       "<g class=\"displacy-arrow\">\n",
       "    <path class=\"displacy-arc\" id=\"arrow-273653fcecf542edb46663c615fd9f82-0-3\" stroke-width=\"2px\" d=\"M302,122.0 302,108.66666666666667 364.0,108.66666666666667 364.0,122.0\" fill=\"none\" stroke=\"currentColor\"/>\n",
       "    <text dy=\"1.25em\" style=\"font-size: 0.8em; letter-spacing: 1px\">\n",
       "        <textPath xlink:href=\"#arrow-273653fcecf542edb46663c615fd9f82-0-3\" class=\"displacy-label\" startOffset=\"50%\" side=\"left\" fill=\"currentColor\" text-anchor=\"middle\">nsubj</textPath>\n",
       "    </text>\n",
       "    <path class=\"displacy-arrowhead\" d=\"M302,124.0 L298,116.0 306,116.0\" fill=\"currentColor\"/>\n",
       "</g>\n",
       "\n",
       "<g class=\"displacy-arrow\">\n",
       "    <path class=\"displacy-arc\" id=\"arrow-273653fcecf542edb46663c615fd9f82-0-4\" stroke-width=\"2px\" d=\"M382,122.0 382,108.66666666666667 444.0,108.66666666666667 444.0,122.0\" fill=\"none\" stroke=\"currentColor\"/>\n",
       "    <text dy=\"1.25em\" style=\"font-size: 0.8em; letter-spacing: 1px\">\n",
       "        <textPath xlink:href=\"#arrow-273653fcecf542edb46663c615fd9f82-0-4\" class=\"displacy-label\" startOffset=\"50%\" side=\"left\" fill=\"currentColor\" text-anchor=\"middle\">prep</textPath>\n",
       "    </text>\n",
       "    <path class=\"displacy-arrowhead\" d=\"M444.0,124.0 L448.0,116.0 440.0,116.0\" fill=\"currentColor\"/>\n",
       "</g>\n",
       "\n",
       "<g class=\"displacy-arrow\">\n",
       "    <path class=\"displacy-arc\" id=\"arrow-273653fcecf542edb46663c615fd9f82-0-5\" stroke-width=\"2px\" d=\"M542,122.0 542,95.33333333333333 687.0,95.33333333333333 687.0,122.0\" fill=\"none\" stroke=\"currentColor\"/>\n",
       "    <text dy=\"1.25em\" style=\"font-size: 0.8em; letter-spacing: 1px\">\n",
       "        <textPath xlink:href=\"#arrow-273653fcecf542edb46663c615fd9f82-0-5\" class=\"displacy-label\" startOffset=\"50%\" side=\"left\" fill=\"currentColor\" text-anchor=\"middle\">det</textPath>\n",
       "    </text>\n",
       "    <path class=\"displacy-arrowhead\" d=\"M542,124.0 L538,116.0 546,116.0\" fill=\"currentColor\"/>\n",
       "</g>\n",
       "\n",
       "<g class=\"displacy-arrow\">\n",
       "    <path class=\"displacy-arc\" id=\"arrow-273653fcecf542edb46663c615fd9f82-0-6\" stroke-width=\"2px\" d=\"M622,122.0 622,108.66666666666667 684.0,108.66666666666667 684.0,122.0\" fill=\"none\" stroke=\"currentColor\"/>\n",
       "    <text dy=\"1.25em\" style=\"font-size: 0.8em; letter-spacing: 1px\">\n",
       "        <textPath xlink:href=\"#arrow-273653fcecf542edb46663c615fd9f82-0-6\" class=\"displacy-label\" startOffset=\"50%\" side=\"left\" fill=\"currentColor\" text-anchor=\"middle\">amod</textPath>\n",
       "    </text>\n",
       "    <path class=\"displacy-arrowhead\" d=\"M622,124.0 L618,116.0 626,116.0\" fill=\"currentColor\"/>\n",
       "</g>\n",
       "\n",
       "<g class=\"displacy-arrow\">\n",
       "    <path class=\"displacy-arc\" id=\"arrow-273653fcecf542edb46663c615fd9f82-0-7\" stroke-width=\"2px\" d=\"M462,122.0 462,82.0 690.0,82.0 690.0,122.0\" fill=\"none\" stroke=\"currentColor\"/>\n",
       "    <text dy=\"1.25em\" style=\"font-size: 0.8em; letter-spacing: 1px\">\n",
       "        <textPath xlink:href=\"#arrow-273653fcecf542edb46663c615fd9f82-0-7\" class=\"displacy-label\" startOffset=\"50%\" side=\"left\" fill=\"currentColor\" text-anchor=\"middle\">pobj</textPath>\n",
       "    </text>\n",
       "    <path class=\"displacy-arrowhead\" d=\"M690.0,124.0 L694.0,116.0 686.0,116.0\" fill=\"currentColor\"/>\n",
       "</g>\n",
       "</svg></span>"
      ],
      "text/plain": [
       "<IPython.core.display.HTML object>"
      ]
     },
     "metadata": {},
     "output_type": "display_data"
    }
   ],
   "source": [
    "options = {\n",
    "    'distance': 80,\n",
    "    'compact': True,\n",
    "    'color': '#fff',\n",
    "    'bg': 'green'\n",
    "}\n",
    "\n",
    "spacy.displacy.render(docs=doc6, style='dep', jupyter=True, options=options)"
   ]
  },
  {
   "cell_type": "code",
   "execution_count": null,
   "id": "62fb8d0f-3955-406b-b7f7-9c7161384fc1",
   "metadata": {},
   "outputs": [],
   "source": []
  }
 ],
 "metadata": {
  "kernelspec": {
   "display_name": "Python 3 (ipykernel)",
   "language": "python",
   "name": "python3"
  },
  "language_info": {
   "codemirror_mode": {
    "name": "ipython",
    "version": 3
   },
   "file_extension": ".py",
   "mimetype": "text/x-python",
   "name": "python",
   "nbconvert_exporter": "python",
   "pygments_lexer": "ipython3",
   "version": "3.10.5"
  }
 },
 "nbformat": 4,
 "nbformat_minor": 5
}

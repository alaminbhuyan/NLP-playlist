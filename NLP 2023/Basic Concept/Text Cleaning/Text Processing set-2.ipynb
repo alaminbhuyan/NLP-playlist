{
 "cells": [
  {
   "cell_type": "code",
   "execution_count": 1,
   "metadata": {
    "executionInfo": {
     "elapsed": 1411,
     "status": "ok",
     "timestamp": 1617762893487,
     "user": {
      "displayName": "Al Amin",
      "photoUrl": "https://lh3.googleusercontent.com/a-/AOh14GiMB6CqgQqINGrgkLYU8ftIloMfHO5LgiFZgCAUSg=s64",
      "userId": "17120997331533597303"
     },
     "user_tz": -360
    },
    "id": "HOp3v_5faghh"
   },
   "outputs": [],
   "source": [
    "# !pip install --upgrade pandas\n",
    "# !pip install --upgrade numpy\n",
    "# !pip install --upgrade matplotlib\n",
    "# !pip install --upgrade seaborn\n",
    "# !pip install --upgrade scikit-learn\n",
    "# !pip install --upgrade inflect"
   ]
  },
  {
   "cell_type": "code",
   "execution_count": 2,
   "metadata": {
    "executionInfo": {
     "elapsed": 2515,
     "status": "ok",
     "timestamp": 1617762894616,
     "user": {
      "displayName": "Al Amin",
      "photoUrl": "https://lh3.googleusercontent.com/a-/AOh14GiMB6CqgQqINGrgkLYU8ftIloMfHO5LgiFZgCAUSg=s64",
      "userId": "17120997331533597303"
     },
     "user_tz": -360
    },
    "id": "-WN_8HBOaiyP"
   },
   "outputs": [],
   "source": [
    "import nltk\n",
    "import string\n",
    "import re"
   ]
  },
  {
   "cell_type": "markdown",
   "metadata": {
    "id": "qICDnn0AeJzs"
   },
   "source": [
    "## Part of Speech Tagging:\n",
    "**The part of speech explains how a word is used in a sentence. In a sentence, a word can have different contexts and semantic meanings. The basic natural language processing models like bag-of-words fail to identify these relations between words. Hence, we use part of speech tagging to mark a word to its part of speech tag based on its context in the data. It is also used to extract relationships between words.**\n",
    "\n"
   ]
  },
  {
   "cell_type": "code",
   "execution_count": 3,
   "metadata": {
    "executionInfo": {
     "elapsed": 2511,
     "status": "ok",
     "timestamp": 1617762894622,
     "user": {
      "displayName": "Al Amin",
      "photoUrl": "https://lh3.googleusercontent.com/a-/AOh14GiMB6CqgQqINGrgkLYU8ftIloMfHO5LgiFZgCAUSg=s64",
      "userId": "17120997331533597303"
     },
     "user_tz": -360
    },
    "id": "xB00tEh_euTL"
   },
   "outputs": [],
   "source": [
    "from nltk.tokenize import word_tokenize\n",
    "from nltk import pos_tag"
   ]
  },
  {
   "cell_type": "code",
   "execution_count": 4,
   "metadata": {
    "colab": {
     "base_uri": "https://localhost:8080/"
    },
    "executionInfo": {
     "elapsed": 2502,
     "status": "ok",
     "timestamp": 1617762894624,
     "user": {
      "displayName": "Al Amin",
      "photoUrl": "https://lh3.googleusercontent.com/a-/AOh14GiMB6CqgQqINGrgkLYU8ftIloMfHO5LgiFZgCAUSg=s64",
      "userId": "17120997331533597303"
     },
     "user_tz": -360
    },
    "id": "0gm_RUfsfR5f",
    "outputId": "2064d654-5058-4a8c-c36d-e750999299b9"
   },
   "outputs": [
    {
     "name": "stdout",
     "output_type": "stream",
     "text": [
      "[('You', 'PRP'), ('just', 'RB'), ('gave', 'VBD'), ('me', 'PRP'), ('a', 'DT'), ('scare', 'NN')]\n"
     ]
    }
   ],
   "source": [
    "# convert text into word_tokens with their tags\n",
    "def word_tagging(text):\n",
    "  word_tokens = word_tokenize(text= text)\n",
    "  return pos_tag(tokens= word_tokens)\n",
    "\n",
    "\n",
    "text = 'You just gave me a scare'\n",
    "print(word_tagging(text))"
   ]
  },
  {
   "cell_type": "markdown",
   "metadata": {
    "id": "Tlp7NycEheL2"
   },
   "source": [
    "**In the given example, PRP stands for personal pronoun, RB for adverb, VBD for verb past tense, DT for determiner and NN for noun. We can get the details of all the part of speech tags using the Penn Treebank tagset.**"
   ]
  },
  {
   "cell_type": "code",
   "execution_count": 5,
   "metadata": {
    "colab": {
     "base_uri": "https://localhost:8080/"
    },
    "executionInfo": {
     "elapsed": 2488,
     "status": "ok",
     "timestamp": 1617762894625,
     "user": {
      "displayName": "Al Amin",
      "photoUrl": "https://lh3.googleusercontent.com/a-/AOh14GiMB6CqgQqINGrgkLYU8ftIloMfHO5LgiFZgCAUSg=s64",
      "userId": "17120997331533597303"
     },
     "user_tz": -360
    },
    "id": "p1gWGuz_hgJ1",
    "outputId": "7d9834d7-91d0-4911-961d-a285d4c9cb73"
   },
   "outputs": [
    {
     "name": "stdout",
     "output_type": "stream",
     "text": [
      "NN: noun, common, singular or mass\n",
      "    common-carrier cabbage knuckle-duster Casino afghan shed thermostat\n",
      "    investment slide humour falloff slick wind hyena override subhumanity\n",
      "    machinist ...\n"
     ]
    }
   ],
   "source": [
    "# extract information about the tag\n",
    "# we can see all tagset using by formula\n",
    "nltk.help.upenn_tagset('NN')"
   ]
  },
  {
   "cell_type": "markdown",
   "metadata": {
    "id": "sGeAuK8fiEwB"
   },
   "source": [
    "## Chunking:\n",
    "***Chunking is the process of extracting phrases from unstructured text and more structure to it. It is also known as shallow parsing. It is done on top of Part of Speech tagging. It groups word into “chunks”, mainly of noun phrases. Chunking is done using regular expressions.***"
   ]
  },
  {
   "cell_type": "code",
   "execution_count": 6,
   "metadata": {
    "colab": {
     "base_uri": "https://localhost:8080/"
    },
    "executionInfo": {
     "elapsed": 1242,
     "status": "ok",
     "timestamp": 1617763909441,
     "user": {
      "displayName": "Al Amin",
      "photoUrl": "https://lh3.googleusercontent.com/a-/AOh14GiMB6CqgQqINGrgkLYU8ftIloMfHO5LgiFZgCAUSg=s64",
      "userId": "17120997331533597303"
     },
     "user_tz": -360
    },
    "id": "UBPqIrBuh82j",
    "outputId": "7236431e-d86b-4043-9e04-6429f134678f"
   },
   "outputs": [
    {
     "name": "stdout",
     "output_type": "stream",
     "text": [
      "(S\n",
      "  (NP the/DT little/JJ yellow/JJ bird/NN)\n",
      "  is/VBZ\n",
      "  flying/VBG\n",
      "  in/IN\n",
      "  (NP the/DT sky/NN))\n",
      "(NP the/DT little/JJ yellow/JJ bird/NN)\n",
      "(NP the/DT sky/NN)\n"
     ]
    }
   ],
   "source": [
    "# define chunking function with text and regular\n",
    "# expression representing grammar as parameter\n",
    "\n",
    "def chunking(text, grammar):\n",
    "    word_tokens = word_tokenize(text)\n",
    "  \n",
    "    # label words with part of speech\n",
    "    word_pos = pos_tag(word_tokens)\n",
    "  \n",
    "    # create a chunk parser using grammar\n",
    "    chunkParser = nltk.RegexpParser(grammar)\n",
    "  \n",
    "    # test it on the list of word tokens with tagged pos\n",
    "    tree = chunkParser.parse(word_pos)\n",
    "      \n",
    "    for subtree in tree.subtrees():\n",
    "        print(subtree)\n",
    "    #tree.draw()\n",
    "\n",
    "\n",
    "sentence = 'the little yellow bird is flying in the sky'\n",
    "grammar = \"NP: {<DT>?<JJ>*<NN>}\"\n",
    "chunking(sentence, grammar)\n",
    "  \n"
   ]
  },
  {
   "cell_type": "markdown",
   "metadata": {
    "id": "r0kk3OUwQaQe"
   },
   "source": [
    "![Screenshot_1.png](data:image/png;base64,iVBORw0KGgoAAAANSUhEUgAAAnIAAAB2CAYAAABMIH6qAAAAAXNSR0IArs4c6QAAAARnQU1BAACxjwv8YQUAAAAJcEhZcwAADsMAAA7DAcdvqGQAAC0LSURBVHhe7d15dBRVogbwuA+g4nMcd30zPp1546izOc6MM840CXuUHUVAHDaVARQQFUfFbCQQSAj7GvYdBMIOYQ8kkBBIQhJIAtn3pZN/5o93zjvve/dWd3VXdd9uAiQhnXx1zu8kXXWruup2LV9X3ar2Azt27NixY8eOHbtW1f373//G//zP/+B///d/8X//93/2vu6dX0NDA4iIiIio9WCQIyIiIvJRDHJEREREPopBjoiIiMhHMcgRERER+SgGOSIiIiIfxSBHRERE5KMY5IiIiIh8FIMcERERkY9ikCMiIiLyUQxyRERERD6KQY6IiIjIRzHIEREREfkoBjkiIiIiH8UgR0REROSjGOSIiHxUVnIKPg9ejZ9ZguAn/OTtCPSbtReH0sqU5Ymo7WGQIyLyQaWZyXjGHuDcvBOD6zXq8YiobWGQIyLyQRHBy7TQ9uiAVbiYZeuXm3oRz9vDXOeIi27jEFHbwyBHROSDls9erQW2R0asQKahf2F+ERIu5eFsdjnqDf2JqG1ikCMi8kFFV1Pwkv3sm/TciAXo+a/NmLr5LAoV5YmobWKQIyLyURcTktBz8lJHmNN1HrgUOzOqlOMQUdvCIEdE1Aac3n8evcevwHMDwrUw1yFwI8qs6rJE1HYwyBER+Zxi/KWPPPs2Fwddh11J04LcPd1m4GpZnXkYEbU5DHJERD5o9KRoLbA98v5SHMwtsvUvLse0rxZr/e/rEY7rlfVu4xFR28IgR0Tkg3LOncZPRGCToU2l2/xs1CrGI6K2hUGOiMhHpZ87i/4TF+MJR4CbgV98uALjVyUqyxNR28MgR0REROSjGOSIiIiIfBSDHBEREZGPYpAjIiIi8lEMckRErUTE+vVe+VkstyRg8mTl9DbHxyvng4h8B4McEVETiD9/HvvOnPFo0vz5ypBl9NcJE7zSp/XqyJGm8vo8fB8bq/WXw43jPf/uu6b3aQzjvBtVVleblpuI7iwGOSKiRli8c6cy8DTW0JAQ5XQbw3VaMlCpyulkmc6Bgcphkuv0dI0p48mN5omImgeDHBG1C/IslTd3+/srA4qu1xdfIOHSJY+qa2qU73sr9Hm6r2tX7b3191CVVSmtqNDG+8Xw4dibkKAsIxWVlZmWwbi8xroxjnPu8mXTOLrfjB5tGt/IOC0j43SJ6NYwyBGRT5BntDzp8/XXygBhJM+oedOUQexm6cvhOq8ykKnKN4ZcHjkNOb2Nhw8ry3ijz4M+DZ2sa31+Z27YoBzXlXFaRsbpGnXq2dPxHq5U0ydqzxjkiKjZyUb1qsb2uokxMcoDutG4qCiPvl62TPm+rZW+3K7Lpip7uxZs3669h3w/1fCbJetan9+eU6c6lkF/D2l5XJxy3MYqKClxvIcr4/sZ6e/tSrZdVL0HUVvBIEdENyQvnRkbvLtSHViNfjlihKnxvasPwsKU79tWuNaTvtyqss1Bnv2Sn8Hj/fqhtq5OWaYp6MvlepnVuK7czllGb/T3duXpRg95J69xvoxU0ydqrRjkiNoB2RbKG9WBzkhe6pKN5z1RvWd7Juv0TFqao/5aSz091KuXNj9y/lTDm4txXTG2RTSugzW1tcpxm8uKPXtM82Wkz58r+Zka51nXnOGY6EYY5Ih8XPSWLcqG5Eaqg5KRa8N1V811FqWtMdb3k/37O+pPVfZOkO3mHhShXM6fXG9UZZpbSlaWo16M66A8c6bXX7cpU5TjthR9/lzJz9Q4z7qfDRnimHdXqukTNSUGOaI7TJ4ZUDXqNlIdPHSBX33l1ojclep96fa5fj6+Ut97Tp/W5rexNyu0BDlPev2FrlnjqFPJuC2oxr3Tdhw/7ph3V8blMDIuk9GEuXOV70HkCYMc0W1SNbA2Uu3Ejf4yfryyUbeR6n2p5bl+pr78+cjwIZfhkbffRtUdvGO3MYzbgl73knE7k49FUY3bWhmXyWhYaKhpGY2My2ukmj61Hwxy1O6pGjsbqXaoRqoG1kaq96TWT15Odl0H2uJn+vpHH2nLJtt6qYa3ZsbtTN7IoX9Oxu03IzdXOa4vMi6vkb7crsZGRprqQpecmamcPvkmBjnyacXl5W4Nj43kYxBUOzgjVWNnI9X7UtukrzdyvZCN8tvLOvDc4MHaMk9fuVI53NcYt98HunUzbe/G/YNq3LZk8oIFprrQdeje3VQnRsb6Maqvr1e+B915DHLUqq09cEBrBO3JPTd4Gn+XSZO0b+TeqN6X2o+dJ0441id9vZHrxZX8fGX5tkous1z2ttZGS4YQ4/auf8aScV+iGretkmebjXViZKwfo2cHDTLVl87XLmm3RQxy1KxUjXmN5GMtVDsN3Z/GjVM2INbxbkq6WeVVVY71T65jr40a5VifVOXbk2PJyVqdyLpRDW9rjPsS435HXz+kW/lVjLZI3pRlrC+dDHjGujMy1qORavp06xjk6JZ5+/amUzXmNZJPcFdNm6ipyUbhcp28v2tXx/qnKtfeyTA3ePr0dl0/+voh6W0IJbnPU5UnNWM9Gun16Uo1DboxBjkiIiIiH8UgR0REROSjGOSIiIiIfBSDHCl9MzIafpYgPNRvBS6YhpUgoF+QGDYHe+39xnxkK2s2A08OisHHsecM4xLd2DfrR+PltbfWPmvwwoF4ZKXncY8nhOHe0F5Iq6rFyeNfwS/I4uY/Y0Zh0rkTzvGKduAxRTnd77fHmd7jdoTsmowOobbp9o+Lxv3ib0KpuqxDbSHeCOqCPsea76fAakoS8IyYl18dvKAcLg1b/i5eWrMQVeL/yDXu9XRPcABeXvIptpQWuY2bl3scQ9aPx3OzutnLd0Hn2QPhv2YG0sqa9oamMUuG4I1tt/cQ3Wmb/oGXY53r2drtH4l57obxZ9zrJz1tPfxmvIc0l/7tSUVZEh60Hxs+237FNGxt2BKtvyUkwdYv6wg6Oo4jTg/3CscfPtuClHLnuGTDIEdKepCTesQkG4Y1NsjpZiI6o8owPlHzyTgbLA6og7ChqNJ9uAg878dY8MKqragRr7UgF/kprhrLVJZixxExjbCB+KHE0F9h5f4v4RfxHtbmlCqH37wyvDnbgr4H9muvS68uaVyQayGLtw7GAzMmoLDO6j68MhXPzbDgm2RbmNSC3MJYVBjK1JZcQcTa4fCb9U+kVzv752Zux8Nh/vj96mhsyU639bdakZKxF33m98PzSyNw3V62tVAHOQs6zRmD5CpzWQY5c5DrPHQV0iqcwxob5HR/CTd8ySINgxwpGYOcX/dIHHAc1DwHuaHbchzj5108hV+9E6b1//k3Zxz9iW4k49oFHL/m/NZeWXkd8VmJ2Jd5BvF5l1FpKOsuHW+EB6B73B63YTmZ2+AX8g422ddlZZDTZME/1IJX99sPLAoZF5egc1A3TEr0fIbqZtRZC3Ewcw9eEmGoz/4dOHgl1RTkMq5fQHyOPeTYFZVk4rDsV1+LU6JukkpsZ64KS7K08a31FTiba6u3k9evoNowrlRTU4YzV86L4WfF8EJxsM0S/6eizKWcLuPKZhFWumJDgeud5vU4sW+UCLXjkGoPaKogZ3MSPxbLtDgrT3tdV3sNAeL1T2JiUOBWVig7hRfDLJh0Ltt92C1KzUnGqfxr2v9V1de0+qmoq8KFa8na/0fy0m+wjnkIctEj8OdZ3fCfq5aayjLImYOc9MfQk45hHoPcJ7scZax1BZgyPsY2fr9YxTbbvjHIkZIe5O72D9b+dgzchnLtyd6NC3LWulqMnmzb8H7x3VlHf6IbMV5arakqxGNhAegwoxc6RwSiQ2hXdJ49CeVWz0+Zj9z2Tzy68EtYXfqHbR2JpxZOcrz2GOSs19F3tgW/PZho7m9XV5uKJ0TQ6xK3Wzn8VlRU7cfTEb1wjwg194f1wjMLJ5qC3LbD0+E3ewxqDeOEbfkYr28QocHl0mrciTA8GDUYg+YF4MHw3ugc3hP3ium8tdMZbq0iuPSb3xf3h/YU9dobHUP8MWKlPKs0BmfsZdzUXMMfgy14ZfcJ1Bv619cU4WHxGb0T79zOPQa5ukta3S3NsgWplMvL4BfcHQdKy83lDPIrm+qMp43x0mpW3jrtTNqAZQPQcYasq15anT+4dCWqvfySgTLILQ5DyqU1uFsE/Ok51Y46YpAzBLkuwbinizx+zMYPNbb6bUyQq6+3ouyQfNaf6N8/Frn2/mTDIEdKepAbFLUf/yU3HkswQhLlT9p4DnKd3pmN59+N1jzdLxx3a+MFYeDWAtO0ibwxBrktW3vCb24ErtXVaa/L8hPEgbcbwnM9t5uqvLJdO3MUnm3oX34aPw+xYESC88yOOsjlI0IEJL+oj1FUa+xvV30dT0V0hV90CHJqbfPUdK7idxEWjEuynXkzBrmavH1imQKxtFgvm4+/Rfrji5RcZZCT4WT4mQJbGLHWYEd8MO6O+BBZ9vf6TtSx37ypyK+SP5Zfj4qKArw6p4cYz0uQE+UyT06FX0hvJBnaKeVmLteC4tEi52eiCnLV1cl4Z5b4PFcuRpXV1m//kSm4L6w3rtsP6i1BFeS6HjiJcnnJuL4WSZdEPxEuD5V5Dpeegpwcf8nW90QdBSKtQtYtg5zkCHLvbsJXoSK8i/+f/GAzqsV64DHIdZvhOJ48N3g2OvjbjidPTPjBbfrtHYMcKelBbujqdBzdLQ6McsPqNReppTfXRu6V7/cpLq8QeWYMcgfiBosDbX9MPn0QpS5tjzwrx/B5Fry42tmg/eixYPjNmWi6fOfpZgepW9wWRzmnKkRt/lAbfqy0Odp9eg5yDQ0VGDvfgl9uPaCdacy/NB8PRIzDBRk2VUFu5nCUO6bbgJwMESaCBjm22T9FB2Di2RTHcGnb7k9EGW9BToaxTDwaakFYWoa9XzVmregFv2VrTJduVTc76EJSUh3llm8fgvvDApFf4xy3ofIKAtd/ZTL6wAbn8NukCnJHipxn/UqLzot+XbGouNjRz5XHICf+r6rMxEtimi+sX6ft+xjkjEFuM3JKsvCq/L9LCP51uvrm2sj1nY8fcvhrPq4Y5EjJGOQaqirQb4RtQ3pz/hGPQe7VL3Zg2tJDNhtPYuspWzsYopthDHK1ddcxeetY/Ei7k7MnXl35FaYf3YUaL5dWpcNn5qBD5DDH63cWvY3ee8yXQj1dWk25Eo8/zLHgnb2nTf2Pnp0Hv+CeCMnyfIC/Pd6CXAP2nfwenWaNQnldPULWfog/bFtnG08R5B6KHmsbZleQtUXUnx7kzuNFUZ8z0szbZ3aSPJPnPcjJM06TFvXDzzZv0l6XFSSIOumB1S43lyhvdrBWI/7CFjwi3nt+pu29j5z4BveG9UZeteEGiup8TDu01OH1mD54cWXT/ayTKsilllU7hlcUX7itICcVZK3Ag8EWfJ+SxiAnGIOc/DJ1Yvc+WzCzzMe/vlyg/e8W5AYtcR5Plh3C3C3JKKho6rPgbQODHCmZgpx4XX45AZ0CbGHOxnsbOaJbpX78SDHWHF6BPy8bjU7iwPvSD8dRZxruoiwFPw7qhajiKlTlrkHnoN7YWmgu4/lmhwYs3vUJHon60PG6IGc7ngoKwN+2bDeVa1reg1zBteMiNPXC7rIq/DaqO6an2MrdfJDLxsvhFky7kGkqc+nM9BsHOenqcjwQNBLHq2qx/cgXeDhyDCrtl0p1nm92aMCr0W/jDzu2av+nZW/UQpP7DRRO49YO97kgJ321St6hOx5bz61mkHMJcg1VJeg32HYznM5bGznyjkGOlFyDXEODFcu+nou7HBsegxw1D2eQq0LQAhEI1mwy3biwJ26YCDTfqe9yNJi7vhv85i/DnPXDcN+KaLfhnoNcPeb9MBaPRo+yvbZW46/RFjy59DuXck3Ne5BraCjAkBALBiXswBMiVO4tsve/6SDXgID5gehvf8yJbvqKDxoX5IQ/R/ljzMl9eG9OF7zkcuZS8hzkrPhVVCDe2r3T9rrmGt4K6wq/mDnIt7eDNLJaazF29VCfDHINDXn44yx/PD6zP4Oca5ATSgou40F7uzcGudvDIEdK7kFOqKvGb/rrGx6DHDUP4xm5vPQ5uC+oB0IunNJeX792CI+GWfBK3Fm3u1Jd5V7bqx2Q7wnugm9SLroN9xTkVsaHoGOwBS/HHdFej182VExnNA5W2xqvN58bBbkGJB+fDL+QANy1fJHzDtZbCHIpZyNwT2gvfHlG1ksdDu77GveLempskFuzcyJ+FNZdBJShSHY5Gycpb3aoK8eU1QO1O3Oj0p2Pl6mtyMHj4QF4WASeoHMnkCf7W8U8nd6GX8/tg/vEZzH2eNM9wqjlglwDLp6L0abPIOce5Brq67H2+3D78YRB7nYwyJGSMsgJ6bv32Dc8BjlqHqZLq/V12Hl2Od6YKe+otKBT2Af4LuEH1FoVD6V1YRUBx18eREUISzU2prfzdLPDY4smIup8kiOE/DxSBBZFOd2TCya4TfvW3DjIlZaloIMINp+m2EKb5haCnLQvcS1endVX9PfHC8vm4oeT38Iv4jNcNpTxpLL0IH4m5u211YuUw5U3O4R0xUsrvsfWzCumx6hoagqxM3E1LMtH2suLeZrzT/wrYReSCwvNZW9TSwY5eTNI2OYxDHKqIKcpw28G2cIcg9ytY5AjIvIRFeVp6BjSBSeLb++u2fnHl2JdprmN3M494+AX863HBwITUevEIEdE5AusNTh5+jt0XrFB+z1TZZlGenthX7y4MhxX7M+Rq6zIwm+i30a3PXxGF5GvYZAjImrlCrO2apcA7w3rj4SmaKt3dTN+HtYdd9sve8oftH9o4VeNuqxKRK0LgxwRUWtXV4WM4lzklpWbfh7rdtRUlyG7JFeb7tXSItTe4Nl8RNQ6MciRV5vj4xH41VcOT/TvDz+L+Bav8OygQaayclzVNImIiHTyeGE8lsjXqnKkxiBHWLxzJ6YtXepg3KBe/+gjt35/nTBB66ePbxz+eL9+junIcY3jjYyIcAyTjPNARETtR1FZmXYckMeGgMmTsfHwYa2/7CePI7I/jxONwyDXTsiNxMgYsP40bpzpTJo+zqnUVEfZewMCtGFHk5NN0zWSw/Vphq9bh0tXnM+KksZFRZneRy+rM87fdS+3/hMRkW8yHn+6f/45EtPNj7jSzdywAS+PGOE4NpRXNcfvG7cNDHJtiPyGY6RvLFLnwEAT1fhSXV2dNq6+AcmyPaZOVZb1Ro4nxx/03XcoqWjcjxwb5+8ef3/T/Lsum2p8IiJqferr67X9ttyXP9CtGwZPn64sp3IwMREP9+6tjbs8Lg6V1c5n/pENg5wPO3f5Mp5/910HY/CRMnJzHVTju1p74ACeNLSBa+x4nsjx5XTu69pVmz9VGU9yCgpM86/Pk8643Dc7bSIiahnx589r7aflfjtm69Zb+iJutVodxwH5Rf/D8HBlufaKQa6Vi9271+PlSBlgjJcjVeM3hnG6tzMdT+Q09enL91KVuVnG5TZO3/g+Om70REQta/rKlc1yaVTf33fo3r3Jjie+jkGuFYhYv95xA8DQkBBTINFvLNCpxr8Vclr6e8j3lN+aVOWaUvSWLXh15EjtPZtyWVSMdSbb5unLqr+3kWp8IiK6eXKfqjetac79q5y2vEzbEseT1o5BrgVczssznT16a+JEU7DoMmmS4+zR1EXq3y5sCluPHsUv7d+Q5GNE7tSZKvlYEnmDhZwPeapd1omqXHPR61pn/Cw69uhh+qy83dxBRES2G+OGh4Vp+1D9xjhVueYgj5kvDRumvbe+31aVa8sY5JpIXmGhqU3XQ716OcJBp549Te25ZFs01TSag2yPYGxj1prakxWXl2vzI0+Ry3mT86kq15L0edI91revo+4keXbP+DmrpkFE1B7IfeAvhg9vFceWnSdOaPNwV5cureZ40lIY5G6D8YCvhxHdmbQ0x8H+Tj1KQ55x009xPz1wYKtdsWUI1i9/yrqUYUpV7k6Q7Tr0z1FyvUxrXAe6TZminAYRUVsj93n6frA1HVvkFTD9GaZyHlVl2hoGuRvwdAlOMl6Cu5qfrxy/pcln8shn8xjnUVWuNZJ1KC+1yvmWl1594ZchjOuAfHaeXu/ST4cMMa0/vExLRL5OPxbKkNSajy9nxbHw49mztXmV85yek6Ms1xa0+yAnLz3KhpI644FYMg5Tjd9aGOdd/u/rz1rTl0feHCFvklCVae3kDST6uiPp7Th0k+bPNw1XTYOI6E7Tj5Nyv2X8FQZfIB9lpc+7DHQ7jh9XlvNl7SLIyV8YMJ45MR5M9VuYdarxWyvjsrw2ahQWbN+uLOfL5GeiL6NcXnnaXFXOF8mHYhrXPX05Jdlw2LjO+nowJyLfI/c9kxcs0PZJ3n6FwVfo+1l505+8+U9Vxhe1mSBnfIDstmPHTAdFeeOB3o7J16+Zy+UcFhqqLdetPGjXV+mfnVxuufyyHlTl2oqvly1zLLMkP2vjOq2v6zrVNIiIbpbrw3fl/kdVzpfpxxJ9X6oq40t8NsjJbwlyJdMZf9JJPoRQnsHQVbSB32iTZ6KMyymXq7E/fdWWyOWWyy/r4bnBg5Vl2iL5WRvXaX1d1xm3BUk1DSIib9rTz2HJ/aj+ixO+vs/0mSAnT/EaD1yul57a8o+s68suNyz5v6pMe6PXibw5QjW8vdG3A51xW1GVJyIykg+ml/sLuf9oTz9QL29CG/Dtt/j92LHK4b6g3d/sQEREROSrGOSIiIiIfFSzBDlrfR0KKstRb39dUVWEzNKmbpxuxbWSXGQUm2UWF6C0ts5QrgZXXcq4KS2F1TTtW1NaUYCs0kLb67pyXBbTrrTahtXXW5FfUeaoE6mythK1+mtrJbJE+eJa5/DbU4crYnr5Hto41NSWi2XPQ3V9vXJ4S/NWdy2nHkWl3taHOuSKdS63slIx7NaUV+SL9/PSLECsN3L9zauqUQ/3oK62THy+11GpGGZTq61v1zxcQrkm6sG5nLXIlvPgYbnzRdmrFU1XJ0TknbW+FkVVzm2upDwfWWUlpjK3z7a/cz1eZpUUorzOeIyt1vYPruWMLpc580DzqcM18V5XK29uX+lJZVWxmPc8lCmOQ1ZrjbZc5XVW7XV1dalWtqROVbZOO56VmeqsaTVLkPt2x4f4zzWbUWN/veXQd3hk/qdu5W5PIQbNscAvyOyuIH90mNEXUQV6uVS84VLGzfwlqHCb/s1bsOszPL/E/giTgnV4SEw7rtA2LGbPaNy/KBZV9rKXc/aj06zhSLO/big5gGdE+bAs++vbdhUvh1vw8elExbAGXLq8CX4hgTjVShqzequ7llOF6fPF+jBvHsqUw68jINICy+6m+4m1tds/gt/iMOUwTW2hWH+7oM+xS+rhHlxLXy3W7SE4qBhmk4WnQi24b+505CuGD15oXM5s/GyGBfdGTcM1l3LSPxZb8PvtcW79iah5fLJxKP5k2Oai1n+EZ2IjTWVun21/53q8vCsoAB1nDMaaYr1cAl50KePqwWXrHHmg+eRjkHiv3x1IUQy7efuOBmvz/urW3W7DSoovacM259tOPpxOWqi9fmzVZufJGbuKilx0DLFgeU7zPTqrWYLcFysseGp1ywS55+NOmPqXVhZhw+GvRaX2xOoC+xkeo7RoMexdxFe49G8CpjDiInKNWKEXOoNcetp6+M14j0HOjkFOPfxWNTbIyZ1Pn7273Iargpws23Wn+8OZGeSIWpbrNtecQS7wuPkXaYrLr2Pmjgm4P+w9HDX01xUlfSv2FcNxqdp9WPNqniB3tzhOrnWEVhtPQc5PhNzoq0Wmsj4Z5LYnrsGbUSKBz/0cXxxaihzxYepBrqb2OhYfXo5pov+CC6fcDpZlpdlYcGytNnxRwhFU2U9bqqmDnKa2WFsBf7J6nSM4ObRUkKs4j+liOdIqG3AoeR26xYgPOfJTTBX9kq8m4JMtk7Ug9Yl4vS6nTBnkSksuI+bYGq0+lp49hlrrzVwGbdkgt+PcJkQmmu+ozcg+hJDTex2vi4suIjJ+lbY8sedPm8reKMgV5Cci+PAKbdwNF/UdS73YgMT6cuaYo1xdXTVCjog6LnU+miUjfROmnUpoxDfCOxfkSoovIEosm1y+uCtXnGWslVgg+q3OtjVNSMrYg6jE0ziXvFkruynP9tNw1dUlWHdSLKfoNyfpPLIaGeT6x34Mv7BBiM0zP3BYFeR6xY6HX2h/LM41l2WQI2o5q06vwm9mW/DUomn45kgsKuqcQa6sIgtz7fuRlWnn3ZpWGPfBy5MUx04TdZDTVGXhjZkWPLP5sNsZqOYOcglpB7X5nyayxMbL6Yb9unuQS83aL8qtQqr4P/rEKiy+ZLyyYTt+RKaog58W5GYPx7gl72jH7syqWscwZZCLGIivV/SF38xPkFrhvLzrk0Fu3oEQvCg+4B/N+gd6rf8K6SLIyCDXaeZAvBXSB39b+wUCV/0Tj4oF+8uOTY7x8q/vwyuRPfHSsokIXD8Vby0egLvnyPE9BQ0vQU64euKfoqIH4IxrYGupIGcII+vjZ+BXYoPwC/9Aq5Ojl/agy7IP4RfcA13E67A0sTK4BLnr13aJeuyB/17+qVYfby7sj7vmfIMr1Y29/t/CQU58xn6RH5ku03294R94c+s67f/cnE14fEZXvLZykliez/H6vL740fwZKLG3G/AW5JJSl2gbzR9XfS7GnYznI7rh79tt607ikU/EhvMp0uxtC8tLtqKjKDvx/HnbtKzF+HCOP3qfzLS99uoOBbm5Q/DrqD7wX/WVWL7P8FCoP/oe2m8r43JpddW+qXgkfCR+vOAjsS59ho1X88QXoBT0m98Xj8/9GL3F+vTm/IF4ffE/RJ3dOMgtzrqEsUv74Yl5X6LcMFwV5CLSUvHZ8gH4j6hPTfXDIEfUcoLivhf7QAseiRqNvpumo0Ts+2SQezTqQ7wxY6B2TAmM/Qgdgy14P/6IYzzXffAfF/SDX9T3uF7jDChmXoKcsHvvKO1Ymltj7t+cQW7Fnm9EthiAALGMvdZ+jh8H+6Pb/gOo1oabg9yljI14Qhzjhhy17ZuiVw8V+/YglNinVW+twluRvTAh0X6scKEFubkTUVxyFo+I6cr30UOjMshFjkBNTRb+a0YA/r57p32e2tilVXnKcXqms8yGvdNEgh2FTPvr/jF90XXvHsfwhvoaDI15B3+O2+fsZ+I9yDXkx2oH9G0uZxruRJCTr2/m0mq9tRrdI3sj8JDhJ0Ss5egb2QN/39/Y34lr4Uur+fvxQFBvzL9ub9BpzcQbEf4ISS+CtSYfvxbL9v4pw8+71F6HJcyCXscva6891V1t+QX8PMgfXU9edYyblbkNHYJ6ICxX7oBO4yVRdmmO/L8eh+KGoWN4b/zFvt6U5p8Wy/k2zjYqAN+hIBfUFWEZztPxOReicF9QP2wpEnWpCHJ3hb/v2G6kqB3j8ZOFXzheS6NWDhTTbUyQy0Nx3kE8KHb6bx44D2u9bbg6yF0R9XkCD4md0q/3JKLOXpZBjqhlqS6t+gV3w+JcZ5nZq8WXudlTkSv+V+6D64rRdUYXdD2iDjI3CnKpF2ZrYSa1zHwMac4g9wdxzB9z8oyzX8ZCPB89Hqcr5WtnkMsXofWx4O4Yccxw5Sd7Oe4NGoBdJbYrfZUVZ9E5JACHC9U3aulBTv6fcfIzMa4FCy9f1157CnLy/6zE78X+24JZabbg1raC3JyxpjsB89JWaQeaw9rrbO2gsjm31DFcSjsxWaycn+KSoZ9T2w1yVdWp+A/xwe/NL7cNs7t49BNRH1Nw2dDPs5ZuI2fFx0ss+OVmW3ur7LPTcVfkFFwRB/tr+Ue0lT7ZZYM/sf8DMQ/fIE/876nuzqeK9STiXZfLolZ8u1J8I12xEbXi/8CFgRh2VG6wxRge3BXzCnbhuehgFIqyZ1IXodOswSiva8xl6TsU5BaFoM7Uvw49Yyzod1CEdkWQe2L+eEPZfHSb3QW9jiYZ+jUgMXGOtn01JsjJAByfIHZawT1xsMy2znkKcrJs0rkIMW1/bCuwhU8GOaKWpQxyC74xHWMzE0PFdjoWieJ/T/vglEMfin3wl7hi6OfU+oLc3+f1wn1z3sWspAuK4fYgt2k5ng3ugqEJR1yePlCHv0VbMPxYgvY64dAo+MVEo8T+hdSVMcjJY84/Fr/ruOHLW5CTZcevGIZ750zRQnSbvtnB3Bj7MB4VlSIrxt0E7fq2cVybGwS5C0Ha+AcKXW759YEgV1EVhwcdy+9qEtL1cbxq+Zsd4k6G4qE5o7X/xy0eBMuubdr/WXnrFMuhm6at7J7q7ogIJB0jhzneQ7d8+xB0jIjQ7jaeu2U8frdxMapKLuLu0J64VFmKN+cOQFxxA4LXBuKZLXsb+XiZOxPknl+zwK3/0GV9YNkm6k8R5J5cMMFQ9hJeFzuJj5KcZyylxt7sYAty8nElxRghdnKd5oideo23ICe+3deVYexcCzrOnoIMsbNmkCNqWaog53qzQ3ZSmNgHjMEZ8b/3ffBUZBvGc/Ie5BKOTdXGv1xpbsvenEHueuEpjNwwRHvfu4J7478Xj8GURP0YZwtyctgbc9/GQ5Gfu50Eitj0CX4aO1PsV8UX4DB/jEk2tEd2YQ5yDagqS8Qr4pgqb/jyHuQaUF1+Hr+LsOAvW9a2vyC36srNPGvOW5CrRtC8LvCbJQ5Krs918aEgtyOv8T87dixlD+YlHDL0swW5aRcyxUpbjpVHYhGb43xmmBbkZvRFkcf2ETev9Fo8/IIDsamsAS/M9Mfs9Bytv74TSSrx/NuwnurudPIi3DtziFv5oFXOW9qvX1qKjjGf41T2BvwofAJKrA34cPn7CE0+hrfCA7HY5Y4jh7J0zN4bo7XjtPWzB7n1tp/9Sko/hOjjO5zlb7BjuxUyyD203P1us/4Lu6OHvDx8wyBnm6duB8zbQXrKIsP2pWIOclJVyRn8h9i5DTgS7zXIaSpT8HR4AAIP7GWQI2phtxrkvO2D3Xnb35XiE/HFz292iLa/NQ5r7psdpPLKa9ieuAtf7PgYD4jl+ldyhuhvC3LPbtqH2upMvD5LBKkf1pvGk8cKv9D3sf1qEu4K6YFzFZ5/isw1yEkHT0SI8fsi+PxprT49BTnp2Jm5WrOe6RcutJcg14AXZwVg0EHnHY7yEs7l7BPYmH7B0WjQzHOQKyu0VXKvo7ZTqCY+EOTqRPB6Mtwfw485G6rK07XpWUdFfVx0ucxoE/vDZDyy8GvnXUo15/FCmDj4pstr+kUYIQ7EL2yPd1zCS0pdjnvC+6PY9PDk21WEkWLD9xehsXNQP8SLQCf7V5RmaJ/HxHPGthh1uJBxGBszMrS7njzVXX7eYfF/T4QXOHdANSJE/DYoAG8ctZ9er0zCK6FDMGb7SDy3YY+2jLv2T8ZrC0bivlmjtEu3+rhmp/BYsAWx+hcIayk+EuvU0ztsgXhnfDA6RY9z3gRQm443RDj+MDHbPv7t0y6tRozGMcPliYKCbXg2qDtmZ5U2Isg1YOq6oXhxxVxTv1lbx5m2L3fuQU6uY7v3TsR9QX3xqFhOr0FO2H/oC9wf1AePiW+eDHJELedmg5x6H2wVX+jlPjjN7c5TG89BLjd7p5heAIYm29qMGTVfkCvAqzPFMpw132X6m6huGBov25Obb3Y4dHymdoz9odgY1q4iQOyvum8PxwMzPkChlwfwq4JcQ0OZdsPX/SEDtPr0FuQaGsoxLXYQ7g0eiLtFWZ8LcjFb38fDkROQWJiLyjpro4Lc8aOTxEHBguEH47QnJu++uB4PhwRgwBFPjfttQe7pbbu08rotJ1dqjeMfmT0F+YqnLN+pILdt9wfayn2yIBcVok6Kc/aK1z3wzeVcXJF35hqCnCwff+hjrcHkqCP7teXakbwSDwQHYMjxc473M7qesRodRCjpt0eUL8rG6GV98KPwLx2XYY8cGoe7xPQWZKQiI/cU/jynC366eLmHDfjWnT0ln+FnQYcNm03998YNxD2i/2cnj2vLs+G0+LYS1A1jk65pw73V3aIt/bRprshOE+OmYNCCfugUY2wn1oCv178ryvhjcobtdV7qfO39Xlk931TO1R+ie+G5RSE4JeZpjzZPPbGqxPaE9KKru9BJ1OnfxTp2UQz/ZuNI3B82Tmtz4jqdWyWD3D1h3fFU9Mc4LN4j4/IOPDezB17bHGsr04ggV3Q1Dg+H+uOvW5bjYpGo2z1fosOMbmJZbjbI2byzqI9W3zcKctL7y/prZRnkiFrOl2sH4bmF34r9YR7q6utvGOTka9d98JbExWJ4V4xIkGeznOM52YJclwOHtPK69Qdn4TkR4n65wv1KgtScZ+SCNogvvjOHY8uV82JermDZptG4LzQQq67K9vXmICdNie2Bx+d+aTr5MeeHT7R91tO7zY/AcqUOcvIGOtsNX3Ia3oNcA8qLkkSOsZX1uSBXVJSIV8SMy5nflFPQqCAnvx2kZe7D7yJtB4Z7FozBrvRCbSU1judkC3KyrNGjy6ZiXmo6qjz9vNMdCnIV5Zn4nX0el2SJ8FJfi9j9E7XXd6/f7hbkZH2kZuzCq7P6amXuXzQOhzJLvNSHFecvb8FL8nS3OPC/siYGaeXOs2319VXYcDgID4bJ4X0xaP/uZvkJrOLiC9r8RuTkugyz4lzqRvwsIlAb/uCSz5GQUwGrfXm81V29qKtTSUvwSKgMJyLcxq1CucuZxF3HQ+EX9i4u6v3qz+E1UXbiee8bT3VNBoatec82T7MmYoM2T/rwehF69+AV+QxAMfyFZTOQUNw0P/+is7WRm4cLaevwS/Ee8n3CEg+iWn9mYCOCnJRflo0+McO08V9auRJnL60U/99akKsp3IOnxHQaE+Rqig7iWVGWQY6o5eRdO6zdre8X0gMZFVWNCnKu++AOiz/FqavOfbA7W5CTZY2ejZ2O9ZnZqPZwk0CzXlq11oh9/Uy8oM1LAH4971+4XK7fJOke5ApyDohyXfD3Y86rKJcurRX9+mKb6kSPgacg57zh68ZBTjuGXJyjBWifC3LUfhUUntRW8LSKprxkS0REdPvOp6zAozGfKIf5KgY5ajq1pViybSSe33rU5XEaREREd1jVNUyKfQ994z09O883MchRkyjO3KidiXsieiKuKoYTERHdKdfPyefqWfDTpWGmXyBqCxjkiIiIiHwUgxwRERGRj2KQIyIiIvJRDHJEREREPopBjoiIiMhHMcgRERER+SgGOSIiIiIfxSBHRERE5KMY5IiIiIh8FIMcERERkY9ikCMiIiLyUQxyRERERD6KQY6IiIjIRzHIEREREfmoRgc5+1927NixY8eOHTt2raRjkGPHjh07duzYsfPRjkGOHTt27NixY8fORzsGOXbs2LFjx44dOx/tGOTYsWPHjh07dux8tGOQY8eOHTt27Nix89GucUEO+H9oHF5dyKPHuQAAAABJRU5ErkJggg==)\n"
   ]
  },
  {
   "cell_type": "markdown",
   "metadata": {
    "id": "CIkMQWyPQ-SA"
   },
   "source": [
    "**In the given example, grammar, which is defined using a simple regular expression rule. This rule says that an NP (Noun Phrase) chunk should be formed whenever the chunker finds an optional determiner (DT) followed by any number of adjectives (JJ) and then a noun (NN).**"
   ]
  },
  {
   "cell_type": "markdown",
   "metadata": {
    "id": "sL-v1L-cRHUr"
   },
   "source": [
    "## Named Entity Recognition:\n",
    "**Named Entity Recognition is used to extract information from unstructured text. It is used to classify entities present in a text into categories like a person, organization, event, places, etc. It gives us detailed knowledge about the text and the relationships between the different entities.**"
   ]
  },
  {
   "cell_type": "code",
   "execution_count": 7,
   "metadata": {
    "executionInfo": {
     "elapsed": 1067,
     "status": "ok",
     "timestamp": 1617764478787,
     "user": {
      "displayName": "Al Amin",
      "photoUrl": "https://lh3.googleusercontent.com/a-/AOh14GiMB6CqgQqINGrgkLYU8ftIloMfHO5LgiFZgCAUSg=s64",
      "userId": "17120997331533597303"
     },
     "user_tz": -360
    },
    "id": "qZb0mVRXLVmN"
   },
   "outputs": [],
   "source": [
    "from nltk.tokenize import word_tokenize\n",
    "from nltk import pos_tag, ne_chunk"
   ]
  },
  {
   "cell_type": "code",
   "execution_count": 8,
   "metadata": {
    "colab": {
     "base_uri": "https://localhost:8080/"
    },
    "executionInfo": {
     "elapsed": 1417,
     "status": "ok",
     "timestamp": 1617764638460,
     "user": {
      "displayName": "Al Amin",
      "photoUrl": "https://lh3.googleusercontent.com/a-/AOh14GiMB6CqgQqINGrgkLYU8ftIloMfHO5LgiFZgCAUSg=s64",
      "userId": "17120997331533597303"
     },
     "user_tz": -360
    },
    "id": "uTpJ2JXHRuqC",
    "outputId": "209739ec-2427-4627-b3c1-ed22eda45d9c"
   },
   "outputs": [
    {
     "name": "stdout",
     "output_type": "stream",
     "text": [
      "(S\n",
      "  (PERSON Bill/NNP)\n",
      "  works/VBZ\n",
      "  for/IN\n",
      "  (ORGANIZATION GeeksforGeeks/NNP)\n",
      "  so/RB\n",
      "  he/PRP\n",
      "  went/VBD\n",
      "  to/TO\n",
      "  (GPE Delhi/NNP)\n",
      "  for/IN\n",
      "  a/DT\n",
      "  meetup/NN\n",
      "  ./.)\n"
     ]
    }
   ],
   "source": [
    "def named_entity_recognition(text):\n",
    "    word_tokens = word_tokenize(text)\n",
    "\n",
    "    word_pos = pos_tag(word_tokens)\n",
    "\n",
    "    print(ne_chunk(word_pos))\n",
    "\n",
    "\n",
    "text = 'Bill works for GeeksforGeeks so he went to Delhi for a meetup.'\n",
    "named_entity_recognition(text)"
   ]
  }
 ],
 "metadata": {
  "colab": {
   "authorship_tag": "ABX9TyMNZdBiAaTYSojTOkrNESxC",
   "name": "Text Preprocessing in Python | Set 2.ipynb",
   "provenance": []
  },
  "kernelspec": {
   "display_name": "Python 3",
   "language": "python",
   "name": "python3"
  },
  "language_info": {
   "codemirror_mode": {
    "name": "ipython",
    "version": 3
   },
   "file_extension": ".py",
   "mimetype": "text/x-python",
   "name": "python",
   "nbconvert_exporter": "python",
   "pygments_lexer": "ipython3",
   "version": "3.9.5"
  }
 },
 "nbformat": 4,
 "nbformat_minor": 1
}

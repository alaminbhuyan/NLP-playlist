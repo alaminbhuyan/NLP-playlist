{
  "nbformat": 4,
  "nbformat_minor": 0,
  "metadata": {
    "colab": {
      "provenance": []
    },
    "kernelspec": {
      "name": "python3",
      "display_name": "Python 3"
    },
    "language_info": {
      "name": "python"
    }
  },
  "cells": [
    {
      "cell_type": "markdown",
      "source": [
        "Dataset Link: https://www.kaggle.com/datasets/team-ai/spam-text-message-classification"
      ],
      "metadata": {
        "id": "mRodPTHFMk_4"
      }
    },
    {
      "cell_type": "code",
      "execution_count": 3,
      "metadata": {
        "id": "JVScyV6W31XZ"
      },
      "outputs": [],
      "source": [
        "!mkdir -p ~/.kaggle\n",
        "!cp kaggle.json ~/.kaggle/\n",
        "!chmod 600 ~/.kaggle/kaggle.json"
      ]
    },
    {
      "cell_type": "code",
      "source": [
        "# Kaggle API key\n",
        "\n",
        "!kaggle datasets download -d team-ai/spam-text-message-classification"
      ],
      "metadata": {
        "colab": {
          "base_uri": "https://localhost:8080/"
        },
        "id": "H08Yx9r55djo",
        "outputId": "cae9c4e7-0a58-4111-ed39-81af463048de"
      },
      "execution_count": 4,
      "outputs": [
        {
          "output_type": "stream",
          "name": "stdout",
          "text": [
            "spam-text-message-classification.zip: Skipping, found more recently modified local copy (use --force to force download)\n"
          ]
        }
      ]
    },
    {
      "cell_type": "code",
      "source": [
        "import zipfile\n",
        "zip_ref = zipfile.ZipFile(file=\"/content/spam-text-message-classification.zip\", mode='r')\n",
        "zip_ref.extractall('/content')\n",
        "zip_ref.close()"
      ],
      "metadata": {
        "id": "F_0XmUqc5s7P"
      },
      "execution_count": 5,
      "outputs": []
    },
    {
      "cell_type": "code",
      "source": [
        "import pandas as pd\n",
        "import re\n",
        "\n",
        "import nltk\n",
        "from nltk.stem import WordNetLemmatizer\n",
        "from nltk.corpus import stopwords"
      ],
      "metadata": {
        "id": "y4-iOWYs54tw"
      },
      "execution_count": 6,
      "outputs": []
    },
    {
      "cell_type": "code",
      "source": [
        "nltk.download('stopwords')\n",
        "nltk.download('wordnet')\n",
        "nltk.download('punkt')\n",
        "nltk.download('omw-1.4')"
      ],
      "metadata": {
        "colab": {
          "base_uri": "https://localhost:8080/"
        },
        "id": "GO_-cfwZ7fqH",
        "outputId": "5cd14772-4545-4115-d231-07583ad16c7f"
      },
      "execution_count": 7,
      "outputs": [
        {
          "output_type": "stream",
          "name": "stderr",
          "text": [
            "[nltk_data] Downloading package stopwords to /root/nltk_data...\n",
            "[nltk_data]   Package stopwords is already up-to-date!\n",
            "[nltk_data] Downloading package wordnet to /root/nltk_data...\n",
            "[nltk_data]   Package wordnet is already up-to-date!\n",
            "[nltk_data] Downloading package punkt to /root/nltk_data...\n",
            "[nltk_data]   Package punkt is already up-to-date!\n",
            "[nltk_data] Downloading package omw-1.4 to /root/nltk_data...\n",
            "[nltk_data]   Package omw-1.4 is already up-to-date!\n"
          ]
        },
        {
          "output_type": "execute_result",
          "data": {
            "text/plain": [
              "True"
            ]
          },
          "metadata": {},
          "execution_count": 7
        }
      ]
    },
    {
      "cell_type": "code",
      "source": [
        "path = r\"/content/SPAM text message 20170820 - Data.csv\"\n",
        "df = pd.read_csv(path)"
      ],
      "metadata": {
        "id": "rsgDnuQj7kXf"
      },
      "execution_count": 8,
      "outputs": []
    },
    {
      "cell_type": "code",
      "source": [
        "df.head(10)"
      ],
      "metadata": {
        "colab": {
          "base_uri": "https://localhost:8080/",
          "height": 363
        },
        "id": "4mb9kKDp7sZY",
        "outputId": "df37e78e-9808-49c1-cbc4-b6f63929c7ab"
      },
      "execution_count": 9,
      "outputs": [
        {
          "output_type": "execute_result",
          "data": {
            "text/plain": [
              "  Category                                            Message\n",
              "0      ham  Go until jurong point, crazy.. Available only ...\n",
              "1      ham                      Ok lar... Joking wif u oni...\n",
              "2     spam  Free entry in 2 a wkly comp to win FA Cup fina...\n",
              "3      ham  U dun say so early hor... U c already then say...\n",
              "4      ham  Nah I don't think he goes to usf, he lives aro...\n",
              "5     spam  FreeMsg Hey there darling it's been 3 week's n...\n",
              "6      ham  Even my brother is not like to speak with me. ...\n",
              "7      ham  As per your request 'Melle Melle (Oru Minnamin...\n",
              "8     spam  WINNER!! As a valued network customer you have...\n",
              "9     spam  Had your mobile 11 months or more? U R entitle..."
            ],
            "text/html": [
              "\n",
              "  <div id=\"df-2417b066-c64b-48d5-9a50-b16b4d076b66\">\n",
              "    <div class=\"colab-df-container\">\n",
              "      <div>\n",
              "<style scoped>\n",
              "    .dataframe tbody tr th:only-of-type {\n",
              "        vertical-align: middle;\n",
              "    }\n",
              "\n",
              "    .dataframe tbody tr th {\n",
              "        vertical-align: top;\n",
              "    }\n",
              "\n",
              "    .dataframe thead th {\n",
              "        text-align: right;\n",
              "    }\n",
              "</style>\n",
              "<table border=\"1\" class=\"dataframe\">\n",
              "  <thead>\n",
              "    <tr style=\"text-align: right;\">\n",
              "      <th></th>\n",
              "      <th>Category</th>\n",
              "      <th>Message</th>\n",
              "    </tr>\n",
              "  </thead>\n",
              "  <tbody>\n",
              "    <tr>\n",
              "      <th>0</th>\n",
              "      <td>ham</td>\n",
              "      <td>Go until jurong point, crazy.. Available only ...</td>\n",
              "    </tr>\n",
              "    <tr>\n",
              "      <th>1</th>\n",
              "      <td>ham</td>\n",
              "      <td>Ok lar... Joking wif u oni...</td>\n",
              "    </tr>\n",
              "    <tr>\n",
              "      <th>2</th>\n",
              "      <td>spam</td>\n",
              "      <td>Free entry in 2 a wkly comp to win FA Cup fina...</td>\n",
              "    </tr>\n",
              "    <tr>\n",
              "      <th>3</th>\n",
              "      <td>ham</td>\n",
              "      <td>U dun say so early hor... U c already then say...</td>\n",
              "    </tr>\n",
              "    <tr>\n",
              "      <th>4</th>\n",
              "      <td>ham</td>\n",
              "      <td>Nah I don't think he goes to usf, he lives aro...</td>\n",
              "    </tr>\n",
              "    <tr>\n",
              "      <th>5</th>\n",
              "      <td>spam</td>\n",
              "      <td>FreeMsg Hey there darling it's been 3 week's n...</td>\n",
              "    </tr>\n",
              "    <tr>\n",
              "      <th>6</th>\n",
              "      <td>ham</td>\n",
              "      <td>Even my brother is not like to speak with me. ...</td>\n",
              "    </tr>\n",
              "    <tr>\n",
              "      <th>7</th>\n",
              "      <td>ham</td>\n",
              "      <td>As per your request 'Melle Melle (Oru Minnamin...</td>\n",
              "    </tr>\n",
              "    <tr>\n",
              "      <th>8</th>\n",
              "      <td>spam</td>\n",
              "      <td>WINNER!! As a valued network customer you have...</td>\n",
              "    </tr>\n",
              "    <tr>\n",
              "      <th>9</th>\n",
              "      <td>spam</td>\n",
              "      <td>Had your mobile 11 months or more? U R entitle...</td>\n",
              "    </tr>\n",
              "  </tbody>\n",
              "</table>\n",
              "</div>\n",
              "      <button class=\"colab-df-convert\" onclick=\"convertToInteractive('df-2417b066-c64b-48d5-9a50-b16b4d076b66')\"\n",
              "              title=\"Convert this dataframe to an interactive table.\"\n",
              "              style=\"display:none;\">\n",
              "        \n",
              "  <svg xmlns=\"http://www.w3.org/2000/svg\" height=\"24px\"viewBox=\"0 0 24 24\"\n",
              "       width=\"24px\">\n",
              "    <path d=\"M0 0h24v24H0V0z\" fill=\"none\"/>\n",
              "    <path d=\"M18.56 5.44l.94 2.06.94-2.06 2.06-.94-2.06-.94-.94-2.06-.94 2.06-2.06.94zm-11 1L8.5 8.5l.94-2.06 2.06-.94-2.06-.94L8.5 2.5l-.94 2.06-2.06.94zm10 10l.94 2.06.94-2.06 2.06-.94-2.06-.94-.94-2.06-.94 2.06-2.06.94z\"/><path d=\"M17.41 7.96l-1.37-1.37c-.4-.4-.92-.59-1.43-.59-.52 0-1.04.2-1.43.59L10.3 9.45l-7.72 7.72c-.78.78-.78 2.05 0 2.83L4 21.41c.39.39.9.59 1.41.59.51 0 1.02-.2 1.41-.59l7.78-7.78 2.81-2.81c.8-.78.8-2.07 0-2.86zM5.41 20L4 18.59l7.72-7.72 1.47 1.35L5.41 20z\"/>\n",
              "  </svg>\n",
              "      </button>\n",
              "      \n",
              "  <style>\n",
              "    .colab-df-container {\n",
              "      display:flex;\n",
              "      flex-wrap:wrap;\n",
              "      gap: 12px;\n",
              "    }\n",
              "\n",
              "    .colab-df-convert {\n",
              "      background-color: #E8F0FE;\n",
              "      border: none;\n",
              "      border-radius: 50%;\n",
              "      cursor: pointer;\n",
              "      display: none;\n",
              "      fill: #1967D2;\n",
              "      height: 32px;\n",
              "      padding: 0 0 0 0;\n",
              "      width: 32px;\n",
              "    }\n",
              "\n",
              "    .colab-df-convert:hover {\n",
              "      background-color: #E2EBFA;\n",
              "      box-shadow: 0px 1px 2px rgba(60, 64, 67, 0.3), 0px 1px 3px 1px rgba(60, 64, 67, 0.15);\n",
              "      fill: #174EA6;\n",
              "    }\n",
              "\n",
              "    [theme=dark] .colab-df-convert {\n",
              "      background-color: #3B4455;\n",
              "      fill: #D2E3FC;\n",
              "    }\n",
              "\n",
              "    [theme=dark] .colab-df-convert:hover {\n",
              "      background-color: #434B5C;\n",
              "      box-shadow: 0px 1px 3px 1px rgba(0, 0, 0, 0.15);\n",
              "      filter: drop-shadow(0px 1px 2px rgba(0, 0, 0, 0.3));\n",
              "      fill: #FFFFFF;\n",
              "    }\n",
              "  </style>\n",
              "\n",
              "      <script>\n",
              "        const buttonEl =\n",
              "          document.querySelector('#df-2417b066-c64b-48d5-9a50-b16b4d076b66 button.colab-df-convert');\n",
              "        buttonEl.style.display =\n",
              "          google.colab.kernel.accessAllowed ? 'block' : 'none';\n",
              "\n",
              "        async function convertToInteractive(key) {\n",
              "          const element = document.querySelector('#df-2417b066-c64b-48d5-9a50-b16b4d076b66');\n",
              "          const dataTable =\n",
              "            await google.colab.kernel.invokeFunction('convertToInteractive',\n",
              "                                                     [key], {});\n",
              "          if (!dataTable) return;\n",
              "\n",
              "          const docLinkHtml = 'Like what you see? Visit the ' +\n",
              "            '<a target=\"_blank\" href=https://colab.research.google.com/notebooks/data_table.ipynb>data table notebook</a>'\n",
              "            + ' to learn more about interactive tables.';\n",
              "          element.innerHTML = '';\n",
              "          dataTable['output_type'] = 'display_data';\n",
              "          await google.colab.output.renderOutput(dataTable, element);\n",
              "          const docLink = document.createElement('div');\n",
              "          docLink.innerHTML = docLinkHtml;\n",
              "          element.appendChild(docLink);\n",
              "        }\n",
              "      </script>\n",
              "    </div>\n",
              "  </div>\n",
              "  "
            ]
          },
          "metadata": {},
          "execution_count": 9
        }
      ]
    },
    {
      "cell_type": "code",
      "source": [
        "df.shape"
      ],
      "metadata": {
        "colab": {
          "base_uri": "https://localhost:8080/"
        },
        "id": "813pxTSe73DZ",
        "outputId": "de216d18-96f9-423d-bb21-811475bb20ae"
      },
      "execution_count": 10,
      "outputs": [
        {
          "output_type": "execute_result",
          "data": {
            "text/plain": [
              "(5572, 2)"
            ]
          },
          "metadata": {},
          "execution_count": 10
        }
      ]
    },
    {
      "cell_type": "code",
      "source": [
        "# Check null values\n",
        "\n",
        "df.isnull().sum()"
      ],
      "metadata": {
        "colab": {
          "base_uri": "https://localhost:8080/"
        },
        "id": "NFIVfqNO753i",
        "outputId": "e5dcbe54-1888-40b1-f256-832db544dc77"
      },
      "execution_count": 11,
      "outputs": [
        {
          "output_type": "execute_result",
          "data": {
            "text/plain": [
              "Category    0\n",
              "Message     0\n",
              "dtype: int64"
            ]
          },
          "metadata": {},
          "execution_count": 11
        }
      ]
    },
    {
      "cell_type": "code",
      "source": [
        "# See the distribuation of target column\n",
        "\n",
        "df['Category'].value_counts()"
      ],
      "metadata": {
        "colab": {
          "base_uri": "https://localhost:8080/"
        },
        "id": "yS-Vrq9w7_17",
        "outputId": "71463d58-eeca-4537-87c1-8dc8ac483141"
      },
      "execution_count": 12,
      "outputs": [
        {
          "output_type": "execute_result",
          "data": {
            "text/plain": [
              "ham     4825\n",
              "spam     747\n",
              "Name: Category, dtype: int64"
            ]
          },
          "metadata": {},
          "execution_count": 12
        }
      ]
    },
    {
      "cell_type": "code",
      "source": [
        "df.loc[3, 'Message']"
      ],
      "metadata": {
        "colab": {
          "base_uri": "https://localhost:8080/",
          "height": 35
        },
        "id": "6aAFalg582cJ",
        "outputId": "fa4fd600-894f-43aa-cba1-8fd4348eacd7"
      },
      "execution_count": 13,
      "outputs": [
        {
          "output_type": "execute_result",
          "data": {
            "text/plain": [
              "'U dun say so early hor... U c already then say...'"
            ],
            "application/vnd.google.colaboratory.intrinsic+json": {
              "type": "string"
            }
          },
          "metadata": {},
          "execution_count": 13
        }
      ]
    },
    {
      "cell_type": "code",
      "source": [
        "re.sub(pattern=r\"[^a-zA-Z]\", repl=\" \", string=df.loc[3, 'Message'])"
      ],
      "metadata": {
        "colab": {
          "base_uri": "https://localhost:8080/",
          "height": 35
        },
        "id": "ke_kzZKk88ug",
        "outputId": "526c6731-3436-4d58-8355-c13f7123f797"
      },
      "execution_count": 14,
      "outputs": [
        {
          "output_type": "execute_result",
          "data": {
            "text/plain": [
              "'U dun say so early hor    U c already then say   '"
            ],
            "application/vnd.google.colaboratory.intrinsic+json": {
              "type": "string"
            }
          },
          "metadata": {},
          "execution_count": 14
        }
      ]
    },
    {
      "cell_type": "code",
      "source": [
        "lemmatizer = WordNetLemmatizer()"
      ],
      "metadata": {
        "id": "7rmHuJPa8GX0"
      },
      "execution_count": 15,
      "outputs": []
    },
    {
      "cell_type": "code",
      "source": [
        "# text preprocessing\n",
        "\n",
        "corpus = []\n",
        "\n",
        "for i in range(len(df)):\n",
        "    text = re.sub(pattern=r\"[^a-zA-Z]\", repl=\" \", string=df.loc[i, 'Message'])\n",
        "    text = text.lower()\n",
        "    text = text.split() # return list of words\n",
        "\n",
        "    text = [lemmatizer.lemmatize(word=word) for word in text if word not in stopwords.words('english')]\n",
        "    text = \" \".join(text)\n",
        "\n",
        "    corpus.append(text)"
      ],
      "metadata": {
        "id": "93Ne4tvu8ck3"
      },
      "execution_count": 16,
      "outputs": []
    },
    {
      "cell_type": "code",
      "source": [
        "# List of preprocess sentences\n",
        "\n",
        "corpus[0:10]"
      ],
      "metadata": {
        "colab": {
          "base_uri": "https://localhost:8080/"
        },
        "id": "uxnkAa8G-rxs",
        "outputId": "0f1ece8c-f696-487f-d69d-24bd6c491ae8"
      },
      "execution_count": 17,
      "outputs": [
        {
          "output_type": "execute_result",
          "data": {
            "text/plain": [
              "['go jurong point crazy available bugis n great world la e buffet cine got amore wat',\n",
              " 'ok lar joking wif u oni',\n",
              " 'free entry wkly comp win fa cup final tkts st may text fa receive entry question std txt rate c apply',\n",
              " 'u dun say early hor u c already say',\n",
              " 'nah think go usf life around though',\n",
              " 'freemsg hey darling week word back like fun still tb ok xxx std chgs send rcv',\n",
              " 'even brother like speak treat like aid patent',\n",
              " 'per request melle melle oru minnaminunginte nurungu vettam set callertune caller press copy friend callertune',\n",
              " 'winner valued network customer selected receivea prize reward claim call claim code kl valid hour',\n",
              " 'mobile month u r entitled update latest colour mobile camera free call mobile update co free']"
            ]
          },
          "metadata": {},
          "execution_count": 17
        }
      ]
    },
    {
      "cell_type": "code",
      "source": [
        "corpus[0]"
      ],
      "metadata": {
        "colab": {
          "base_uri": "https://localhost:8080/",
          "height": 35
        },
        "id": "VoAzM9xI-562",
        "outputId": "55b1627e-0f5a-4a3a-dbc1-3fd9317f68b9"
      },
      "execution_count": 18,
      "outputs": [
        {
          "output_type": "execute_result",
          "data": {
            "text/plain": [
              "'go jurong point crazy available bugis n great world la e buffet cine got amore wat'"
            ],
            "application/vnd.google.colaboratory.intrinsic+json": {
              "type": "string"
            }
          },
          "metadata": {},
          "execution_count": 18
        }
      ]
    },
    {
      "cell_type": "code",
      "source": [
        "from nltk import sent_tokenize\n",
        "from gensim.utils import simple_preprocess"
      ],
      "metadata": {
        "id": "j4BYnwUZ-LCI"
      },
      "execution_count": 19,
      "outputs": []
    },
    {
      "cell_type": "code",
      "source": [
        "print(df.loc[5, 'Message'])"
      ],
      "metadata": {
        "colab": {
          "base_uri": "https://localhost:8080/"
        },
        "id": "5Aw4zzIh-ZuZ",
        "outputId": "fe3f3007-5c95-4f45-b9d0-0406836a96ee"
      },
      "execution_count": 21,
      "outputs": [
        {
          "output_type": "stream",
          "name": "stdout",
          "text": [
            "FreeMsg Hey there darling it's been 3 week's now and no word back! I'd like some fun you up for it still? Tb ok! XxX std chgs to send, £1.50 to rcv\n"
          ]
        }
      ]
    },
    {
      "cell_type": "code",
      "source": [
        "# it will apply some preprocess and return word tokenize\n",
        "\n",
        "simple_preprocess(doc=df.loc[5, 'Message'])"
      ],
      "metadata": {
        "colab": {
          "base_uri": "https://localhost:8080/"
        },
        "id": "0LaUhCCj-UDJ",
        "outputId": "343f5717-c011-4050-a22f-925529aa0f79"
      },
      "execution_count": 20,
      "outputs": [
        {
          "output_type": "execute_result",
          "data": {
            "text/plain": [
              "['freemsg',\n",
              " 'hey',\n",
              " 'there',\n",
              " 'darling',\n",
              " 'it',\n",
              " 'been',\n",
              " 'week',\n",
              " 'now',\n",
              " 'and',\n",
              " 'no',\n",
              " 'word',\n",
              " 'back',\n",
              " 'like',\n",
              " 'some',\n",
              " 'fun',\n",
              " 'you',\n",
              " 'up',\n",
              " 'for',\n",
              " 'it',\n",
              " 'still',\n",
              " 'tb',\n",
              " 'ok',\n",
              " 'xxx',\n",
              " 'std',\n",
              " 'chgs',\n",
              " 'to',\n",
              " 'send',\n",
              " 'to',\n",
              " 'rcv']"
            ]
          },
          "metadata": {},
          "execution_count": 20
        }
      ]
    },
    {
      "cell_type": "code",
      "source": [
        "sent_tokenize(text=corpus[0])"
      ],
      "metadata": {
        "colab": {
          "base_uri": "https://localhost:8080/"
        },
        "id": "nJzmQ6Zw--9G",
        "outputId": "1b06f016-2624-4215-9132-ef5ac332d3ec"
      },
      "execution_count": 22,
      "outputs": [
        {
          "output_type": "execute_result",
          "data": {
            "text/plain": [
              "['go jurong point crazy available bugis n great world la e buffet cine got amore wat']"
            ]
          },
          "metadata": {},
          "execution_count": 22
        }
      ]
    },
    {
      "cell_type": "code",
      "source": [
        "words = []\n",
        "\n",
        "for i in corpus:\n",
        "    word = simple_preprocess(doc=i)\n",
        "    words.append(word)"
      ],
      "metadata": {
        "id": "9mNXYpP5_Qu5"
      },
      "execution_count": 23,
      "outputs": []
    },
    {
      "cell_type": "code",
      "source": [
        "len(words)"
      ],
      "metadata": {
        "colab": {
          "base_uri": "https://localhost:8080/"
        },
        "id": "_-04vhVP_sZd",
        "outputId": "d97b630e-2718-484e-82c6-2290ef74a154"
      },
      "execution_count": 24,
      "outputs": [
        {
          "output_type": "execute_result",
          "data": {
            "text/plain": [
              "5572"
            ]
          },
          "metadata": {},
          "execution_count": 24
        }
      ]
    },
    {
      "cell_type": "code",
      "source": [
        "# List of list. Inside list contain every sentence as a tokenize form.\n",
        "words[0:10]"
      ],
      "metadata": {
        "colab": {
          "base_uri": "https://localhost:8080/"
        },
        "id": "AnKnpxbC_sIY",
        "outputId": "03b949ce-8139-4710-f80e-81cb48eb7e10"
      },
      "execution_count": 25,
      "outputs": [
        {
          "output_type": "execute_result",
          "data": {
            "text/plain": [
              "[['go',\n",
              "  'jurong',\n",
              "  'point',\n",
              "  'crazy',\n",
              "  'available',\n",
              "  'bugis',\n",
              "  'great',\n",
              "  'world',\n",
              "  'la',\n",
              "  'buffet',\n",
              "  'cine',\n",
              "  'got',\n",
              "  'amore',\n",
              "  'wat'],\n",
              " ['ok', 'lar', 'joking', 'wif', 'oni'],\n",
              " ['free',\n",
              "  'entry',\n",
              "  'wkly',\n",
              "  'comp',\n",
              "  'win',\n",
              "  'fa',\n",
              "  'cup',\n",
              "  'final',\n",
              "  'tkts',\n",
              "  'st',\n",
              "  'may',\n",
              "  'text',\n",
              "  'fa',\n",
              "  'receive',\n",
              "  'entry',\n",
              "  'question',\n",
              "  'std',\n",
              "  'txt',\n",
              "  'rate',\n",
              "  'apply'],\n",
              " ['dun', 'say', 'early', 'hor', 'already', 'say'],\n",
              " ['nah', 'think', 'go', 'usf', 'life', 'around', 'though'],\n",
              " ['freemsg',\n",
              "  'hey',\n",
              "  'darling',\n",
              "  'week',\n",
              "  'word',\n",
              "  'back',\n",
              "  'like',\n",
              "  'fun',\n",
              "  'still',\n",
              "  'tb',\n",
              "  'ok',\n",
              "  'xxx',\n",
              "  'std',\n",
              "  'chgs',\n",
              "  'send',\n",
              "  'rcv'],\n",
              " ['even', 'brother', 'like', 'speak', 'treat', 'like', 'aid', 'patent'],\n",
              " ['per',\n",
              "  'request',\n",
              "  'melle',\n",
              "  'melle',\n",
              "  'oru',\n",
              "  'minnaminunginte',\n",
              "  'nurungu',\n",
              "  'vettam',\n",
              "  'set',\n",
              "  'callertune',\n",
              "  'caller',\n",
              "  'press',\n",
              "  'copy',\n",
              "  'friend',\n",
              "  'callertune'],\n",
              " ['winner',\n",
              "  'valued',\n",
              "  'network',\n",
              "  'customer',\n",
              "  'selected',\n",
              "  'receivea',\n",
              "  'prize',\n",
              "  'reward',\n",
              "  'claim',\n",
              "  'call',\n",
              "  'claim',\n",
              "  'code',\n",
              "  'kl',\n",
              "  'valid',\n",
              "  'hour'],\n",
              " ['mobile',\n",
              "  'month',\n",
              "  'entitled',\n",
              "  'update',\n",
              "  'latest',\n",
              "  'colour',\n",
              "  'mobile',\n",
              "  'camera',\n",
              "  'free',\n",
              "  'call',\n",
              "  'mobile',\n",
              "  'update',\n",
              "  'co',\n",
              "  'free']]"
            ]
          },
          "metadata": {},
          "execution_count": 25
        }
      ]
    },
    {
      "cell_type": "code",
      "source": [
        "import gensim\n",
        "import gensim.downloader as api"
      ],
      "metadata": {
        "id": "cBusgqKy9X-Z"
      },
      "execution_count": 26,
      "outputs": []
    },
    {
      "cell_type": "code",
      "source": [
        "# This is word2vec pre-trained model which is trained on google news\n",
        "# evey word have 300 dimension features vector\n",
        "\n",
        "wv = api.load('word2vec-google-news-300')"
      ],
      "metadata": {
        "colab": {
          "base_uri": "https://localhost:8080/"
        },
        "id": "FALlZwM499pt",
        "outputId": "20d92815-afdd-4ce9-a9ee-40e41717ca21"
      },
      "execution_count": 26,
      "outputs": [
        {
          "output_type": "stream",
          "name": "stdout",
          "text": [
            "[=================================================-] 99.9% 1661.9/1662.8MB downloaded\n"
          ]
        }
      ]
    },
    {
      "cell_type": "code",
      "source": [
        "vec_king = wv['king']"
      ],
      "metadata": {
        "id": "cSaV7WBQAUYo"
      },
      "execution_count": 27,
      "outputs": []
    },
    {
      "cell_type": "code",
      "source": [
        "vec_king"
      ],
      "metadata": {
        "id": "LgoT2iZzAia8",
        "colab": {
          "base_uri": "https://localhost:8080/"
        },
        "outputId": "91c458f0-f53a-4efc-8cc7-66c8761d0c25"
      },
      "execution_count": 28,
      "outputs": [
        {
          "output_type": "execute_result",
          "data": {
            "text/plain": [
              "array([ 1.25976562e-01,  2.97851562e-02,  8.60595703e-03,  1.39648438e-01,\n",
              "       -2.56347656e-02, -3.61328125e-02,  1.11816406e-01, -1.98242188e-01,\n",
              "        5.12695312e-02,  3.63281250e-01, -2.42187500e-01, -3.02734375e-01,\n",
              "       -1.77734375e-01, -2.49023438e-02, -1.67968750e-01, -1.69921875e-01,\n",
              "        3.46679688e-02,  5.21850586e-03,  4.63867188e-02,  1.28906250e-01,\n",
              "        1.36718750e-01,  1.12792969e-01,  5.95703125e-02,  1.36718750e-01,\n",
              "        1.01074219e-01, -1.76757812e-01, -2.51953125e-01,  5.98144531e-02,\n",
              "        3.41796875e-01, -3.11279297e-02,  1.04492188e-01,  6.17675781e-02,\n",
              "        1.24511719e-01,  4.00390625e-01, -3.22265625e-01,  8.39843750e-02,\n",
              "        3.90625000e-02,  5.85937500e-03,  7.03125000e-02,  1.72851562e-01,\n",
              "        1.38671875e-01, -2.31445312e-01,  2.83203125e-01,  1.42578125e-01,\n",
              "        3.41796875e-01, -2.39257812e-02, -1.09863281e-01,  3.32031250e-02,\n",
              "       -5.46875000e-02,  1.53198242e-02, -1.62109375e-01,  1.58203125e-01,\n",
              "       -2.59765625e-01,  2.01416016e-02, -1.63085938e-01,  1.35803223e-03,\n",
              "       -1.44531250e-01, -5.68847656e-02,  4.29687500e-02, -2.46582031e-02,\n",
              "        1.85546875e-01,  4.47265625e-01,  9.58251953e-03,  1.31835938e-01,\n",
              "        9.86328125e-02, -1.85546875e-01, -1.00097656e-01, -1.33789062e-01,\n",
              "       -1.25000000e-01,  2.83203125e-01,  1.23046875e-01,  5.32226562e-02,\n",
              "       -1.77734375e-01,  8.59375000e-02, -2.18505859e-02,  2.05078125e-02,\n",
              "       -1.39648438e-01,  2.51464844e-02,  1.38671875e-01, -1.05468750e-01,\n",
              "        1.38671875e-01,  8.88671875e-02, -7.51953125e-02, -2.13623047e-02,\n",
              "        1.72851562e-01,  4.63867188e-02, -2.65625000e-01,  8.91113281e-03,\n",
              "        1.49414062e-01,  3.78417969e-02,  2.38281250e-01, -1.24511719e-01,\n",
              "       -2.17773438e-01, -1.81640625e-01,  2.97851562e-02,  5.71289062e-02,\n",
              "       -2.89306641e-02,  1.24511719e-02,  9.66796875e-02, -2.31445312e-01,\n",
              "        5.81054688e-02,  6.68945312e-02,  7.08007812e-02, -3.08593750e-01,\n",
              "       -2.14843750e-01,  1.45507812e-01, -4.27734375e-01, -9.39941406e-03,\n",
              "        1.54296875e-01, -7.66601562e-02,  2.89062500e-01,  2.77343750e-01,\n",
              "       -4.86373901e-04, -1.36718750e-01,  3.24218750e-01, -2.46093750e-01,\n",
              "       -3.03649902e-03, -2.11914062e-01,  1.25000000e-01,  2.69531250e-01,\n",
              "        2.04101562e-01,  8.25195312e-02, -2.01171875e-01, -1.60156250e-01,\n",
              "       -3.78417969e-02, -1.20117188e-01,  1.15234375e-01, -4.10156250e-02,\n",
              "       -3.95507812e-02, -8.98437500e-02,  6.34765625e-03,  2.03125000e-01,\n",
              "        1.86523438e-01,  2.73437500e-01,  6.29882812e-02,  1.41601562e-01,\n",
              "       -9.81445312e-02,  1.38671875e-01,  1.82617188e-01,  1.73828125e-01,\n",
              "        1.73828125e-01, -2.37304688e-01,  1.78710938e-01,  6.34765625e-02,\n",
              "        2.36328125e-01, -2.08984375e-01,  8.74023438e-02, -1.66015625e-01,\n",
              "       -7.91015625e-02,  2.43164062e-01, -8.88671875e-02,  1.26953125e-01,\n",
              "       -2.16796875e-01, -1.73828125e-01, -3.59375000e-01, -8.25195312e-02,\n",
              "       -6.49414062e-02,  5.07812500e-02,  1.35742188e-01, -7.47070312e-02,\n",
              "       -1.64062500e-01,  1.15356445e-02,  4.45312500e-01, -2.15820312e-01,\n",
              "       -1.11328125e-01, -1.92382812e-01,  1.70898438e-01, -1.25000000e-01,\n",
              "        2.65502930e-03,  1.92382812e-01, -1.74804688e-01,  1.39648438e-01,\n",
              "        2.92968750e-01,  1.13281250e-01,  5.95703125e-02, -6.39648438e-02,\n",
              "        9.96093750e-02, -2.72216797e-02,  1.96533203e-02,  4.27246094e-02,\n",
              "       -2.46093750e-01,  6.39648438e-02, -2.25585938e-01, -1.68945312e-01,\n",
              "        2.89916992e-03,  8.20312500e-02,  3.41796875e-01,  4.32128906e-02,\n",
              "        1.32812500e-01,  1.42578125e-01,  7.61718750e-02,  5.98144531e-02,\n",
              "       -1.19140625e-01,  2.74658203e-03, -6.29882812e-02, -2.72216797e-02,\n",
              "       -4.82177734e-03, -8.20312500e-02, -2.49023438e-02, -4.00390625e-01,\n",
              "       -1.06933594e-01,  4.24804688e-02,  7.76367188e-02, -1.16699219e-01,\n",
              "        7.37304688e-02, -9.22851562e-02,  1.07910156e-01,  1.58203125e-01,\n",
              "        4.24804688e-02,  1.26953125e-01,  3.61328125e-02,  2.67578125e-01,\n",
              "       -1.01074219e-01, -3.02734375e-01, -5.76171875e-02,  5.05371094e-02,\n",
              "        5.26428223e-04, -2.07031250e-01, -1.38671875e-01, -8.97216797e-03,\n",
              "       -2.78320312e-02, -1.41601562e-01,  2.07031250e-01, -1.58203125e-01,\n",
              "        1.27929688e-01,  1.49414062e-01, -2.24609375e-02, -8.44726562e-02,\n",
              "        1.22558594e-01,  2.15820312e-01, -2.13867188e-01, -3.12500000e-01,\n",
              "       -3.73046875e-01,  4.08935547e-03,  1.07421875e-01,  1.06933594e-01,\n",
              "        7.32421875e-02,  8.97216797e-03, -3.88183594e-02, -1.29882812e-01,\n",
              "        1.49414062e-01, -2.14843750e-01, -1.83868408e-03,  9.91210938e-02,\n",
              "        1.57226562e-01, -1.14257812e-01, -2.05078125e-01,  9.91210938e-02,\n",
              "        3.69140625e-01, -1.97265625e-01,  3.54003906e-02,  1.09375000e-01,\n",
              "        1.31835938e-01,  1.66992188e-01,  2.35351562e-01,  1.04980469e-01,\n",
              "       -4.96093750e-01, -1.64062500e-01, -1.56250000e-01, -5.22460938e-02,\n",
              "        1.03027344e-01,  2.43164062e-01, -1.88476562e-01,  5.07812500e-02,\n",
              "       -9.37500000e-02, -6.68945312e-02,  2.27050781e-02,  7.61718750e-02,\n",
              "        2.89062500e-01,  3.10546875e-01, -5.37109375e-02,  2.28515625e-01,\n",
              "        2.51464844e-02,  6.78710938e-02, -1.21093750e-01, -2.15820312e-01,\n",
              "       -2.73437500e-01, -3.07617188e-02, -3.37890625e-01,  1.53320312e-01,\n",
              "        2.33398438e-01, -2.08007812e-01,  3.73046875e-01,  8.20312500e-02,\n",
              "        2.51953125e-01, -7.61718750e-02, -4.66308594e-02, -2.23388672e-02,\n",
              "        2.99072266e-02, -5.93261719e-02, -4.66918945e-03, -2.44140625e-01,\n",
              "       -2.09960938e-01, -2.87109375e-01, -4.54101562e-02, -1.77734375e-01,\n",
              "       -2.79296875e-01, -8.59375000e-02,  9.13085938e-02,  2.51953125e-01],\n",
              "      dtype=float32)"
            ]
          },
          "metadata": {},
          "execution_count": 28
        }
      ]
    },
    {
      "cell_type": "code",
      "source": [
        "vec_king.shape"
      ],
      "metadata": {
        "id": "kVWRrq_7AuE-",
        "colab": {
          "base_uri": "https://localhost:8080/"
        },
        "outputId": "8987666f-9ee7-448a-ac33-b6ef8c3d6043"
      },
      "execution_count": 29,
      "outputs": [
        {
          "output_type": "execute_result",
          "data": {
            "text/plain": [
              "(300,)"
            ]
          },
          "metadata": {},
          "execution_count": 29
        }
      ]
    },
    {
      "cell_type": "code",
      "source": [
        "# def __init__(sentences=None, \n",
        "#              corpus_file=None, \n",
        "#              size=100, alpha=0.025, \n",
        "#              window=5, min_count=5, \n",
        "#              max_vocab_size=None, \n",
        "#              sample=0.001, seed=1, workers=3, \n",
        "#              min_alpha=0.0001, sg=0, hs=0, negative=5, \n",
        "#              ns_exponent=0.75, cbow_mean=1, hashfxn=hash, \n",
        "#              iter=5, null_word=0, trim_rule=None, \n",
        "#              sorted_vocab=1, batch_words=MAX_WORDS_IN_BATCH, \n",
        "#              compute_loss=False, callbacks=(), max_final_vocab=None)"
      ],
      "metadata": {
        "id": "qWgHyMb9DzSa"
      },
      "execution_count": null,
      "outputs": []
    },
    {
      "cell_type": "code",
      "source": [
        "### Lets train Word2vec from scratch for our own corpus\n",
        "\n",
        "# here, words is our list of list. inner list contains word tokenizer \n",
        "# that means all words of a sentence\n",
        "\n",
        "# min_count=2 means a word will be consider if the word exists minimum 2 times in our corpus\n",
        "model = gensim.models.Word2Vec(sentences=words, window=5, min_count=2)"
      ],
      "metadata": {
        "id": "V4auWRaCA3Ww",
        "colab": {
          "base_uri": "https://localhost:8080/"
        },
        "outputId": "e13dde8c-9bcb-4c57-fdfe-b80e14d2779c"
      },
      "execution_count": 27,
      "outputs": [
        {
          "output_type": "stream",
          "name": "stderr",
          "text": [
            "WARNING:gensim.models.base_any2vec:under 10 jobs per worker: consider setting a smaller `batch_words' for smoother alpha decay\n"
          ]
        }
      ]
    },
    {
      "cell_type": "code",
      "source": [
        "# Number of unique words in our corpus\n",
        "\n",
        "len(model.wv.index2entity)"
      ],
      "metadata": {
        "colab": {
          "base_uri": "https://localhost:8080/"
        },
        "id": "H1EeoKW2CZgn",
        "outputId": "fc0ea5eb-75ee-4b3f-82bf-aba5372083ca"
      },
      "execution_count": 28,
      "outputs": [
        {
          "output_type": "execute_result",
          "data": {
            "text/plain": [
              "3540"
            ]
          },
          "metadata": {},
          "execution_count": 28
        }
      ]
    },
    {
      "cell_type": "code",
      "source": [
        "model.wv.index2entity[0:10]"
      ],
      "metadata": {
        "id": "pl_uurz0A5tv",
        "colab": {
          "base_uri": "https://localhost:8080/"
        },
        "outputId": "382f4937-d572-4bba-8d59-87c4e073e3d0"
      },
      "execution_count": 29,
      "outputs": [
        {
          "output_type": "execute_result",
          "data": {
            "text/plain": [
              "['call', 'get', 'ur', 'gt', 'go', 'lt', 'ok', 'day', 'free', 'know']"
            ]
          },
          "metadata": {},
          "execution_count": 29
        }
      ]
    },
    {
      "cell_type": "code",
      "source": [
        "len(model.wv.index2word)"
      ],
      "metadata": {
        "colab": {
          "base_uri": "https://localhost:8080/"
        },
        "id": "_-xMqSvUB9JN",
        "outputId": "6bbbda7a-bb98-4f7b-bed6-92d10d480097"
      },
      "execution_count": 30,
      "outputs": [
        {
          "output_type": "execute_result",
          "data": {
            "text/plain": [
              "3540"
            ]
          },
          "metadata": {},
          "execution_count": 30
        }
      ]
    },
    {
      "cell_type": "code",
      "source": [
        "model.wv.index2word[0:10]"
      ],
      "metadata": {
        "colab": {
          "base_uri": "https://localhost:8080/"
        },
        "id": "nzxiboCzCkIi",
        "outputId": "1fc07eaf-7fc0-49a3-9c41-d17803f5d910"
      },
      "execution_count": 31,
      "outputs": [
        {
          "output_type": "execute_result",
          "data": {
            "text/plain": [
              "['call', 'get', 'ur', 'gt', 'go', 'lt', 'ok', 'day', 'free', 'know']"
            ]
          },
          "metadata": {},
          "execution_count": 31
        }
      ]
    },
    {
      "cell_type": "code",
      "source": [
        "model.corpus_count"
      ],
      "metadata": {
        "colab": {
          "base_uri": "https://localhost:8080/"
        },
        "id": "M5-CmMA0CsuL",
        "outputId": "4c0a9211-128f-4767-eede-f63330f81d6f"
      },
      "execution_count": 32,
      "outputs": [
        {
          "output_type": "execute_result",
          "data": {
            "text/plain": [
              "5572"
            ]
          },
          "metadata": {},
          "execution_count": 32
        }
      ]
    },
    {
      "cell_type": "code",
      "source": [
        "model.epochs"
      ],
      "metadata": {
        "colab": {
          "base_uri": "https://localhost:8080/"
        },
        "id": "P1lsBuxHC4eN",
        "outputId": "a46273e2-14fa-42bd-8629-7019ec3b3a26"
      },
      "execution_count": 33,
      "outputs": [
        {
          "output_type": "execute_result",
          "data": {
            "text/plain": [
              "5"
            ]
          },
          "metadata": {},
          "execution_count": 33
        }
      ]
    },
    {
      "cell_type": "code",
      "source": [
        "model.wv.similar_by_word(word=\"kid\", topn=15)"
      ],
      "metadata": {
        "colab": {
          "base_uri": "https://localhost:8080/"
        },
        "id": "eoqNRqMNC8R-",
        "outputId": "2e298025-e2fb-4bb7-a208-16af30b324db"
      },
      "execution_count": 34,
      "outputs": [
        {
          "output_type": "execute_result",
          "data": {
            "text/plain": [
              "[('age', 0.9990001916885376),\n",
              " ('game', 0.9989858865737915),\n",
              " ('best', 0.9989431500434875),\n",
              " ('yes', 0.9989081621170044),\n",
              " ('work', 0.9988887906074524),\n",
              " ('plus', 0.9988856315612793),\n",
              " ('yo', 0.9988827109336853),\n",
              " ('customer', 0.9988759160041809),\n",
              " ('cost', 0.9988712072372437),\n",
              " ('box', 0.9988601207733154),\n",
              " ('get', 0.9988587498664856),\n",
              " ('went', 0.9988584518432617),\n",
              " ('cash', 0.9988583922386169),\n",
              " ('please', 0.9988570213317871),\n",
              " ('oh', 0.9988563060760498)]"
            ]
          },
          "metadata": {},
          "execution_count": 34
        }
      ]
    },
    {
      "cell_type": "code",
      "source": [
        "# Every word is represented 100 dimensional features vector\n",
        "\n",
        "model.wv['kid']"
      ],
      "metadata": {
        "colab": {
          "base_uri": "https://localhost:8080/"
        },
        "id": "p9rq33X3DOYR",
        "outputId": "1a36fcbe-b2a6-49ff-d25e-ab8dcb3d4153"
      },
      "execution_count": 35,
      "outputs": [
        {
          "output_type": "execute_result",
          "data": {
            "text/plain": [
              "array([-0.10516834, -0.02269057, -0.04734379, -0.09557092, -0.03819584,\n",
              "        0.03429196,  0.07479838,  0.01577865, -0.10699267, -0.01907971,\n",
              "       -0.02248671,  0.08691894,  0.01420994,  0.05650796, -0.13937494,\n",
              "       -0.11310227,  0.0049842 , -0.05414366, -0.11004584, -0.06439323,\n",
              "       -0.06720372, -0.04364338,  0.06025408,  0.0199883 , -0.01786945,\n",
              "        0.08050638,  0.09764443, -0.0193694 ,  0.04264391,  0.05703606,\n",
              "        0.02076781, -0.06735208, -0.01111178, -0.07442364,  0.00482114,\n",
              "        0.06553613, -0.13074227,  0.01136053,  0.04279895,  0.06627662,\n",
              "       -0.02496226, -0.03185632, -0.02617375,  0.07285105,  0.05578927,\n",
              "       -0.05288224, -0.06501235, -0.08693227, -0.10971463,  0.00824292,\n",
              "       -0.07883868, -0.0349388 ,  0.0573584 , -0.05145945,  0.06997936,\n",
              "        0.06049981,  0.00191342,  0.08025155, -0.16477615, -0.08639488,\n",
              "        0.01249336, -0.04320706, -0.0430557 ,  0.08058712,  0.09568198,\n",
              "        0.05096142,  0.06229369, -0.0991145 ,  0.10107716,  0.06289817,\n",
              "       -0.1251443 , -0.00354618,  0.05319637,  0.0262771 , -0.05798117,\n",
              "        0.07515347, -0.08621448, -0.01569929, -0.11614688, -0.01665405,\n",
              "       -0.0023544 , -0.00112341, -0.02915067,  0.09025578, -0.04103902,\n",
              "        0.07028151, -0.03939322,  0.00709564,  0.00583143,  0.13551539,\n",
              "        0.15015206,  0.02627902, -0.00971591, -0.02619608, -0.05288174,\n",
              "        0.03724495, -0.06308208, -0.01466924,  0.04020681,  0.03316373],\n",
              "      dtype=float32)"
            ]
          },
          "metadata": {},
          "execution_count": 35
        }
      ]
    },
    {
      "cell_type": "code",
      "source": [
        "model.wv['kid'].shape"
      ],
      "metadata": {
        "colab": {
          "base_uri": "https://localhost:8080/"
        },
        "id": "vlRCW4PrDYvy",
        "outputId": "68c85d21-6331-4e88-ea43-7607d5b66f8b"
      },
      "execution_count": 36,
      "outputs": [
        {
          "output_type": "execute_result",
          "data": {
            "text/plain": [
              "(100,)"
            ]
          },
          "metadata": {},
          "execution_count": 36
        }
      ]
    },
    {
      "cell_type": "code",
      "source": [
        "# keep in mind if your word not present in your own corpus or vocabulary\n",
        "# then it will give you error\n",
        "model.wv['alamin']"
      ],
      "metadata": {
        "colab": {
          "base_uri": "https://localhost:8080/",
          "height": 345
        },
        "id": "X7LcjPKJDddj",
        "outputId": "a0a5cb28-6c85-4c44-d8bb-6e15451c006e"
      },
      "execution_count": 37,
      "outputs": [
        {
          "output_type": "error",
          "ename": "KeyError",
          "evalue": "ignored",
          "traceback": [
            "\u001b[0;31m---------------------------------------------------------------------------\u001b[0m",
            "\u001b[0;31mKeyError\u001b[0m                                  Traceback (most recent call last)",
            "\u001b[0;32m<ipython-input-37-8de2028cee0c>\u001b[0m in \u001b[0;36m<module>\u001b[0;34m\u001b[0m\n\u001b[1;32m      1\u001b[0m \u001b[0;31m# keep in mind if your word not present in your own corpus or vocabulary\u001b[0m\u001b[0;34m\u001b[0m\u001b[0;34m\u001b[0m\u001b[0;34m\u001b[0m\u001b[0m\n\u001b[1;32m      2\u001b[0m \u001b[0;31m# then it will give you error\u001b[0m\u001b[0;34m\u001b[0m\u001b[0;34m\u001b[0m\u001b[0;34m\u001b[0m\u001b[0m\n\u001b[0;32m----> 3\u001b[0;31m \u001b[0mmodel\u001b[0m\u001b[0;34m.\u001b[0m\u001b[0mwv\u001b[0m\u001b[0;34m[\u001b[0m\u001b[0;34m'alamin'\u001b[0m\u001b[0;34m]\u001b[0m\u001b[0;34m\u001b[0m\u001b[0;34m\u001b[0m\u001b[0m\n\u001b[0m",
            "\u001b[0;32m/usr/local/lib/python3.8/dist-packages/gensim/models/keyedvectors.py\u001b[0m in \u001b[0;36m__getitem__\u001b[0;34m(self, entities)\u001b[0m\n\u001b[1;32m    335\u001b[0m         \u001b[0;32mif\u001b[0m \u001b[0misinstance\u001b[0m\u001b[0;34m(\u001b[0m\u001b[0mentities\u001b[0m\u001b[0;34m,\u001b[0m \u001b[0mstring_types\u001b[0m\u001b[0;34m)\u001b[0m\u001b[0;34m:\u001b[0m\u001b[0;34m\u001b[0m\u001b[0;34m\u001b[0m\u001b[0m\n\u001b[1;32m    336\u001b[0m             \u001b[0;31m# allow calls like trained_model['office'], as a shorthand for trained_model[['office']]\u001b[0m\u001b[0;34m\u001b[0m\u001b[0;34m\u001b[0m\u001b[0;34m\u001b[0m\u001b[0m\n\u001b[0;32m--> 337\u001b[0;31m             \u001b[0;32mreturn\u001b[0m \u001b[0mself\u001b[0m\u001b[0;34m.\u001b[0m\u001b[0mget_vector\u001b[0m\u001b[0;34m(\u001b[0m\u001b[0mentities\u001b[0m\u001b[0;34m)\u001b[0m\u001b[0;34m\u001b[0m\u001b[0;34m\u001b[0m\u001b[0m\n\u001b[0m\u001b[1;32m    338\u001b[0m \u001b[0;34m\u001b[0m\u001b[0m\n\u001b[1;32m    339\u001b[0m         \u001b[0;32mreturn\u001b[0m \u001b[0mvstack\u001b[0m\u001b[0;34m(\u001b[0m\u001b[0;34m[\u001b[0m\u001b[0mself\u001b[0m\u001b[0;34m.\u001b[0m\u001b[0mget_vector\u001b[0m\u001b[0;34m(\u001b[0m\u001b[0mentity\u001b[0m\u001b[0;34m)\u001b[0m \u001b[0;32mfor\u001b[0m \u001b[0mentity\u001b[0m \u001b[0;32min\u001b[0m \u001b[0mentities\u001b[0m\u001b[0;34m]\u001b[0m\u001b[0;34m)\u001b[0m\u001b[0;34m\u001b[0m\u001b[0;34m\u001b[0m\u001b[0m\n",
            "\u001b[0;32m/usr/local/lib/python3.8/dist-packages/gensim/models/keyedvectors.py\u001b[0m in \u001b[0;36mget_vector\u001b[0;34m(self, word)\u001b[0m\n\u001b[1;32m    453\u001b[0m \u001b[0;34m\u001b[0m\u001b[0m\n\u001b[1;32m    454\u001b[0m     \u001b[0;32mdef\u001b[0m \u001b[0mget_vector\u001b[0m\u001b[0;34m(\u001b[0m\u001b[0mself\u001b[0m\u001b[0;34m,\u001b[0m \u001b[0mword\u001b[0m\u001b[0;34m)\u001b[0m\u001b[0;34m:\u001b[0m\u001b[0;34m\u001b[0m\u001b[0;34m\u001b[0m\u001b[0m\n\u001b[0;32m--> 455\u001b[0;31m         \u001b[0;32mreturn\u001b[0m \u001b[0mself\u001b[0m\u001b[0;34m.\u001b[0m\u001b[0mword_vec\u001b[0m\u001b[0;34m(\u001b[0m\u001b[0mword\u001b[0m\u001b[0;34m)\u001b[0m\u001b[0;34m\u001b[0m\u001b[0;34m\u001b[0m\u001b[0m\n\u001b[0m\u001b[1;32m    456\u001b[0m \u001b[0;34m\u001b[0m\u001b[0m\n\u001b[1;32m    457\u001b[0m     \u001b[0;32mdef\u001b[0m \u001b[0mwords_closer_than\u001b[0m\u001b[0;34m(\u001b[0m\u001b[0mself\u001b[0m\u001b[0;34m,\u001b[0m \u001b[0mw1\u001b[0m\u001b[0;34m,\u001b[0m \u001b[0mw2\u001b[0m\u001b[0;34m)\u001b[0m\u001b[0;34m:\u001b[0m\u001b[0;34m\u001b[0m\u001b[0;34m\u001b[0m\u001b[0m\n",
            "\u001b[0;32m/usr/local/lib/python3.8/dist-packages/gensim/models/keyedvectors.py\u001b[0m in \u001b[0;36mword_vec\u001b[0;34m(self, word, use_norm)\u001b[0m\n\u001b[1;32m    450\u001b[0m             \u001b[0;32mreturn\u001b[0m \u001b[0mresult\u001b[0m\u001b[0;34m\u001b[0m\u001b[0;34m\u001b[0m\u001b[0m\n\u001b[1;32m    451\u001b[0m         \u001b[0;32melse\u001b[0m\u001b[0;34m:\u001b[0m\u001b[0;34m\u001b[0m\u001b[0;34m\u001b[0m\u001b[0m\n\u001b[0;32m--> 452\u001b[0;31m             \u001b[0;32mraise\u001b[0m \u001b[0mKeyError\u001b[0m\u001b[0;34m(\u001b[0m\u001b[0;34m\"word '%s' not in vocabulary\"\u001b[0m \u001b[0;34m%\u001b[0m \u001b[0mword\u001b[0m\u001b[0;34m)\u001b[0m\u001b[0;34m\u001b[0m\u001b[0;34m\u001b[0m\u001b[0m\n\u001b[0m\u001b[1;32m    453\u001b[0m \u001b[0;34m\u001b[0m\u001b[0m\n\u001b[1;32m    454\u001b[0m     \u001b[0;32mdef\u001b[0m \u001b[0mget_vector\u001b[0m\u001b[0;34m(\u001b[0m\u001b[0mself\u001b[0m\u001b[0;34m,\u001b[0m \u001b[0mword\u001b[0m\u001b[0;34m)\u001b[0m\u001b[0;34m:\u001b[0m\u001b[0;34m\u001b[0m\u001b[0;34m\u001b[0m\u001b[0m\n",
            "\u001b[0;31mKeyError\u001b[0m: \"word 'alamin' not in vocabulary\""
          ]
        }
      ]
    },
    {
      "cell_type": "code",
      "source": [
        "# what if we apply 'alamin' on pre-trained model also give you error"
      ],
      "metadata": {
        "id": "B2ZZCDrBEI2o"
      },
      "execution_count": 38,
      "outputs": []
    },
    {
      "cell_type": "code",
      "source": [
        "import numpy as np"
      ],
      "metadata": {
        "id": "m-4nQnB6GpcS"
      },
      "execution_count": 39,
      "outputs": []
    },
    {
      "cell_type": "code",
      "source": [
        "words[0]"
      ],
      "metadata": {
        "colab": {
          "base_uri": "https://localhost:8080/"
        },
        "id": "izQZv5AlHunD",
        "outputId": "a4690c67-3ed2-4fba-b879-e6a3278a227e"
      },
      "execution_count": 44,
      "outputs": [
        {
          "output_type": "execute_result",
          "data": {
            "text/plain": [
              "['go',\n",
              " 'jurong',\n",
              " 'point',\n",
              " 'crazy',\n",
              " 'available',\n",
              " 'bugis',\n",
              " 'great',\n",
              " 'world',\n",
              " 'la',\n",
              " 'buffet',\n",
              " 'cine',\n",
              " 'got',\n",
              " 'amore',\n",
              " 'wat']"
            ]
          },
          "metadata": {},
          "execution_count": 44
        }
      ]
    },
    {
      "cell_type": "code",
      "source": [
        "'go' in model.wv.index2word"
      ],
      "metadata": {
        "colab": {
          "base_uri": "https://localhost:8080/"
        },
        "id": "erNqk63HHpni",
        "outputId": "32843d0f-d040-4e47-f35b-ab39b95d1d86"
      },
      "execution_count": 43,
      "outputs": [
        {
          "output_type": "execute_result",
          "data": {
            "text/plain": [
              "True"
            ]
          },
          "metadata": {},
          "execution_count": 43
        }
      ]
    },
    {
      "cell_type": "code",
      "source": [
        "def avg_word2vec(doc):\n",
        "    return np.mean([model.wv[word] for word in doc if word in model.wv.index2word], axis=0)\n",
        "        "
      ],
      "metadata": {
        "id": "_LKqOVaWEjEE"
      },
      "execution_count": 45,
      "outputs": []
    },
    {
      "cell_type": "code",
      "source": [
        "from tqdm import tqdm"
      ],
      "metadata": {
        "id": "2kYt166EFGa4"
      },
      "execution_count": 46,
      "outputs": []
    },
    {
      "cell_type": "code",
      "source": [
        "len(words)"
      ],
      "metadata": {
        "colab": {
          "base_uri": "https://localhost:8080/"
        },
        "id": "Zy1JDcqKIH-0",
        "outputId": "ee2694a6-25a7-4627-8727-11b4b2c7fe22"
      },
      "execution_count": 47,
      "outputs": [
        {
          "output_type": "execute_result",
          "data": {
            "text/plain": [
              "5572"
            ]
          },
          "metadata": {},
          "execution_count": 47
        }
      ]
    },
    {
      "cell_type": "code",
      "source": [
        "# apply for the entire sentences\n",
        "\n",
        "X = []\n",
        "\n",
        "for i in tqdm(range(len(words))):\n",
        "    X.append(avg_word2vec(words[i]))"
      ],
      "metadata": {
        "colab": {
          "base_uri": "https://localhost:8080/"
        },
        "id": "za-HSv1FGkcv",
        "outputId": "c2702bfa-1a77-4e64-cd51-e6e9a4d415da"
      },
      "execution_count": 48,
      "outputs": [
        {
          "output_type": "stream",
          "name": "stderr",
          "text": [
            "  0%|          | 0/5572 [00:00<?, ?it/s]/usr/local/lib/python3.8/dist-packages/numpy/core/fromnumeric.py:3474: RuntimeWarning: Mean of empty slice.\n",
            "  return _methods._mean(a, axis=axis, dtype=dtype,\n",
            "/usr/local/lib/python3.8/dist-packages/numpy/core/_methods.py:189: RuntimeWarning: invalid value encountered in double_scalars\n",
            "  ret = ret.dtype.type(ret / rcount)\n",
            "100%|██████████| 5572/5572 [00:00<00:00, 6053.33it/s]\n"
          ]
        }
      ]
    },
    {
      "cell_type": "code",
      "source": [
        "type(X)"
      ],
      "metadata": {
        "colab": {
          "base_uri": "https://localhost:8080/"
        },
        "id": "AVveys7sGyDi",
        "outputId": "1d02e6ad-7658-4a46-c885-8146d5d6e4e3"
      },
      "execution_count": 50,
      "outputs": [
        {
          "output_type": "execute_result",
          "data": {
            "text/plain": [
              "list"
            ]
          },
          "metadata": {},
          "execution_count": 50
        }
      ]
    },
    {
      "cell_type": "code",
      "source": [
        "len(X)"
      ],
      "metadata": {
        "colab": {
          "base_uri": "https://localhost:8080/"
        },
        "id": "hXtEhmU-GzPI",
        "outputId": "02256e53-d553-450e-d09f-eed44eac4179"
      },
      "execution_count": 51,
      "outputs": [
        {
          "output_type": "execute_result",
          "data": {
            "text/plain": [
              "5572"
            ]
          },
          "metadata": {},
          "execution_count": 51
        }
      ]
    },
    {
      "cell_type": "code",
      "source": [
        "X[0:3]"
      ],
      "metadata": {
        "colab": {
          "base_uri": "https://localhost:8080/"
        },
        "id": "qQRKqepsHcft",
        "outputId": "b107bb89-d9fc-464e-8b88-e603dd479163"
      },
      "execution_count": 53,
      "outputs": [
        {
          "output_type": "execute_result",
          "data": {
            "text/plain": [
              "[array([-0.28086072, -0.07450065, -0.1414689 , -0.2716724 , -0.10589484,\n",
              "         0.10520037,  0.21387501,  0.03530839, -0.28152874, -0.04076406,\n",
              "        -0.0655301 ,  0.23947178,  0.04389069,  0.16564603, -0.38271973,\n",
              "        -0.3236284 ,  0.00184614, -0.15150341, -0.29030845, -0.17494808,\n",
              "        -0.1920072 , -0.11423212,  0.16833234,  0.06105424, -0.04452452,\n",
              "         0.22437726,  0.28089687, -0.06703775,  0.10765088,  0.14861007,\n",
              "         0.05527568, -0.19373685, -0.04238017, -0.21182996,  0.01571254,\n",
              "         0.16689126, -0.3546991 ,  0.03364808,  0.11758693,  0.17601685,\n",
              "        -0.05546058, -0.0998951 , -0.06570843,  0.191144  ,  0.16788332,\n",
              "        -0.14032246, -0.18546484, -0.24435943, -0.29418814,  0.02515033,\n",
              "        -0.22282608, -0.10027228,  0.15577203, -0.14960046,  0.18916456,\n",
              "         0.15212975,  0.01523546,  0.23370767, -0.45681083, -0.22715016,\n",
              "         0.04005737, -0.11618716, -0.12211725,  0.21050508,  0.2572911 ,\n",
              "         0.12874807,  0.16753392, -0.28457236,  0.2747394 ,  0.16771527,\n",
              "        -0.3509594 , -0.00048384,  0.1353543 ,  0.0787363 , -0.14599682,\n",
              "         0.20476627, -0.25058493, -0.03418854, -0.31408533, -0.06005706,\n",
              "        -0.01786257,  0.01182048, -0.08165034,  0.25253874, -0.10154412,\n",
              "         0.1899124 , -0.12163815,  0.01895659,  0.00692801,  0.37062147,\n",
              "         0.42347562,  0.06004384, -0.01161853, -0.08436605, -0.15988491,\n",
              "         0.0908706 , -0.18251157, -0.03723549,  0.11770604,  0.07594937],\n",
              "       dtype=float32),\n",
              " array([-1.86865732e-01, -4.90798987e-02, -9.34605077e-02, -1.78747743e-01,\n",
              "        -6.74077868e-02,  6.80840462e-02,  1.41851962e-01,  2.33733598e-02,\n",
              "        -1.85713693e-01, -2.66801231e-02, -4.45888229e-02,  1.59116760e-01,\n",
              "         2.94794478e-02,  1.13173582e-01, -2.54356652e-01, -2.15251178e-01,\n",
              "         3.09717678e-03, -9.75306779e-02, -1.89540669e-01, -1.14555620e-01,\n",
              "        -1.27285779e-01, -7.50479773e-02,  1.09667793e-01,  4.17517014e-02,\n",
              "        -2.85270624e-02,  1.49259388e-01,  1.84819192e-01, -4.30585593e-02,\n",
              "         7.27417916e-02,  9.71674919e-02,  3.48653719e-02, -1.27683729e-01,\n",
              "        -2.77895890e-02, -1.38599798e-01,  1.19862845e-02,  1.09667420e-01,\n",
              "        -2.35238388e-01,  2.26605255e-02,  7.74817765e-02,  1.16359435e-01,\n",
              "        -3.70440483e-02, -6.56231865e-02, -4.24166545e-02,  1.27550051e-01,\n",
              "         1.09821297e-01, -9.26069245e-02, -1.22530676e-01, -1.63680062e-01,\n",
              "        -1.95027307e-01,  1.86928753e-02, -1.45577535e-01, -6.78798854e-02,\n",
              "         1.00667760e-01, -1.00227796e-01,  1.23540714e-01,  1.00649610e-01,\n",
              "         9.14879330e-03,  1.56442553e-01, -3.00813615e-01, -1.50903761e-01,\n",
              "         2.77863201e-02, -7.67769068e-02, -7.90810362e-02,  1.40212178e-01,\n",
              "         1.69967502e-01,  8.40878934e-02,  1.13361835e-01, -1.85753852e-01,\n",
              "         1.82689875e-01,  1.12404726e-01, -2.32229188e-01, -2.43892238e-04,\n",
              "         9.18061361e-02,  5.03664613e-02, -9.68276411e-02,  1.36250272e-01,\n",
              "        -1.63221896e-01, -2.39327047e-02, -2.09159613e-01, -3.92213203e-02,\n",
              "        -1.42163662e-02,  5.92626026e-03, -5.41721992e-02,  1.68218300e-01,\n",
              "        -6.49201050e-02,  1.26605123e-01, -7.95503110e-02,  1.54253375e-02,\n",
              "         4.12484445e-03,  2.44322941e-01,  2.82192528e-01,  3.93443480e-02,\n",
              "        -8.39532726e-03, -5.59383556e-02, -1.04646161e-01,  6.25526235e-02,\n",
              "        -1.19810537e-01, -2.55975761e-02,  8.08922350e-02,  5.26460931e-02],\n",
              "       dtype=float32),\n",
              " array([-0.26022613, -0.069326  , -0.13185394, -0.25155798, -0.09647808,\n",
              "         0.09776571,  0.19747616,  0.0292223 , -0.26366225, -0.0382481 ,\n",
              "        -0.05868093,  0.21957958,  0.04259688,  0.15665871, -0.35653397,\n",
              "        -0.3033187 ,  0.00347924, -0.13789314, -0.26745477, -0.16359171,\n",
              "        -0.17735365, -0.10370548,  0.15971355,  0.05518097, -0.04464681,\n",
              "         0.21193974,  0.26284015, -0.06025251,  0.10046992,  0.14017735,\n",
              "         0.05048773, -0.17985709, -0.03895754, -0.19842389,  0.01478143,\n",
              "         0.15493885, -0.33119705,  0.03395826,  0.10732448,  0.165482  ,\n",
              "        -0.05401395, -0.09311003, -0.05775014,  0.17880479,  0.15461875,\n",
              "        -0.12956558, -0.16917193, -0.22729221, -0.27383476,  0.02390722,\n",
              "        -0.20938149, -0.09219675,  0.14503834, -0.14058635,  0.17526832,\n",
              "         0.14376421,  0.01255982,  0.21557042, -0.42676386, -0.20997874,\n",
              "         0.04078045, -0.11050098, -0.11017567,  0.19854   ,  0.24027213,\n",
              "         0.12067403,  0.15665552, -0.26532942,  0.2571422 ,  0.16068651,\n",
              "        -0.3278195 ,  0.00136706,  0.12448251,  0.07539934, -0.13415693,\n",
              "         0.19455601, -0.22986308, -0.03422066, -0.29445067, -0.05282913,\n",
              "        -0.01603242,  0.00970966, -0.07486029,  0.2373031 , -0.0924485 ,\n",
              "         0.17876776, -0.11213599,  0.02040193,  0.00734617,  0.34666187,\n",
              "         0.39110002,  0.05382698, -0.00811769, -0.07930376, -0.14692077,\n",
              "         0.08590249, -0.16935197, -0.03621853,  0.10954446,  0.07190066],\n",
              "       dtype=float32)]"
            ]
          },
          "metadata": {},
          "execution_count": 53
        }
      ]
    },
    {
      "cell_type": "code",
      "source": [
        "X[0]"
      ],
      "metadata": {
        "colab": {
          "base_uri": "https://localhost:8080/"
        },
        "id": "8Z7S58DtIiVO",
        "outputId": "eab7fef0-7074-4924-d527-4411b6e45322"
      },
      "execution_count": 54,
      "outputs": [
        {
          "output_type": "execute_result",
          "data": {
            "text/plain": [
              "array([-0.28086072, -0.07450065, -0.1414689 , -0.2716724 , -0.10589484,\n",
              "        0.10520037,  0.21387501,  0.03530839, -0.28152874, -0.04076406,\n",
              "       -0.0655301 ,  0.23947178,  0.04389069,  0.16564603, -0.38271973,\n",
              "       -0.3236284 ,  0.00184614, -0.15150341, -0.29030845, -0.17494808,\n",
              "       -0.1920072 , -0.11423212,  0.16833234,  0.06105424, -0.04452452,\n",
              "        0.22437726,  0.28089687, -0.06703775,  0.10765088,  0.14861007,\n",
              "        0.05527568, -0.19373685, -0.04238017, -0.21182996,  0.01571254,\n",
              "        0.16689126, -0.3546991 ,  0.03364808,  0.11758693,  0.17601685,\n",
              "       -0.05546058, -0.0998951 , -0.06570843,  0.191144  ,  0.16788332,\n",
              "       -0.14032246, -0.18546484, -0.24435943, -0.29418814,  0.02515033,\n",
              "       -0.22282608, -0.10027228,  0.15577203, -0.14960046,  0.18916456,\n",
              "        0.15212975,  0.01523546,  0.23370767, -0.45681083, -0.22715016,\n",
              "        0.04005737, -0.11618716, -0.12211725,  0.21050508,  0.2572911 ,\n",
              "        0.12874807,  0.16753392, -0.28457236,  0.2747394 ,  0.16771527,\n",
              "       -0.3509594 , -0.00048384,  0.1353543 ,  0.0787363 , -0.14599682,\n",
              "        0.20476627, -0.25058493, -0.03418854, -0.31408533, -0.06005706,\n",
              "       -0.01786257,  0.01182048, -0.08165034,  0.25253874, -0.10154412,\n",
              "        0.1899124 , -0.12163815,  0.01895659,  0.00692801,  0.37062147,\n",
              "        0.42347562,  0.06004384, -0.01161853, -0.08436605, -0.15988491,\n",
              "        0.0908706 , -0.18251157, -0.03723549,  0.11770604,  0.07594937],\n",
              "      dtype=float32)"
            ]
          },
          "metadata": {},
          "execution_count": 54
        }
      ]
    },
    {
      "cell_type": "code",
      "source": [
        "# now every full sentence is represented 100 dimension vector space\n",
        "X[0].shape"
      ],
      "metadata": {
        "colab": {
          "base_uri": "https://localhost:8080/"
        },
        "id": "GAxuCKytIrtQ",
        "outputId": "c27678c1-3196-4186-c094-be342c634d0c"
      },
      "execution_count": 55,
      "outputs": [
        {
          "output_type": "execute_result",
          "data": {
            "text/plain": [
              "(100,)"
            ]
          },
          "metadata": {},
          "execution_count": 55
        }
      ]
    },
    {
      "cell_type": "code",
      "source": [],
      "metadata": {
        "id": "5qcc3PUsIwP4"
      },
      "execution_count": null,
      "outputs": []
    }
  ]
}
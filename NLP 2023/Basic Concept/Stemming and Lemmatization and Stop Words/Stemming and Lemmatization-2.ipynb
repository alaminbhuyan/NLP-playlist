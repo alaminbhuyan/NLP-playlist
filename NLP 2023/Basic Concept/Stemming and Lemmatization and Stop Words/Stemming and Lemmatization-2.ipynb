{
 "cells": [
  {
   "cell_type": "code",
   "execution_count": 1,
   "id": "8af67acf",
   "metadata": {},
   "outputs": [],
   "source": [
    "import nltk\n",
    "from nltk.stem import PorterStemmer, WordNetLemmatizer\n",
    "from nltk.corpus import stopwords"
   ]
  },
  {
   "cell_type": "code",
   "execution_count": 2,
   "id": "4eb53de3",
   "metadata": {},
   "outputs": [],
   "source": [
    "paragraph = \"\"\"I have three visions for India. In 3000 years of our history, people from all over \n",
    "               the world have come and invaded us, captured our lands, conquered our minds. \n",
    "               From Alexander onwards, the Greeks, the Turks, the Moguls, the Portuguese, the British,\n",
    "               the French, the Dutch, all of them came and looted us, took over what was ours. \n",
    "               Yet we have not done this to any other nation. We have not conquered anyone. \n",
    "               We have not grabbed their land, their culture, \n",
    "               their history and tried to enforce our way of life on them. \n",
    "               Why? Because we respect the freedom of others.That is why my \n",
    "               first vision is that of freedom. I believe that India got its first vision of \n",
    "               this in 1857, when we started the War of Independence. It is this freedom that\n",
    "               we must protect and nurture and build on. If we are not free, no one will respect us.\n",
    "               My second vision for India’s development. For fifty years we have been a developing nation.\n",
    "               It is time we see ourselves as a developed nation. We are among the top 5 nations of the world\n",
    "               in terms of GDP. We have a 10 percent growth rate in most areas. Our poverty levels are falling.\n",
    "               Our achievements are being globally recognised today. Yet we lack the self-confidence to\n",
    "               see ourselves as a developed nation, self-reliant and self-assured. Isn’t this incorrect?\n",
    "               I have a third vision. India must stand up to the world. Because I believe that unless India \n",
    "               stands up to the world, no one will respect us. Only strength respects strength. We must be \n",
    "               strong not only as a military power but also as an economic power. Both must go hand-in-hand. \n",
    "               My good fortune was to have worked with three great minds. Dr. Vikram Sarabhai of the Dept. of \n",
    "               space, Professor Satish Dhawan, who succeeded him and Dr. Brahm Prakash, father of nuclear material.\n",
    "               I was lucky to have worked with all three of them closely and consider this the great opportunity of my life. \n",
    "               I see four milestones in my career\"\"\""
   ]
  },
  {
   "cell_type": "markdown",
   "id": "d18cbe32",
   "metadata": {},
   "source": [
    "## Sentence Tokenization"
   ]
  },
  {
   "cell_type": "code",
   "execution_count": 3,
   "id": "ec372279",
   "metadata": {},
   "outputs": [
    {
     "name": "stdout",
     "output_type": "stream",
     "text": [
      "['I have three visions for India.', 'In 3000 years of our history, people from all over \\n               the world have come and invaded us, captured our lands, conquered our minds.', 'From Alexander onwards, the Greeks, the Turks, the Moguls, the Portuguese, the British,\\n               the French, the Dutch, all of them came and looted us, took over what was ours.', 'Yet we have not done this to any other nation.', 'We have not conquered anyone.', 'We have not grabbed their land, their culture, \\n               their history and tried to enforce our way of life on them.', 'Why?', 'Because we respect the freedom of others.That is why my \\n               first vision is that of freedom.', 'I believe that India got its first vision of \\n               this in 1857, when we started the War of Independence.', 'It is this freedom that\\n               we must protect and nurture and build on.', 'If we are not free, no one will respect us.', 'My second vision for India’s development.', 'For fifty years we have been a developing nation.', 'It is time we see ourselves as a developed nation.', 'We are among the top 5 nations of the world\\n               in terms of GDP.', 'We have a 10 percent growth rate in most areas.', 'Our poverty levels are falling.', 'Our achievements are being globally recognised today.', 'Yet we lack the self-confidence to\\n               see ourselves as a developed nation, self-reliant and self-assured.', 'Isn’t this incorrect?', 'I have a third vision.', 'India must stand up to the world.', 'Because I believe that unless India \\n               stands up to the world, no one will respect us.', 'Only strength respects strength.', 'We must be \\n               strong not only as a military power but also as an economic power.', 'Both must go hand-in-hand.', 'My good fortune was to have worked with three great minds.', 'Dr. Vikram Sarabhai of the Dept.', 'of \\n               space, Professor Satish Dhawan, who succeeded him and Dr. Brahm Prakash, father of nuclear material.', 'I was lucky to have worked with all three of them closely and consider this the great opportunity of my life.', 'I see four milestones in my career']\n"
     ]
    }
   ],
   "source": [
    "# tokenization is a process to divide the paragraph into word or sentences\n",
    "\n",
    "sentences = nltk.sent_tokenize(text=paragraph)\n",
    "print(sentences)"
   ]
  },
  {
   "cell_type": "code",
   "execution_count": 4,
   "id": "abecbf99",
   "metadata": {},
   "outputs": [
    {
     "name": "stdout",
     "output_type": "stream",
     "text": [
      "<class 'list'>\n",
      "31\n"
     ]
    }
   ],
   "source": [
    "print(type(sentences)) \n",
    "print(len(sentences))"
   ]
  },
  {
   "cell_type": "code",
   "execution_count": 5,
   "id": "9af3eb58",
   "metadata": {},
   "outputs": [
    {
     "name": "stdout",
     "output_type": "stream",
     "text": [
      "I have three visions for India.\n",
      "In 3000 years of our history, people from all over \n",
      "               the world have come and invaded us, captured our lands, conquered our minds.\n",
      "From Alexander onwards, the Greeks, the Turks, the Moguls, the Portuguese, the British,\n",
      "               the French, the Dutch, all of them came and looted us, took over what was ours.\n",
      "Yet we have not done this to any other nation.\n",
      "We have not conquered anyone.\n",
      "We have not grabbed their land, their culture, \n",
      "               their history and tried to enforce our way of life on them.\n",
      "Why?\n",
      "Because we respect the freedom of others.That is why my \n",
      "               first vision is that of freedom.\n",
      "I believe that India got its first vision of \n",
      "               this in 1857, when we started the War of Independence.\n",
      "It is this freedom that\n",
      "               we must protect and nurture and build on.\n",
      "If we are not free, no one will respect us.\n",
      "My second vision for India’s development.\n",
      "For fifty years we have been a developing nation.\n",
      "It is time we see ourselves as a developed nation.\n",
      "We are among the top 5 nations of the world\n",
      "               in terms of GDP.\n",
      "We have a 10 percent growth rate in most areas.\n",
      "Our poverty levels are falling.\n",
      "Our achievements are being globally recognised today.\n",
      "Yet we lack the self-confidence to\n",
      "               see ourselves as a developed nation, self-reliant and self-assured.\n",
      "Isn’t this incorrect?\n",
      "I have a third vision.\n",
      "India must stand up to the world.\n",
      "Because I believe that unless India \n",
      "               stands up to the world, no one will respect us.\n",
      "Only strength respects strength.\n",
      "We must be \n",
      "               strong not only as a military power but also as an economic power.\n",
      "Both must go hand-in-hand.\n",
      "My good fortune was to have worked with three great minds.\n",
      "Dr. Vikram Sarabhai of the Dept.\n",
      "of \n",
      "               space, Professor Satish Dhawan, who succeeded him and Dr. Brahm Prakash, father of nuclear material.\n",
      "I was lucky to have worked with all three of them closely and consider this the great opportunity of my life.\n",
      "I see four milestones in my career\n"
     ]
    }
   ],
   "source": [
    "for sent in sentences:\n",
    "    print(sent)"
   ]
  },
  {
   "cell_type": "markdown",
   "id": "1633a174",
   "metadata": {},
   "source": [
    "## Word tokenization"
   ]
  },
  {
   "cell_type": "code",
   "execution_count": 6,
   "id": "58f7bf3a",
   "metadata": {},
   "outputs": [
    {
     "name": "stdout",
     "output_type": "stream",
     "text": [
      "['I', 'have', 'three', 'visions', 'for', 'India', '.', 'In', '3000', 'years', 'of', 'our', 'history', ',', 'people', 'from', 'all', 'over', 'the', 'world', 'have', 'come', 'and', 'invaded', 'us', ',', 'captured', 'our', 'lands', ',', 'conquered', 'our', 'minds', '.', 'From', 'Alexander', 'onwards', ',', 'the', 'Greeks', ',', 'the', 'Turks', ',', 'the', 'Moguls', ',', 'the', 'Portuguese', ',', 'the', 'British', ',', 'the', 'French', ',', 'the', 'Dutch', ',', 'all', 'of', 'them', 'came', 'and', 'looted', 'us', ',', 'took', 'over', 'what', 'was', 'ours', '.', 'Yet', 'we', 'have', 'not', 'done', 'this', 'to', 'any', 'other', 'nation', '.', 'We', 'have', 'not', 'conquered', 'anyone', '.', 'We', 'have', 'not', 'grabbed', 'their', 'land', ',', 'their', 'culture', ',', 'their', 'history', 'and', 'tried', 'to', 'enforce', 'our', 'way', 'of', 'life', 'on', 'them', '.', 'Why', '?', 'Because', 'we', 'respect', 'the', 'freedom', 'of', 'others.That', 'is', 'why', 'my', 'first', 'vision', 'is', 'that', 'of', 'freedom', '.', 'I', 'believe', 'that', 'India', 'got', 'its', 'first', 'vision', 'of', 'this', 'in', '1857', ',', 'when', 'we', 'started', 'the', 'War', 'of', 'Independence', '.', 'It', 'is', 'this', 'freedom', 'that', 'we', 'must', 'protect', 'and', 'nurture', 'and', 'build', 'on', '.', 'If', 'we', 'are', 'not', 'free', ',', 'no', 'one', 'will', 'respect', 'us', '.', 'My', 'second', 'vision', 'for', 'India', '’', 's', 'development', '.', 'For', 'fifty', 'years', 'we', 'have', 'been', 'a', 'developing', 'nation', '.', 'It', 'is', 'time', 'we', 'see', 'ourselves', 'as', 'a', 'developed', 'nation', '.', 'We', 'are', 'among', 'the', 'top', '5', 'nations', 'of', 'the', 'world', 'in', 'terms', 'of', 'GDP', '.', 'We', 'have', 'a', '10', 'percent', 'growth', 'rate', 'in', 'most', 'areas', '.', 'Our', 'poverty', 'levels', 'are', 'falling', '.', 'Our', 'achievements', 'are', 'being', 'globally', 'recognised', 'today', '.', 'Yet', 'we', 'lack', 'the', 'self-confidence', 'to', 'see', 'ourselves', 'as', 'a', 'developed', 'nation', ',', 'self-reliant', 'and', 'self-assured', '.', 'Isn', '’', 't', 'this', 'incorrect', '?', 'I', 'have', 'a', 'third', 'vision', '.', 'India', 'must', 'stand', 'up', 'to', 'the', 'world', '.', 'Because', 'I', 'believe', 'that', 'unless', 'India', 'stands', 'up', 'to', 'the', 'world', ',', 'no', 'one', 'will', 'respect', 'us', '.', 'Only', 'strength', 'respects', 'strength', '.', 'We', 'must', 'be', 'strong', 'not', 'only', 'as', 'a', 'military', 'power', 'but', 'also', 'as', 'an', 'economic', 'power', '.', 'Both', 'must', 'go', 'hand-in-hand', '.', 'My', 'good', 'fortune', 'was', 'to', 'have', 'worked', 'with', 'three', 'great', 'minds', '.', 'Dr.', 'Vikram', 'Sarabhai', 'of', 'the', 'Dept', '.', 'of', 'space', ',', 'Professor', 'Satish', 'Dhawan', ',', 'who', 'succeeded', 'him', 'and', 'Dr.', 'Brahm', 'Prakash', ',', 'father', 'of', 'nuclear', 'material', '.', 'I', 'was', 'lucky', 'to', 'have', 'worked', 'with', 'all', 'three', 'of', 'them', 'closely', 'and', 'consider', 'this', 'the', 'great', 'opportunity', 'of', 'my', 'life', '.', 'I', 'see', 'four', 'milestones', 'in', 'my', 'career']\n"
     ]
    }
   ],
   "source": [
    "all_word = nltk.word_tokenize(text=paragraph)\n",
    "print(all_word)"
   ]
  },
  {
   "cell_type": "code",
   "execution_count": 7,
   "id": "6dded330",
   "metadata": {},
   "outputs": [
    {
     "name": "stdout",
     "output_type": "stream",
     "text": [
      "399\n"
     ]
    }
   ],
   "source": [
    "print(len(all_word))"
   ]
  },
  {
   "cell_type": "markdown",
   "id": "817616ec",
   "metadata": {},
   "source": [
    "## Stop words"
   ]
  },
  {
   "cell_type": "code",
   "execution_count": 8,
   "id": "a813c376",
   "metadata": {},
   "outputs": [
    {
     "name": "stdout",
     "output_type": "stream",
     "text": [
      "['i', 'me', 'my', 'myself', 'we', 'our', 'ours', 'ourselves', 'you', \"you're\", \"you've\", \"you'll\", \"you'd\", 'your', 'yours', 'yourself', 'yourselves', 'he', 'him', 'his', 'himself', 'she', \"she's\", 'her', 'hers', 'herself', 'it', \"it's\", 'its', 'itself', 'they', 'them', 'their', 'theirs', 'themselves', 'what', 'which', 'who', 'whom', 'this', 'that', \"that'll\", 'these', 'those', 'am', 'is', 'are', 'was', 'were', 'be', 'been', 'being', 'have', 'has', 'had', 'having', 'do', 'does', 'did', 'doing', 'a', 'an', 'the', 'and', 'but', 'if', 'or', 'because', 'as', 'until', 'while', 'of', 'at', 'by', 'for', 'with', 'about', 'against', 'between', 'into', 'through', 'during', 'before', 'after', 'above', 'below', 'to', 'from', 'up', 'down', 'in', 'out', 'on', 'off', 'over', 'under', 'again', 'further', 'then', 'once', 'here', 'there', 'when', 'where', 'why', 'how', 'all', 'any', 'both', 'each', 'few', 'more', 'most', 'other', 'some', 'such', 'no', 'nor', 'not', 'only', 'own', 'same', 'so', 'than', 'too', 'very', 's', 't', 'can', 'will', 'just', 'don', \"don't\", 'should', \"should've\", 'now', 'd', 'll', 'm', 'o', 're', 've', 'y', 'ain', 'aren', \"aren't\", 'couldn', \"couldn't\", 'didn', \"didn't\", 'doesn', \"doesn't\", 'hadn', \"hadn't\", 'hasn', \"hasn't\", 'haven', \"haven't\", 'isn', \"isn't\", 'ma', 'mightn', \"mightn't\", 'mustn', \"mustn't\", 'needn', \"needn't\", 'shan', \"shan't\", 'shouldn', \"shouldn't\", 'wasn', \"wasn't\", 'weren', \"weren't\", 'won', \"won't\", 'wouldn', \"wouldn't\"]\n"
     ]
    }
   ],
   "source": [
    "# StopWords are those word that are not keep important rule in a pragraph or sentences\n",
    "\n",
    "stop_word = stopwords.words(\"english\")\n",
    "print(stop_word)"
   ]
  },
  {
   "cell_type": "markdown",
   "id": "7a376813",
   "metadata": {},
   "source": [
    "## Stemming"
   ]
  },
  {
   "cell_type": "code",
   "execution_count": 9,
   "id": "86b0bc72",
   "metadata": {},
   "outputs": [
    {
     "name": "stdout",
     "output_type": "stream",
     "text": [
      "['i three vision india .', 'in 3000 year histori , peopl world come invad us , captur land , conquer mind .', 'from alexand onward , greek , turk , mogul , portugues , british , french , dutch , came loot us , took .', 'yet done nation .', 'we conquer anyon .', 'we grab land , cultur , histori tri enforc way life .', 'whi ?', 'becaus respect freedom others.that first vision freedom .', 'i believ india got first vision 1857 , start war independ .', 'it freedom must protect nurtur build .', 'if free , one respect us .', 'my second vision india ’ develop .', 'for fifti year develop nation .', 'it time see develop nation .', 'we among top 5 nation world term gdp .', 'we 10 percent growth rate area .', 'our poverti level fall .', 'our achiev global recognis today .', 'yet lack self-confid see develop nation , self-reli self-assur .', 'isn ’ incorrect ?', 'i third vision .', 'india must stand world .', 'becaus i believ unless india stand world , one respect us .', 'onli strength respect strength .', 'we must strong militari power also econom power .', 'both must go hand-in-hand .', 'my good fortun work three great mind .', 'dr. vikram sarabhai dept .', 'space , professor satish dhawan , succeed dr. brahm prakash , father nuclear materi .', 'i lucki work three close consid great opportun life .', 'i see four mileston career']\n"
     ]
    }
   ],
   "source": [
    "# Setemming is nothing but a set of rules to make a words into its root form for understanding to machine\n",
    "# example: (biggest, bigger) -->  root form is (big)\n",
    "\n",
    "stemmer = PorterStemmer()\n",
    "for i in range(len(sentences)):\n",
    "    words = nltk.word_tokenize(text=sentences[i])\n",
    "    words = [stemmer.stem(word= word) for word in words if word not in set(stopwords.words(\"english\"))]\n",
    "    sentences[i] = \" \".join(words)\n",
    "print(sentences)"
   ]
  },
  {
   "cell_type": "code",
   "execution_count": 10,
   "id": "c71e6479",
   "metadata": {},
   "outputs": [
    {
     "name": "stdout",
     "output_type": "stream",
     "text": [
      "['i', 'three', 'vision', 'india', '.', 'in', '3000', 'year', 'histori', ',', 'peopl', 'world', 'come', 'invad', 'us', ',', 'captur', 'land', ',', 'conquer', 'mind', '.', 'from', 'alexand', 'onward', ',', 'greek', ',', 'turk', ',', 'mogul', ',', 'portugues', ',', 'british', ',', 'french', ',', 'dutch', ',', 'came', 'loot', 'us', ',', 'took', '.', 'yet', 'done', 'nation', '.', 'we', 'conquer', 'anyon', '.', 'we', 'grab', 'land', ',', 'cultur', ',', 'histori', 'tri', 'enforc', 'way', 'life', '.', 'whi', '?', 'becaus', 'respect', 'freedom', 'others.that', 'first', 'vision', 'freedom', '.', 'i', 'believ', 'india', 'got', 'first', 'vision', '1857', ',', 'start', 'war', 'independ', '.', 'it', 'freedom', 'must', 'protect', 'nurtur', 'build', '.', 'if', 'free', ',', 'one', 'respect', 'us', '.', 'my', 'second', 'vision', 'india', '’', 'develop', '.', 'for', 'fifti', 'year', 'develop', 'nation', '.', 'it', 'time', 'see', 'develop', 'nation', '.', 'we', 'among', 'top', '5', 'nation', 'world', 'term', 'gdp', '.', 'we', '10', 'percent', 'growth', 'rate', 'area', '.', 'our', 'poverti', 'level', 'fall', '.', 'our', 'achiev', 'global', 'recognis', 'today', '.', 'yet', 'lack', 'self-confid', 'see', 'develop', 'nation', ',', 'self-reli', 'self-assur', '.', 'isn', '’', 'incorrect', '?', 'i', 'third', 'vision', '.', 'india', 'must', 'stand', 'world', '.', 'becaus', 'i', 'believ', 'unless', 'india', 'stand', 'world', ',', 'one', 'respect', 'us', '.', 'onli', 'strength', 'respect', 'strength', '.', 'we', 'must', 'strong', 'militari', 'power', 'also', 'econom', 'power', '.', 'both', 'must', 'go', 'hand-in-hand', '.', 'my', 'good', 'fortun', 'work', 'three', 'great', 'mind', '.', 'dr.', 'vikram', 'sarabhai', 'dept', '.', 'space', ',', 'professor', 'satish', 'dhawan', ',', 'succeed', 'dr.', 'brahm', 'prakash', ',', 'father', 'nuclear', 'materi', '.', 'i', 'lucki', 'work', 'three', 'close', 'consid', 'great', 'opportun', 'life', '.', 'i', 'see', 'four', 'mileston', 'career']\n",
      "****************************************************************************************************\n",
      "i three vision india . in 3000 year histori , peopl world come invad us , captur land , conquer mind . from alexand onward , greek , turk , mogul , portugues , british , french , dutch , came loot us , took . yet done nation . we conquer anyon . we grab land , cultur , histori tri enforc way life . whi ? becaus respect freedom others.that first vision freedom . i believ india got first vision 1857 , start war independ . it freedom must protect nurtur build . if free , one respect us . my second vision india ’ develop . for fifti year develop nation . it time see develop nation . we among top 5 nation world term gdp . we 10 percent growth rate area . our poverti level fall . our achiev global recognis today . yet lack self-confid see develop nation , self-reli self-assur . isn ’ incorrect ? i third vision . india must stand world . becaus i believ unless india stand world , one respect us . onli strength respect strength . we must strong militari power also econom power . both must go hand-in-hand . my good fortun work three great mind . dr. vikram sarabhai dept . space , professor satish dhawan , succeed dr. brahm prakash , father nuclear materi . i lucki work three close consid great opportun life . i see four mileston career\n"
     ]
    }
   ],
   "source": [
    "# another way to do it\n",
    "sentences2 = [stemmer.stem(word=word) for word in all_word if word not in set(stop_word)]\n",
    "print(sentences2)\n",
    "print(\"*\"*100)\n",
    "print(\" \".join(sentences2))"
   ]
  },
  {
   "cell_type": "markdown",
   "id": "4cb0a087",
   "metadata": {},
   "source": [
    "## Lemmatization"
   ]
  },
  {
   "cell_type": "code",
   "execution_count": 11,
   "id": "ee9e2bca",
   "metadata": {},
   "outputs": [
    {
     "name": "stdout",
     "output_type": "stream",
     "text": [
      "['three vision india .', '3000 year histori , peopl world come invad u , captur land , conquer mind .', 'alexand onward , greek , turk , mogul , portugues , british , french , dutch , came loot u , took .', 'yet done nation .', 'conquer anyon .', 'grab land , cultur , histori tri enforc way life .', 'whi ?', 'becaus respect freedom others.that first vision freedom .', 'believ india got first vision 1857 , start war independ .', 'freedom must protect nurtur build .', 'free , one respect u .', 'second vision india ’ develop .', 'fifti year develop nation .', 'time see develop nation .', 'among top 5 nation world term gdp .', '10 percent growth rate area .', 'poverti level fall .', 'achiev global recognis today .', 'yet lack self-confid see develop nation , self-reli self-assur .', '’ incorrect ?', 'third vision .', 'india must stand world .', 'becaus believ unless india stand world , one respect u .', 'onli strength respect strength .', 'must strong militari power also econom power .', 'must go hand-in-hand .', 'good fortun work three great mind .', 'dr. vikram sarabhai dept .', 'space , professor satish dhawan , succeed dr. brahm prakash , father nuclear materi .', 'lucki work three close consid great opportun life .', 'see four mileston career']\n"
     ]
    }
   ],
   "source": [
    "# Lemmatization is same as stemming but lemmatization is more better than stemming\n",
    "\n",
    "lemmatizer = WordNetLemmatizer()\n",
    "\n",
    "for i in range(len(sentences)):\n",
    "    words = nltk.word_tokenize(text=sentences[i])\n",
    "    words = [lemmatizer.lemmatize(word= word) for word in words if word not in set(stopwords.words(\"english\"))]\n",
    "    sentences[i] = \" \".join(words)\n",
    "print(sentences)"
   ]
  },
  {
   "cell_type": "code",
   "execution_count": 12,
   "id": "cdd83f3e",
   "metadata": {},
   "outputs": [
    {
     "name": "stdout",
     "output_type": "stream",
     "text": [
      "['I', 'three', 'vision', 'India', '.', 'In', '3000', 'year', 'history', ',', 'people', 'world', 'come', 'invaded', 'u', ',', 'captured', 'land', ',', 'conquered', 'mind', '.', 'From', 'Alexander', 'onwards', ',', 'Greeks', ',', 'Turks', ',', 'Moguls', ',', 'Portuguese', ',', 'British', ',', 'French', ',', 'Dutch', ',', 'came', 'looted', 'u', ',', 'took', '.', 'Yet', 'done', 'nation', '.', 'We', 'conquered', 'anyone', '.', 'We', 'grabbed', 'land', ',', 'culture', ',', 'history', 'tried', 'enforce', 'way', 'life', '.', 'Why', '?', 'Because', 'respect', 'freedom', 'others.That', 'first', 'vision', 'freedom', '.', 'I', 'believe', 'India', 'got', 'first', 'vision', '1857', ',', 'started', 'War', 'Independence', '.', 'It', 'freedom', 'must', 'protect', 'nurture', 'build', '.', 'If', 'free', ',', 'one', 'respect', 'u', '.', 'My', 'second', 'vision', 'India', '’', 'development', '.', 'For', 'fifty', 'year', 'developing', 'nation', '.', 'It', 'time', 'see', 'developed', 'nation', '.', 'We', 'among', 'top', '5', 'nation', 'world', 'term', 'GDP', '.', 'We', '10', 'percent', 'growth', 'rate', 'area', '.', 'Our', 'poverty', 'level', 'falling', '.', 'Our', 'achievement', 'globally', 'recognised', 'today', '.', 'Yet', 'lack', 'self-confidence', 'see', 'developed', 'nation', ',', 'self-reliant', 'self-assured', '.', 'Isn', '’', 'incorrect', '?', 'I', 'third', 'vision', '.', 'India', 'must', 'stand', 'world', '.', 'Because', 'I', 'believe', 'unless', 'India', 'stand', 'world', ',', 'one', 'respect', 'u', '.', 'Only', 'strength', 'respect', 'strength', '.', 'We', 'must', 'strong', 'military', 'power', 'also', 'economic', 'power', '.', 'Both', 'must', 'go', 'hand-in-hand', '.', 'My', 'good', 'fortune', 'worked', 'three', 'great', 'mind', '.', 'Dr.', 'Vikram', 'Sarabhai', 'Dept', '.', 'space', ',', 'Professor', 'Satish', 'Dhawan', ',', 'succeeded', 'Dr.', 'Brahm', 'Prakash', ',', 'father', 'nuclear', 'material', '.', 'I', 'lucky', 'worked', 'three', 'closely', 'consider', 'great', 'opportunity', 'life', '.', 'I', 'see', 'four', 'milestone', 'career']\n",
      "****************************************************************************************************\n",
      "I three vision India . In 3000 year history , people world come invaded u , captured land , conquered mind . From Alexander onwards , Greeks , Turks , Moguls , Portuguese , British , French , Dutch , came looted u , took . Yet done nation . We conquered anyone . We grabbed land , culture , history tried enforce way life . Why ? Because respect freedom others.That first vision freedom . I believe India got first vision 1857 , started War Independence . It freedom must protect nurture build . If free , one respect u . My second vision India ’ development . For fifty year developing nation . It time see developed nation . We among top 5 nation world term GDP . We 10 percent growth rate area . Our poverty level falling . Our achievement globally recognised today . Yet lack self-confidence see developed nation , self-reliant self-assured . Isn ’ incorrect ? I third vision . India must stand world . Because I believe unless India stand world , one respect u . Only strength respect strength . We must strong military power also economic power . Both must go hand-in-hand . My good fortune worked three great mind . Dr. Vikram Sarabhai Dept . space , Professor Satish Dhawan , succeeded Dr. Brahm Prakash , father nuclear material . I lucky worked three closely consider great opportunity life . I see four milestone career\n"
     ]
    }
   ],
   "source": [
    "# another way to do it\n",
    "sentences3 = [lemmatizer.lemmatize(word=word) for word in all_word if word not in set(stop_word)]\n",
    "print(sentences3)\n",
    "print(\"*\"*100)\n",
    "print(\" \".join(sentences3))"
   ]
  },
  {
   "cell_type": "code",
   "execution_count": null,
   "id": "5ca6bbb8",
   "metadata": {},
   "outputs": [],
   "source": []
  }
 ],
 "metadata": {
  "kernelspec": {
   "display_name": "Python 3",
   "language": "python",
   "name": "python3"
  },
  "language_info": {
   "codemirror_mode": {
    "name": "ipython",
    "version": 3
   },
   "file_extension": ".py",
   "mimetype": "text/x-python",
   "name": "python",
   "nbconvert_exporter": "python",
   "pygments_lexer": "ipython3",
   "version": "3.9.7"
  }
 },
 "nbformat": 4,
 "nbformat_minor": 5
}

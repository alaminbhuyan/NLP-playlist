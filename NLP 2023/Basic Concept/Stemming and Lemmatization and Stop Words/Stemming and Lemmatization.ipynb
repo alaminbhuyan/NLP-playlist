{
 "cells": [
  {
   "cell_type": "code",
   "execution_count": null,
   "metadata": {
    "id": "zljMDPD3bhq-"
   },
   "outputs": [],
   "source": [
    "# !pip install --upgrade pandas\n",
    "# !pip install --upgrade numpy\n",
    "# !pip install --upgrade matplotlib\n",
    "# !pip install --upgrade seaborn\n",
    "# !pip install --upgrade scikit-learn\n",
    "# !pip install --upgrade inflect\n",
    "# !pip install --upgrade nltk\n",
    "# !pip install --upgrade textblob"
   ]
  },
  {
   "cell_type": "code",
   "execution_count": null,
   "metadata": {
    "id": "IeIdH6h7btJt"
   },
   "outputs": [],
   "source": [
    "# import nltk\n",
    "# nltk.download('all')"
   ]
  },
  {
   "cell_type": "markdown",
   "metadata": {
    "id": "gu4jz3MxdV7n"
   },
   "source": [
    "***Stemming is the process of producing morphological variants of a root/base word. Stemming programs are commonly referred to as stemming algorithms or stemmers. A stemming algorithm reduces the words “chocolates”, “chocolatey”, “choco” to the root word, “chocolate” and “retrieval”, “retrieved”, “retrieves” reduce to the stem “retrieve”. Stemming is an important part of the pipelining process in Natural language processing. The input to the stemmer is tokenized words. How do we get these tokenized words? Well, tokenization involves breaking down the document into different words. To know in detail about tokenization and its working refer the article :***"
   ]
  },
  {
   "cell_type": "markdown",
   "metadata": {
    "id": "tNLyGFhgde3t"
   },
   "source": [
    "![image.png](data:image/png;base64,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)"
   ]
  },
  {
   "cell_type": "markdown",
   "metadata": {
    "id": "3CHtj4e8fSBF"
   },
   "source": [
    "***Errors in Stemming:***\n",
    "\n",
    "**There are mainly two errors in stemming – Overstemming and Understemming. Overstemming occurs when two words are stemmed to same root that are of different stems. Under-stemming occurs when two words are stemmed to same root that are not of different stems.**"
   ]
  },
  {
   "cell_type": "code",
   "execution_count": 3,
   "metadata": {
    "executionInfo": {
     "elapsed": 1181,
     "status": "ok",
     "timestamp": 1617818574050,
     "user": {
      "displayName": "Al Amin",
      "photoUrl": "https://lh3.googleusercontent.com/a-/AOh14GiMB6CqgQqINGrgkLYU8ftIloMfHO5LgiFZgCAUSg=s64",
      "userId": "17120997331533597303"
     },
     "user_tz": -360
    },
    "id": "cT_K70oTcb-1"
   },
   "outputs": [],
   "source": [
    "from nltk.stem import PorterStemmer\n",
    "from nltk.tokenize import word_tokenize"
   ]
  },
  {
   "cell_type": "code",
   "execution_count": 4,
   "metadata": {
    "colab": {
     "base_uri": "https://localhost:8080/"
    },
    "executionInfo": {
     "elapsed": 1164,
     "status": "ok",
     "timestamp": 1617818664391,
     "user": {
      "displayName": "Al Amin",
      "photoUrl": "https://lh3.googleusercontent.com/a-/AOh14GiMB6CqgQqINGrgkLYU8ftIloMfHO5LgiFZgCAUSg=s64",
      "userId": "17120997331533597303"
     },
     "user_tz": -360
    },
    "id": "DEs72hXggFPY",
    "outputId": "eba8b3db-5241-4ee5-9bd6-cefed838bdd2"
   },
   "outputs": [
    {
     "name": "stdout",
     "output_type": "stream",
     "text": [
      "program : program\n",
      "programs : program\n",
      "programer : program\n",
      "programing : program\n",
      "programers : program\n"
     ]
    }
   ],
   "source": [
    "ps = PorterStemmer()\n",
    "\n",
    "# take some words\n",
    "words = [\"program\", \"programs\", \"programer\", \"programing\", \"programers\"]\n",
    "\n",
    "for word in words:\n",
    "    print(f\"{word} : {ps.stem(word)}\")"
   ]
  },
  {
   "cell_type": "code",
   "execution_count": 7,
   "metadata": {
    "executionInfo": {
     "elapsed": 1178,
     "status": "ok",
     "timestamp": 1617818827978,
     "user": {
      "displayName": "Al Amin",
      "photoUrl": "https://lh3.googleusercontent.com/a-/AOh14GiMB6CqgQqINGrgkLYU8ftIloMfHO5LgiFZgCAUSg=s64",
      "userId": "17120997331533597303"
     },
     "user_tz": -360
    },
    "id": "gIkfjISogbO6"
   },
   "outputs": [],
   "source": [
    "# stemming word from sentence\n",
    "from nltk.stem import PorterStemmer\n",
    "from nltk.tokenize import word_tokenize"
   ]
  },
  {
   "cell_type": "code",
   "execution_count": 8,
   "metadata": {
    "colab": {
     "base_uri": "https://localhost:8080/"
    },
    "executionInfo": {
     "elapsed": 1008,
     "status": "ok",
     "timestamp": 1617818858780,
     "user": {
      "displayName": "Al Amin",
      "photoUrl": "https://lh3.googleusercontent.com/a-/AOh14GiMB6CqgQqINGrgkLYU8ftIloMfHO5LgiFZgCAUSg=s64",
      "userId": "17120997331533597303"
     },
     "user_tz": -360
    },
    "id": "FdAzhngKgw3y",
    "outputId": "f9fcd3b1-144f-4e0c-a51c-7c160ba70deb"
   },
   "outputs": [
    {
     "name": "stdout",
     "output_type": "stream",
     "text": [
      "Programers : program\n",
      "program : program\n",
      "with : with\n",
      "programing : program\n",
      "languages : languag\n"
     ]
    }
   ],
   "source": [
    "ps = PorterStemmer()\n",
    "sentence = \"Programers program with programing languages\"\n",
    "words = word_tokenize(sentence)\n",
    "for word in words:\n",
    "    print(f\"{word} : {ps.stem(word)}\")"
   ]
  },
  {
   "cell_type": "markdown",
   "metadata": {
    "id": "ONehIVzWhXJX"
   },
   "source": [
    "# **Lemmatization with NLTK**"
   ]
  },
  {
   "cell_type": "markdown",
   "metadata": {
    "id": "F3k5SrX8hoxR"
   },
   "source": [
    "Lemmatization is the process of grouping together the different inflected forms of a word so they can be analysed as a single item. Lemmatization is similar to stemming but it brings context to the words. So it links words with similar meaning to one word.\n",
    "\n",
    "Text preprocessing includes both Stemming as well as Lemmatization. Many times people find these two terms confusing. Some treat these two as same. Actually, lemmatization is preferred over Stemming because lemmatization does morphological analysis of the words."
   ]
  },
  {
   "cell_type": "markdown",
   "metadata": {
    "id": "hoQA0aA9huS3"
   },
   "source": [
    "![image.png](data:image/png;base64,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)"
   ]
  },
  {
   "cell_type": "code",
   "execution_count": 9,
   "metadata": {
    "executionInfo": {
     "elapsed": 1472,
     "status": "ok",
     "timestamp": 1617819090382,
     "user": {
      "displayName": "Al Amin",
      "photoUrl": "https://lh3.googleusercontent.com/a-/AOh14GiMB6CqgQqINGrgkLYU8ftIloMfHO5LgiFZgCAUSg=s64",
      "userId": "17120997331533597303"
     },
     "user_tz": -360
    },
    "id": "sRjntK4NhLCC"
   },
   "outputs": [],
   "source": [
    "from nltk.stem import WordNetLemmatizer"
   ]
  },
  {
   "cell_type": "code",
   "execution_count": 11,
   "metadata": {
    "colab": {
     "base_uri": "https://localhost:8080/"
    },
    "executionInfo": {
     "elapsed": 2827,
     "status": "ok",
     "timestamp": 1617819206588,
     "user": {
      "displayName": "Al Amin",
      "photoUrl": "https://lh3.googleusercontent.com/a-/AOh14GiMB6CqgQqINGrgkLYU8ftIloMfHO5LgiFZgCAUSg=s64",
      "userId": "17120997331533597303"
     },
     "user_tz": -360
    },
    "id": "VMf8fhb9iDed",
    "outputId": "394c404a-e5c3-413c-a6bd-123003bd6f02"
   },
   "outputs": [
    {
     "name": "stdout",
     "output_type": "stream",
     "text": [
      "rocks : rock\n",
      "corpora : corpus\n",
      "better : good\n"
     ]
    }
   ],
   "source": [
    "lemmatizer = WordNetLemmatizer()\n",
    "\n",
    "print(f\"rocks : {lemmatizer.lemmatize('rocks')}\")\n",
    "print(f\"corpora : {lemmatizer.lemmatize('corpora')}\")\n",
    "print(f\"better : {lemmatizer.lemmatize(word='better',pos='a')}\") # pos = part of speech"
   ]
  },
  {
   "cell_type": "code",
   "execution_count": 13,
   "metadata": {
    "colab": {
     "base_uri": "https://localhost:8080/"
    },
    "executionInfo": {
     "elapsed": 1003,
     "status": "ok",
     "timestamp": 1617819492247,
     "user": {
      "displayName": "Al Amin",
      "photoUrl": "https://lh3.googleusercontent.com/a-/AOh14GiMB6CqgQqINGrgkLYU8ftIloMfHO5LgiFZgCAUSg=s64",
      "userId": "17120997331533597303"
     },
     "user_tz": -360
    },
    "id": "yaobNx3iifgg",
    "outputId": "de4a91d3-cbcb-4fec-9d9b-53220561d044"
   },
   "outputs": [
    {
     "name": "stdout",
     "output_type": "stream",
     "text": [
      "rocks : rock\n",
      "corpora : corpus\n",
      "better : good\n"
     ]
    }
   ],
   "source": [
    "# from textblob lib import Word method\n",
    "from textblob import Word\n",
    "  \n",
    "# create a Word object.\n",
    "u = Word(\"rocks\")\n",
    "  \n",
    "# apply lemmatization.\n",
    "print(\"rocks :\", u.lemmatize())\n",
    "  \n",
    "# create a Word object.\n",
    "v = Word(\"corpora\")\n",
    "  \n",
    "# apply lemmatization.\n",
    "print(\"corpora :\", v.lemmatize())\n",
    "  \n",
    "# create a Word object.\n",
    "w = Word(\"better\")\n",
    "   \n",
    "# apply lemmatization with \n",
    "# parameter \"a\", \"a\" denotes adjective.\n",
    "print(\"better :\", w.lemmatize(\"a\"))"
   ]
  },
  {
   "cell_type": "markdown",
   "metadata": {
    "id": "nbac0qnWkofb"
   },
   "source": [
    "# **How to get synonyms/antonyms from NLTK WordNet in Python?**"
   ]
  },
  {
   "cell_type": "code",
   "execution_count": 14,
   "metadata": {
    "executionInfo": {
     "elapsed": 1182,
     "status": "ok",
     "timestamp": 1617819821802,
     "user": {
      "displayName": "Al Amin",
      "photoUrl": "https://lh3.googleusercontent.com/a-/AOh14GiMB6CqgQqINGrgkLYU8ftIloMfHO5LgiFZgCAUSg=s64",
      "userId": "17120997331533597303"
     },
     "user_tz": -360
    },
    "id": "VGhVsWerjlsK"
   },
   "outputs": [],
   "source": [
    "from nltk.corpus import wordnet"
   ]
  },
  {
   "cell_type": "code",
   "execution_count": 15,
   "metadata": {
    "colab": {
     "base_uri": "https://localhost:8080/"
    },
    "executionInfo": {
     "elapsed": 953,
     "status": "ok",
     "timestamp": 1617819915387,
     "user": {
      "displayName": "Al Amin",
      "photoUrl": "https://lh3.googleusercontent.com/a-/AOh14GiMB6CqgQqINGrgkLYU8ftIloMfHO5LgiFZgCAUSg=s64",
      "userId": "17120997331533597303"
     },
     "user_tz": -360
    },
    "id": "xDS7-oGek2HV",
    "outputId": "c59b6930-8db3-4be0-e681-3af92abcf834"
   },
   "outputs": [
    {
     "name": "stdout",
     "output_type": "stream",
     "text": [
      "<bound method Synset.name of Synset('plan.n.01')>\n"
     ]
    }
   ],
   "source": [
    "# Then, we're going to use the term \"program\" to find synsets like so:\n",
    "syns = wordnet.synsets('program')\n",
    "\n",
    "# An example of a synset:\n",
    "print(syns[0].name)"
   ]
  },
  {
   "cell_type": "code",
   "execution_count": 16,
   "metadata": {
    "colab": {
     "base_uri": "https://localhost:8080/"
    },
    "executionInfo": {
     "elapsed": 820,
     "status": "ok",
     "timestamp": 1617819972917,
     "user": {
      "displayName": "Al Amin",
      "photoUrl": "https://lh3.googleusercontent.com/a-/AOh14GiMB6CqgQqINGrgkLYU8ftIloMfHO5LgiFZgCAUSg=s64",
      "userId": "17120997331533597303"
     },
     "user_tz": -360
    },
    "id": "zpIE1VHhlM_y",
    "outputId": "abe3e52e-870c-4364-9f96-1dcdbadda1fd"
   },
   "outputs": [
    {
     "name": "stdout",
     "output_type": "stream",
     "text": [
      "plan\n"
     ]
    }
   ],
   "source": [
    "# Just the word:\n",
    "print(syns[0].lemmas()[0].name())"
   ]
  },
  {
   "cell_type": "code",
   "execution_count": 19,
   "metadata": {
    "colab": {
     "base_uri": "https://localhost:8080/"
    },
    "executionInfo": {
     "elapsed": 1360,
     "status": "ok",
     "timestamp": 1617820041400,
     "user": {
      "displayName": "Al Amin",
      "photoUrl": "https://lh3.googleusercontent.com/a-/AOh14GiMB6CqgQqINGrgkLYU8ftIloMfHO5LgiFZgCAUSg=s64",
      "userId": "17120997331533597303"
     },
     "user_tz": -360
    },
    "id": "ZP36wiTPlbGI",
    "outputId": "28ab3186-4165-4b8c-ff94-c6729ae490ce"
   },
   "outputs": [
    {
     "name": "stdout",
     "output_type": "stream",
     "text": [
      "a series of steps to be carried out or goals to be accomplished\n",
      "----------------------------------------------------------------------\n",
      "['they drew up a six-step plan', 'they discussed plans for a new bond issue']\n"
     ]
    }
   ],
   "source": [
    "# Definition of that first synset:\n",
    "print(syns[0].definition())\n",
    "print('-'*70)\n",
    "# Examples of the word in use in sentences:\n",
    "print(syns[0].examples())"
   ]
  },
  {
   "cell_type": "code",
   "execution_count": 20,
   "metadata": {
    "colab": {
     "base_uri": "https://localhost:8080/"
    },
    "executionInfo": {
     "elapsed": 1541,
     "status": "ok",
     "timestamp": 1617820121271,
     "user": {
      "displayName": "Al Amin",
      "photoUrl": "https://lh3.googleusercontent.com/a-/AOh14GiMB6CqgQqINGrgkLYU8ftIloMfHO5LgiFZgCAUSg=s64",
      "userId": "17120997331533597303"
     },
     "user_tz": -360
    },
    "id": "s13IB4KollHS",
    "outputId": "31448743-ea02-4241-e6a9-0419d9b9ab2c"
   },
   "outputs": [
    {
     "name": "stdout",
     "output_type": "stream",
     "text": [
      "{'beneficial', 'dependable', 'ripe', 'honorable', 'soundly', 'commodity', 'respectable', 'expert', 'estimable', 'right', 'skillful', 'just', 'safe', 'effective', 'practiced', 'in_force', 'unspoilt', 'secure', 'salutary', 'thoroughly', 'near', 'good', 'trade_good', 'dear', 'goodness', 'full', 'adept', 'well', 'in_effect', 'serious', 'skilful', 'unspoiled', 'honest', 'sound', 'proficient', 'undecomposed', 'upright'}\n",
      "{'ill', 'badness', 'bad', 'evilness', 'evil'}\n"
     ]
    }
   ],
   "source": [
    "import nltk\n",
    "from nltk.corpus import wordnet\n",
    "synonyms = []\n",
    "antonyms = []\n",
    "  \n",
    "for syn in wordnet.synsets(\"good\"):\n",
    "    for l in syn.lemmas():\n",
    "        synonyms.append(l.name())\n",
    "        if l.antonyms():\n",
    "            antonyms.append(l.antonyms()[0].name())\n",
    "  \n",
    "print(set(synonyms))\n",
    "print(set(antonyms))"
   ]
  },
  {
   "cell_type": "code",
   "execution_count": 21,
   "metadata": {
    "colab": {
     "base_uri": "https://localhost:8080/"
    },
    "executionInfo": {
     "elapsed": 1162,
     "status": "ok",
     "timestamp": 1617820171999,
     "user": {
      "displayName": "Al Amin",
      "photoUrl": "https://lh3.googleusercontent.com/a-/AOh14GiMB6CqgQqINGrgkLYU8ftIloMfHO5LgiFZgCAUSg=s64",
      "userId": "17120997331533597303"
     },
     "user_tz": -360
    },
    "id": "ktevlJhAl_Id",
    "outputId": "25af2f17-697f-4dbd-9769-bd76e7e8a79a"
   },
   "outputs": [
    {
     "name": "stdout",
     "output_type": "stream",
     "text": [
      "0.8571428571428571\n"
     ]
    }
   ],
   "source": [
    "## Now , let’s compare the similarity index of any two words\n",
    "\n",
    "\n",
    "import nltk\n",
    "from nltk.corpus import wordnet\n",
    "# Let's compare the noun of \"ship\" and \"boat:\"\n",
    "  \n",
    "w1 = wordnet.synset('run.v.01') # v here denotes the tag verb\n",
    "w2 = wordnet.synset('sprint.v.01')\n",
    "print(w1.wup_similarity(w2))"
   ]
  },
  {
   "cell_type": "code",
   "execution_count": 22,
   "metadata": {
    "colab": {
     "base_uri": "https://localhost:8080/"
    },
    "executionInfo": {
     "elapsed": 1379,
     "status": "ok",
     "timestamp": 1617820184940,
     "user": {
      "displayName": "Al Amin",
      "photoUrl": "https://lh3.googleusercontent.com/a-/AOh14GiMB6CqgQqINGrgkLYU8ftIloMfHO5LgiFZgCAUSg=s64",
      "userId": "17120997331533597303"
     },
     "user_tz": -360
    },
    "id": "W56wK8dWmLnm",
    "outputId": "d50e5551-0673-4575-b720-94f58f07ac87"
   },
   "outputs": [
    {
     "name": "stdout",
     "output_type": "stream",
     "text": [
      "0.9090909090909091\n"
     ]
    }
   ],
   "source": [
    "\n",
    "w1 = wordnet.synset('ship.n.01')\n",
    "w2 = wordnet.synset('boat.n.01') # n denotes noun\n",
    "print(w1.wup_similarity(w2))"
   ]
  },
  {
   "cell_type": "code",
   "execution_count": null,
   "metadata": {
    "id": "7yWqaZvEmOgG"
   },
   "outputs": [],
   "source": []
  }
 ],
 "metadata": {
  "colab": {
   "authorship_tag": "ABX9TyMSd29/039EJEFqaKw3BpGo",
   "name": "Stemming and Lemmatization.ipynb",
   "provenance": []
  },
  "kernelspec": {
   "display_name": "Python 3",
   "language": "python",
   "name": "python3"
  },
  "language_info": {
   "codemirror_mode": {
    "name": "ipython",
    "version": 3
   },
   "file_extension": ".py",
   "mimetype": "text/x-python",
   "name": "python",
   "nbconvert_exporter": "python",
   "pygments_lexer": "ipython3",
   "version": "3.9.5"
  }
 },
 "nbformat": 4,
 "nbformat_minor": 1
}
